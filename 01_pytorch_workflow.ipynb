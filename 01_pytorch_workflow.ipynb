{
  "nbformat": 4,
  "nbformat_minor": 0,
  "metadata": {
    "colab": {
      "provenance": [],
      "authorship_tag": "ABX9TyOL7Dzr61GGlXbGsTy7Lc/a",
      "include_colab_link": true
    },
    "kernelspec": {
      "name": "python3",
      "display_name": "Python 3"
    },
    "language_info": {
      "name": "python"
    }
  },
  "cells": [
    {
      "cell_type": "markdown",
      "metadata": {
        "id": "view-in-github",
        "colab_type": "text"
      },
      "source": [
        "<a href=\"https://colab.research.google.com/github/patrickabadi/python-pytorch-notebooks/blob/main/01_pytorch_workflow.ipynb\" target=\"_parent\"><img src=\"https://colab.research.google.com/assets/colab-badge.svg\" alt=\"Open In Colab\"/></a>"
      ]
    },
    {
      "cell_type": "code",
      "execution_count": null,
      "metadata": {
        "id": "IP8keNlblbpn"
      },
      "outputs": [],
      "source": [
        "what_were_covering = {\n",
        "    1: \"data (prepare and load)\",\n",
        "    2: \"build model\",\n",
        "    3: \"fitting the model to data (training)\",\n",
        "    4: \"making predictions and evaluating a model (inference)\",\n",
        "    5: \"saving and loading a model\",\n",
        "    6: \"putting it all together\"\n",
        "}"
      ]
    },
    {
      "cell_type": "code",
      "source": [
        "import torch\n",
        "import torch.nn as nn\n",
        "import matplotlib.pyplot as plt\n",
        "\n",
        "torch.__version__\n"
      ],
      "metadata": {
        "colab": {
          "base_uri": "https://localhost:8080/",
          "height": 36
        },
        "id": "MnEEDghnml-m",
        "outputId": "9ca68d36-f8f3-4965-fa60-0edeed30a990"
      },
      "execution_count": null,
      "outputs": [
        {
          "output_type": "execute_result",
          "data": {
            "text/plain": [
              "'1.13.1+cu116'"
            ],
            "application/vnd.google.colaboratory.intrinsic+json": {
              "type": "string"
            }
          },
          "metadata": {},
          "execution_count": 2
        }
      ]
    },
    {
      "cell_type": "markdown",
      "source": [
        "## Preparing and loading data"
      ],
      "metadata": {
        "id": "V4i05cFLm_yc"
      }
    },
    {
      "cell_type": "code",
      "source": [
        "# known parameters\n",
        "weight = 0.7\n",
        "bias = 0.3\n",
        "\n",
        "# create\n",
        "start = 0\n",
        "end = 1\n",
        "step = 0.02\n",
        "X = torch.arange(start, end, step).unsqueeze(dim=1)\n",
        "y = weight*X + bias\n",
        "\n",
        "X[:10], y[:10]"
      ],
      "metadata": {
        "colab": {
          "base_uri": "https://localhost:8080/"
        },
        "id": "qY3orv5rnGRo",
        "outputId": "9b704154-c161-454e-94df-35bb72eb294e"
      },
      "execution_count": null,
      "outputs": [
        {
          "output_type": "execute_result",
          "data": {
            "text/plain": [
              "(tensor([[0.0000],\n",
              "         [0.0200],\n",
              "         [0.0400],\n",
              "         [0.0600],\n",
              "         [0.0800],\n",
              "         [0.1000],\n",
              "         [0.1200],\n",
              "         [0.1400],\n",
              "         [0.1600],\n",
              "         [0.1800]]), tensor([[0.3000],\n",
              "         [0.3140],\n",
              "         [0.3280],\n",
              "         [0.3420],\n",
              "         [0.3560],\n",
              "         [0.3700],\n",
              "         [0.3840],\n",
              "         [0.3980],\n",
              "         [0.4120],\n",
              "         [0.4260]]))"
            ]
          },
          "metadata": {},
          "execution_count": 3
        }
      ]
    },
    {
      "cell_type": "markdown",
      "source": [
        "### splitting data into training and test sets"
      ],
      "metadata": {
        "id": "YAp_W6t-pvVT"
      }
    },
    {
      "cell_type": "code",
      "source": [
        "# create train/test split\n",
        "train_split = int(0.8*len(X))\n",
        "\n",
        "X_train, y_train = X[:train_split], y[:train_split]\n",
        "X_test, y_test = X[train_split:], y[train_split:]\n",
        "\n",
        "len(X_train), len(y_train), len(X_test), len(y_test)\n"
      ],
      "metadata": {
        "colab": {
          "base_uri": "https://localhost:8080/"
        },
        "id": "prMtPgePquye",
        "outputId": "4de54c8e-d733-41c2-a8b9-f3c322fc400d"
      },
      "execution_count": null,
      "outputs": [
        {
          "output_type": "execute_result",
          "data": {
            "text/plain": [
              "(40, 40, 10, 10)"
            ]
          },
          "metadata": {},
          "execution_count": 4
        }
      ]
    },
    {
      "cell_type": "code",
      "source": [
        "def plot_predictions(train_data=X_train, \n",
        "                     train_labels=y_train,\n",
        "                     test_data=X_test,\n",
        "                     test_labels=y_test,\n",
        "                     predictions = None):\n",
        "  plt.figure(figsize=(10,7))\n",
        "\n",
        "  plt.scatter(train_data, train_labels, c=\"b\", s=4, label=\"training_data\")\n",
        "\n",
        "  plt.scatter(test_data, test_labels, c=\"g\", s=4, label=\"testing data\")\n",
        "\n",
        "  if predictions is not None:\n",
        "    plt.scatter(test_data, predictions, c=\"r\", s=4, label = \"predictions\")\n",
        "\n",
        "  plt.legend(prop={\"size\": 14})"
      ],
      "metadata": {
        "id": "b4iF5ws78ZVC"
      },
      "execution_count": null,
      "outputs": []
    },
    {
      "cell_type": "code",
      "source": [
        "plot_predictions();"
      ],
      "metadata": {
        "colab": {
          "base_uri": "https://localhost:8080/",
          "height": 428
        },
        "id": "8Nux1JdM9xgb",
        "outputId": "3cec0ee9-77ca-400f-9342-e13c737928fc"
      },
      "execution_count": null,
      "outputs": [
        {
          "output_type": "display_data",
          "data": {
            "text/plain": [
              "<Figure size 720x504 with 1 Axes>"
            ],
            "image/png": "[encoded data removed]"
          },
          "metadata": {
            "needs_background": "light"
          }
        }
      ]
    },
    {
      "cell_type": "markdown",
      "source": [
        "## our first pytorch model"
      ],
      "metadata": {
        "id": "280EE7gH_LwJ"
      }
    },
    {
      "cell_type": "code",
      "source": [
        "class LinearRegressionModel(nn.Module):\n",
        "  def __init__(self):\n",
        "    super().__init__()\n",
        "    self.weights = nn.Parameter(torch.randn(1, \n",
        "                                            requires_grad=True,\n",
        "                                            dtype = torch.float))\n",
        "    self.bias = nn.Parameter(torch.rand(1, \n",
        "                                            requires_grad=True,\n",
        "                                            dtype = torch.float))\n",
        "    \n",
        "  def forward(self, x: torch.Tensor) -> torch.Tensor:\n",
        "    return self.weights * x + self.bias\n",
        "\n",
        "    "
      ],
      "metadata": {
        "id": "nWVeXDGw_PcI"
      },
      "execution_count": null,
      "outputs": []
    },
    {
      "cell_type": "code",
      "source": [
        "# create a random seed\n",
        "torch.manual_seed(42)\n",
        "\n",
        "model_0 = LinearRegressionModel()\n",
        "\n",
        "list(model_0.parameters())"
      ],
      "metadata": {
        "colab": {
          "base_uri": "https://localhost:8080/"
        },
        "id": "qSJMEXxwFb0j",
        "outputId": "a005d5b6-1c28-4fe5-d5cc-e05510842566"
      },
      "execution_count": null,
      "outputs": [
        {
          "output_type": "execute_result",
          "data": {
            "text/plain": [
              "[Parameter containing:\n",
              " tensor([0.3367], requires_grad=True), Parameter containing:\n",
              " tensor([0.3904], requires_grad=True)]"
            ]
          },
          "metadata": {},
          "execution_count": 8
        }
      ]
    },
    {
      "cell_type": "code",
      "source": [
        "with torch.inference_mode():\n",
        "  y_preds = model_0(X_test)\n",
        "\n",
        "y_preds"
      ],
      "metadata": {
        "colab": {
          "base_uri": "https://localhost:8080/"
        },
        "id": "65LcRz8xKyFC",
        "outputId": "d7e62a61-1b78-4a53-af74-6a7d07ba6419"
      },
      "execution_count": null,
      "outputs": [
        {
          "output_type": "execute_result",
          "data": {
            "text/plain": [
              "tensor([[0.6598],\n",
              "        [0.6665],\n",
              "        [0.6733],\n",
              "        [0.6800],\n",
              "        [0.6867],\n",
              "        [0.6935],\n",
              "        [0.7002],\n",
              "        [0.7069],\n",
              "        [0.7137],\n",
              "        [0.7204]])"
            ]
          },
          "metadata": {},
          "execution_count": 9
        }
      ]
    },
    {
      "cell_type": "code",
      "source": [
        "plot_predictions(predictions=y_preds)"
      ],
      "metadata": {
        "colab": {
          "base_uri": "https://localhost:8080/",
          "height": 428
        },
        "id": "d-ouqprVXzyM",
        "outputId": "86bdd715-8855-4b66-ff0d-e0ff61a5e480"
      },
      "execution_count": null,
      "outputs": [
        {
          "output_type": "display_data",
          "data": {
            "text/plain": [
              "<Figure size 720x504 with 1 Axes>"
            ],
            "image/png": "[encoded data removed]"
          },
          "metadata": {
            "needs_background": "light"
          }
        }
      ]
    },
    {
      "cell_type": "code",
      "source": [
        "list(model_0.parameters())"
      ],
      "metadata": {
        "colab": {
          "base_uri": "https://localhost:8080/"
        },
        "id": "hsOkE_DCaGgd",
        "outputId": "1ca08883-70dc-44df-8637-11c764db702a"
      },
      "execution_count": null,
      "outputs": [
        {
          "output_type": "execute_result",
          "data": {
            "text/plain": [
              "[Parameter containing:\n",
              " tensor([0.3367], requires_grad=True), Parameter containing:\n",
              " tensor([0.3904], requires_grad=True)]"
            ]
          },
          "metadata": {},
          "execution_count": 11
        }
      ]
    },
    {
      "cell_type": "markdown",
      "source": [
        "## training the model"
      ],
      "metadata": {
        "id": "0a3bnXeSbo-K"
      }
    },
    {
      "cell_type": "code",
      "source": [
        "# setup a loss function\n",
        "loss_fn = nn.L1Loss()\n",
        "\n",
        "# setup the optimizer\n",
        "optimizer = torch.optim.SGD(params = model_0.parameters(),\n",
        "                            lr=0.01)"
      ],
      "metadata": {
        "id": "4QtrWC0CbsF5"
      },
      "execution_count": null,
      "outputs": []
    },
    {
      "cell_type": "markdown",
      "source": [
        "### building a training loop (and testing loop) in PyTorch"
      ],
      "metadata": {
        "id": "NVfooLFles38"
      }
    },
    {
      "cell_type": "code",
      "source": [
        "epochs = 2000\n",
        "\n",
        "# track different values\n",
        "epoch_count = []\n",
        "loss_values = []\n",
        "test_loss_values = []\n",
        "\n",
        "for epoch in range(epochs):\n",
        "  model_0.train() # train mode sets all parameters that require gradients\n",
        "\n",
        "  # 1.forward pass\n",
        "  y_pred = model_0(X_train)\n",
        "\n",
        "  # 2.calc loss\n",
        "  loss = loss_fn(y_pred, y_train)\n",
        "  #print(f\"loss {loss}\")\n",
        "\n",
        "  # 3.optimizer - zero out the gradient\n",
        "  optimizer.zero_grad()\n",
        "\n",
        "  # 4. perform backpropogation on the loss with respect to the parameters of the model\n",
        "  loss.backward()\n",
        "\n",
        "  # 5. step the optimizer (perform gradient descent)\n",
        "  optimizer.step()\n",
        "\n",
        "  model_0.eval() # turns off gradient tracking\n",
        "  with torch.inference_mode():\n",
        "    test_pred = model_0(X_test)\n",
        "\n",
        "    test_loss = loss_fn(test_pred, y_test)\n",
        "\n",
        "  if epoch %10 == 0:\n",
        "    epoch_count.append(epoch)\n",
        "    loss_values.append(loss)\n",
        "    test_loss_values.append(test_loss)\n",
        "    print(f\"Epoch: {epoch} | Test: {loss} | Test loss {test_loss}\")\n",
        "    print(model_0.state_dict())"
      ],
      "metadata": {
        "colab": {
          "base_uri": "https://localhost:8080/"
        },
        "id": "O634eXs-fTBR",
        "outputId": "39653d44-033c-4e6c-f9bc-2b2bd07c5aa7"
      },
      "execution_count": null,
      "outputs": [
        {
          "output_type": "stream",
          "name": "stdout",
          "text": [
            "Epoch: 0 | Test: 0.08169572055339813 | Test loss 0.22662055492401123\n",
            "OrderedDict([('weights', tensor([0.3398])), ('bias', tensor([0.3939]))])\n",
            "Epoch: 10 | Test: 0.06808149069547653 | Test loss 0.1807345449924469\n",
            "OrderedDict([('weights', tensor([0.3672])), ('bias', tensor([0.4154]))])\n",
            "Epoch: 20 | Test: 0.06258393079042435 | Test loss 0.15627031028270721\n",
            "OrderedDict([('weights', tensor([0.3891])), ('bias', tensor([0.4204]))])\n",
            "Epoch: 30 | Test: 0.05879194289445877 | Test loss 0.1418602615594864\n",
            "OrderedDict([('weights', tensor([0.4081])), ('bias', tensor([0.4179]))])\n",
            "Epoch: 40 | Test: 0.05530194193124771 | Test loss 0.13084018230438232\n",
            "OrderedDict([('weights', tensor([0.4261])), ('bias', tensor([0.4129]))])\n",
            "Epoch: 50 | Test: 0.051822252571582794 | Test loss 0.12050700187683105\n",
            "OrderedDict([('weights', tensor([0.4439])), ('bias', tensor([0.4074]))])\n",
            "Epoch: 60 | Test: 0.04838593676686287 | Test loss 0.11223447322845459\n",
            "OrderedDict([('weights', tensor([0.4610])), ('bias', tensor([0.4004]))])\n",
            "Epoch: 70 | Test: 0.044948760420084 | Test loss 0.10464880615472794\n",
            "OrderedDict([('weights', tensor([0.4780])), ('bias', tensor([0.3929]))])\n",
            "Epoch: 80 | Test: 0.04152031987905502 | Test loss 0.09637625515460968\n",
            "OrderedDict([('weights', tensor([0.4951])), ('bias', tensor([0.3859]))])\n",
            "Epoch: 90 | Test: 0.03808232396841049 | Test loss 0.08810374140739441\n",
            "OrderedDict([('weights', tensor([0.5123])), ('bias', tensor([0.3789]))])\n",
            "Epoch: 100 | Test: 0.034646838903427124 | Test loss 0.08051808178424835\n",
            "OrderedDict([('weights', tensor([0.5293])), ('bias', tensor([0.3714]))])\n",
            "Epoch: 110 | Test: 0.031217509880661964 | Test loss 0.0722455382347107\n",
            "OrderedDict([('weights', tensor([0.5464])), ('bias', tensor([0.3644]))])\n",
            "Epoch: 120 | Test: 0.027778705582022667 | Test loss 0.06397300213575363\n",
            "OrderedDict([('weights', tensor([0.5636])), ('bias', tensor([0.3574]))])\n",
            "Epoch: 130 | Test: 0.024344902485609055 | Test loss 0.05638733506202698\n",
            "OrderedDict([('weights', tensor([0.5805])), ('bias', tensor([0.3499]))])\n",
            "Epoch: 140 | Test: 0.020913895219564438 | Test loss 0.04811479523777962\n",
            "OrderedDict([('weights', tensor([0.5977])), ('bias', tensor([0.3429]))])\n",
            "Epoch: 150 | Test: 0.017475087195634842 | Test loss 0.03984225541353226\n",
            "OrderedDict([('weights', tensor([0.6148])), ('bias', tensor([0.3359]))])\n",
            "Epoch: 160 | Test: 0.014042967930436134 | Test loss 0.0322565920650959\n",
            "OrderedDict([('weights', tensor([0.6318])), ('bias', tensor([0.3284]))])\n",
            "Epoch: 170 | Test: 0.010610274039208889 | Test loss 0.02398405596613884\n",
            "OrderedDict([('weights', tensor([0.6490])), ('bias', tensor([0.3214]))])\n",
            "Epoch: 180 | Test: 0.007171472068876028 | Test loss 0.015711510553956032\n",
            "OrderedDict([('weights', tensor([0.6661])), ('bias', tensor([0.3144]))])\n",
            "Epoch: 190 | Test: 0.003741039428859949 | Test loss 0.008125847205519676\n",
            "OrderedDict([('weights', tensor([0.6831])), ('bias', tensor([0.3069]))])\n",
            "Epoch: 200 | Test: 0.004964242689311504 | Test loss 0.010411137714982033\n",
            "OrderedDict([('weights', tensor([0.6923])), ('bias', tensor([0.2964]))])\n",
            "Epoch: 210 | Test: 0.004964242689311504 | Test loss 0.010411137714982033\n",
            "OrderedDict([('weights', tensor([0.6923])), ('bias', tensor([0.2964]))])\n",
            "Epoch: 220 | Test: 0.004964242689311504 | Test loss 0.010411137714982033\n",
            "OrderedDict([('weights', tensor([0.6923])), ('bias', tensor([0.2964]))])\n",
            "Epoch: 230 | Test: 0.004964242689311504 | Test loss 0.010411137714982033\n",
            "OrderedDict([('weights', tensor([0.6923])), ('bias', tensor([0.2964]))])\n",
            "Epoch: 240 | Test: 0.004964242689311504 | Test loss 0.010411137714982033\n",
            "OrderedDict([('weights', tensor([0.6923])), ('bias', tensor([0.2964]))])\n",
            "Epoch: 250 | Test: 0.004964242689311504 | Test loss 0.010411137714982033\n",
            "OrderedDict([('weights', tensor([0.6923])), ('bias', tensor([0.2964]))])\n",
            "Epoch: 260 | Test: 0.004964242689311504 | Test loss 0.010411137714982033\n",
            "OrderedDict([('weights', tensor([0.6923])), ('bias', tensor([0.2964]))])\n",
            "Epoch: 270 | Test: 0.004964242689311504 | Test loss 0.010411137714982033\n",
            "OrderedDict([('weights', tensor([0.6923])), ('bias', tensor([0.2964]))])\n",
            "Epoch: 280 | Test: 0.004964242689311504 | Test loss 0.010411137714982033\n",
            "OrderedDict([('weights', tensor([0.6923])), ('bias', tensor([0.2964]))])\n",
            "Epoch: 290 | Test: 0.004964242689311504 | Test loss 0.010411137714982033\n",
            "OrderedDict([('weights', tensor([0.6923])), ('bias', tensor([0.2964]))])\n",
            "Epoch: 300 | Test: 0.004964242689311504 | Test loss 0.010411137714982033\n",
            "OrderedDict([('weights', tensor([0.6923])), ('bias', tensor([0.2964]))])\n",
            "Epoch: 310 | Test: 0.004964242689311504 | Test loss 0.010411137714982033\n",
            "OrderedDict([('weights', tensor([0.6923])), ('bias', tensor([0.2964]))])\n",
            "Epoch: 320 | Test: 0.004964242689311504 | Test loss 0.010411137714982033\n",
            "OrderedDict([('weights', tensor([0.6923])), ('bias', tensor([0.2964]))])\n",
            "Epoch: 330 | Test: 0.004964242689311504 | Test loss 0.010411137714982033\n",
            "OrderedDict([('weights', tensor([0.6923])), ('bias', tensor([0.2964]))])\n",
            "Epoch: 340 | Test: 0.004964242689311504 | Test loss 0.010411137714982033\n",
            "OrderedDict([('weights', tensor([0.6923])), ('bias', tensor([0.2964]))])\n",
            "Epoch: 350 | Test: 0.004964242689311504 | Test loss 0.010411137714982033\n",
            "OrderedDict([('weights', tensor([0.6923])), ('bias', tensor([0.2964]))])\n",
            "Epoch: 360 | Test: 0.004964242689311504 | Test loss 0.010411137714982033\n",
            "OrderedDict([('weights', tensor([0.6923])), ('bias', tensor([0.2964]))])\n",
            "Epoch: 370 | Test: 0.004964242689311504 | Test loss 0.010411137714982033\n",
            "OrderedDict([('weights', tensor([0.6923])), ('bias', tensor([0.2964]))])\n",
            "Epoch: 380 | Test: 0.004964242689311504 | Test loss 0.010411137714982033\n",
            "OrderedDict([('weights', tensor([0.6923])), ('bias', tensor([0.2964]))])\n",
            "Epoch: 390 | Test: 0.004964242689311504 | Test loss 0.010411137714982033\n",
            "OrderedDict([('weights', tensor([0.6923])), ('bias', tensor([0.2964]))])\n",
            "Epoch: 400 | Test: 0.004964242689311504 | Test loss 0.010411137714982033\n",
            "OrderedDict([('weights', tensor([0.6923])), ('bias', tensor([0.2964]))])\n",
            "Epoch: 410 | Test: 0.004964242689311504 | Test loss 0.010411137714982033\n",
            "OrderedDict([('weights', tensor([0.6923])), ('bias', tensor([0.2964]))])\n",
            "Epoch: 420 | Test: 0.004964242689311504 | Test loss 0.010411137714982033\n",
            "OrderedDict([('weights', tensor([0.6923])), ('bias', tensor([0.2964]))])\n",
            "Epoch: 430 | Test: 0.004964242689311504 | Test loss 0.010411137714982033\n",
            "OrderedDict([('weights', tensor([0.6923])), ('bias', tensor([0.2964]))])\n",
            "Epoch: 440 | Test: 0.004964242689311504 | Test loss 0.010411137714982033\n",
            "OrderedDict([('weights', tensor([0.6923])), ('bias', tensor([0.2964]))])\n",
            "Epoch: 450 | Test: 0.004964242689311504 | Test loss 0.010411137714982033\n",
            "OrderedDict([('weights', tensor([0.6923])), ('bias', tensor([0.2964]))])\n",
            "Epoch: 460 | Test: 0.004964242689311504 | Test loss 0.010411137714982033\n",
            "OrderedDict([('weights', tensor([0.6923])), ('bias', tensor([0.2964]))])\n",
            "Epoch: 470 | Test: 0.004964242689311504 | Test loss 0.010411137714982033\n",
            "OrderedDict([('weights', tensor([0.6923])), ('bias', tensor([0.2964]))])\n",
            "Epoch: 480 | Test: 0.004964242689311504 | Test loss 0.010411137714982033\n",
            "OrderedDict([('weights', tensor([0.6923])), ('bias', tensor([0.2964]))])\n",
            "Epoch: 490 | Test: 0.004964242689311504 | Test loss 0.010411137714982033\n",
            "OrderedDict([('weights', tensor([0.6923])), ('bias', tensor([0.2964]))])\n",
            "Epoch: 500 | Test: 0.004964242689311504 | Test loss 0.010411137714982033\n",
            "OrderedDict([('weights', tensor([0.6923])), ('bias', tensor([0.2964]))])\n",
            "Epoch: 510 | Test: 0.004964242689311504 | Test loss 0.010411137714982033\n",
            "OrderedDict([('weights', tensor([0.6923])), ('bias', tensor([0.2964]))])\n",
            "Epoch: 520 | Test: 0.004964242689311504 | Test loss 0.010411137714982033\n",
            "OrderedDict([('weights', tensor([0.6923])), ('bias', tensor([0.2964]))])\n",
            "Epoch: 530 | Test: 0.004964242689311504 | Test loss 0.010411137714982033\n",
            "OrderedDict([('weights', tensor([0.6923])), ('bias', tensor([0.2964]))])\n",
            "Epoch: 540 | Test: 0.004964242689311504 | Test loss 0.010411137714982033\n",
            "OrderedDict([('weights', tensor([0.6923])), ('bias', tensor([0.2964]))])\n",
            "Epoch: 550 | Test: 0.004964242689311504 | Test loss 0.010411137714982033\n",
            "OrderedDict([('weights', tensor([0.6923])), ('bias', tensor([0.2964]))])\n",
            "Epoch: 560 | Test: 0.004964242689311504 | Test loss 0.010411137714982033\n",
            "OrderedDict([('weights', tensor([0.6923])), ('bias', tensor([0.2964]))])\n",
            "Epoch: 570 | Test: 0.004964242689311504 | Test loss 0.010411137714982033\n",
            "OrderedDict([('weights', tensor([0.6923])), ('bias', tensor([0.2964]))])\n",
            "Epoch: 580 | Test: 0.004964242689311504 | Test loss 0.010411137714982033\n",
            "OrderedDict([('weights', tensor([0.6923])), ('bias', tensor([0.2964]))])\n",
            "Epoch: 590 | Test: 0.004964242689311504 | Test loss 0.010411137714982033\n",
            "OrderedDict([('weights', tensor([0.6923])), ('bias', tensor([0.2964]))])\n",
            "Epoch: 600 | Test: 0.004964242689311504 | Test loss 0.010411137714982033\n",
            "OrderedDict([('weights', tensor([0.6923])), ('bias', tensor([0.2964]))])\n",
            "Epoch: 610 | Test: 0.004964242689311504 | Test loss 0.010411137714982033\n",
            "OrderedDict([('weights', tensor([0.6923])), ('bias', tensor([0.2964]))])\n",
            "Epoch: 620 | Test: 0.004964242689311504 | Test loss 0.010411137714982033\n",
            "OrderedDict([('weights', tensor([0.6923])), ('bias', tensor([0.2964]))])\n",
            "Epoch: 630 | Test: 0.004964242689311504 | Test loss 0.010411137714982033\n",
            "OrderedDict([('weights', tensor([0.6923])), ('bias', tensor([0.2964]))])\n",
            "Epoch: 640 | Test: 0.004964242689311504 | Test loss 0.010411137714982033\n",
            "OrderedDict([('weights', tensor([0.6923])), ('bias', tensor([0.2964]))])\n",
            "Epoch: 650 | Test: 0.004964242689311504 | Test loss 0.010411137714982033\n",
            "OrderedDict([('weights', tensor([0.6923])), ('bias', tensor([0.2964]))])\n",
            "Epoch: 660 | Test: 0.004964242689311504 | Test loss 0.010411137714982033\n",
            "OrderedDict([('weights', tensor([0.6923])), ('bias', tensor([0.2964]))])\n",
            "Epoch: 670 | Test: 0.004964242689311504 | Test loss 0.010411137714982033\n",
            "OrderedDict([('weights', tensor([0.6923])), ('bias', tensor([0.2964]))])\n",
            "Epoch: 680 | Test: 0.004964242689311504 | Test loss 0.010411137714982033\n",
            "OrderedDict([('weights', tensor([0.6923])), ('bias', tensor([0.2964]))])\n",
            "Epoch: 690 | Test: 0.004964242689311504 | Test loss 0.010411137714982033\n",
            "OrderedDict([('weights', tensor([0.6923])), ('bias', tensor([0.2964]))])\n",
            "Epoch: 700 | Test: 0.004964242689311504 | Test loss 0.010411137714982033\n",
            "OrderedDict([('weights', tensor([0.6923])), ('bias', tensor([0.2964]))])\n",
            "Epoch: 710 | Test: 0.004964242689311504 | Test loss 0.010411137714982033\n",
            "OrderedDict([('weights', tensor([0.6923])), ('bias', tensor([0.2964]))])\n",
            "Epoch: 720 | Test: 0.004964242689311504 | Test loss 0.010411137714982033\n",
            "OrderedDict([('weights', tensor([0.6923])), ('bias', tensor([0.2964]))])\n",
            "Epoch: 730 | Test: 0.004964242689311504 | Test loss 0.010411137714982033\n",
            "OrderedDict([('weights', tensor([0.6923])), ('bias', tensor([0.2964]))])\n",
            "Epoch: 740 | Test: 0.004964242689311504 | Test loss 0.010411137714982033\n",
            "OrderedDict([('weights', tensor([0.6923])), ('bias', tensor([0.2964]))])\n",
            "Epoch: 750 | Test: 0.004964242689311504 | Test loss 0.010411137714982033\n",
            "OrderedDict([('weights', tensor([0.6923])), ('bias', tensor([0.2964]))])\n",
            "Epoch: 760 | Test: 0.004964242689311504 | Test loss 0.010411137714982033\n",
            "OrderedDict([('weights', tensor([0.6923])), ('bias', tensor([0.2964]))])\n",
            "Epoch: 770 | Test: 0.004964242689311504 | Test loss 0.010411137714982033\n",
            "OrderedDict([('weights', tensor([0.6923])), ('bias', tensor([0.2964]))])\n",
            "Epoch: 780 | Test: 0.004964242689311504 | Test loss 0.010411137714982033\n",
            "OrderedDict([('weights', tensor([0.6923])), ('bias', tensor([0.2964]))])\n",
            "Epoch: 790 | Test: 0.004964242689311504 | Test loss 0.010411137714982033\n",
            "OrderedDict([('weights', tensor([0.6923])), ('bias', tensor([0.2964]))])\n",
            "Epoch: 800 | Test: 0.004964242689311504 | Test loss 0.010411137714982033\n",
            "OrderedDict([('weights', tensor([0.6923])), ('bias', tensor([0.2964]))])\n",
            "Epoch: 810 | Test: 0.004964242689311504 | Test loss 0.010411137714982033\n",
            "OrderedDict([('weights', tensor([0.6923])), ('bias', tensor([0.2964]))])\n",
            "Epoch: 820 | Test: 0.004964242689311504 | Test loss 0.010411137714982033\n",
            "OrderedDict([('weights', tensor([0.6923])), ('bias', tensor([0.2964]))])\n",
            "Epoch: 830 | Test: 0.004964242689311504 | Test loss 0.010411137714982033\n",
            "OrderedDict([('weights', tensor([0.6923])), ('bias', tensor([0.2964]))])\n",
            "Epoch: 840 | Test: 0.004964242689311504 | Test loss 0.010411137714982033\n",
            "OrderedDict([('weights', tensor([0.6923])), ('bias', tensor([0.2964]))])\n",
            "Epoch: 850 | Test: 0.004964242689311504 | Test loss 0.010411137714982033\n",
            "OrderedDict([('weights', tensor([0.6923])), ('bias', tensor([0.2964]))])\n",
            "Epoch: 860 | Test: 0.004964242689311504 | Test loss 0.010411137714982033\n",
            "OrderedDict([('weights', tensor([0.6923])), ('bias', tensor([0.2964]))])\n",
            "Epoch: 870 | Test: 0.004964242689311504 | Test loss 0.010411137714982033\n",
            "OrderedDict([('weights', tensor([0.6923])), ('bias', tensor([0.2964]))])\n",
            "Epoch: 880 | Test: 0.004964242689311504 | Test loss 0.010411137714982033\n",
            "OrderedDict([('weights', tensor([0.6923])), ('bias', tensor([0.2964]))])\n",
            "Epoch: 890 | Test: 0.004964242689311504 | Test loss 0.010411137714982033\n",
            "OrderedDict([('weights', tensor([0.6923])), ('bias', tensor([0.2964]))])\n",
            "Epoch: 900 | Test: 0.004964242689311504 | Test loss 0.010411137714982033\n",
            "OrderedDict([('weights', tensor([0.6923])), ('bias', tensor([0.2964]))])\n",
            "Epoch: 910 | Test: 0.004964242689311504 | Test loss 0.010411137714982033\n",
            "OrderedDict([('weights', tensor([0.6923])), ('bias', tensor([0.2964]))])\n",
            "Epoch: 920 | Test: 0.004964242689311504 | Test loss 0.010411137714982033\n",
            "OrderedDict([('weights', tensor([0.6923])), ('bias', tensor([0.2964]))])\n",
            "Epoch: 930 | Test: 0.004964242689311504 | Test loss 0.010411137714982033\n",
            "OrderedDict([('weights', tensor([0.6923])), ('bias', tensor([0.2964]))])\n",
            "Epoch: 940 | Test: 0.004964242689311504 | Test loss 0.010411137714982033\n",
            "OrderedDict([('weights', tensor([0.6923])), ('bias', tensor([0.2964]))])\n",
            "Epoch: 950 | Test: 0.004964242689311504 | Test loss 0.010411137714982033\n",
            "OrderedDict([('weights', tensor([0.6923])), ('bias', tensor([0.2964]))])\n",
            "Epoch: 960 | Test: 0.004964242689311504 | Test loss 0.010411137714982033\n",
            "OrderedDict([('weights', tensor([0.6923])), ('bias', tensor([0.2964]))])\n",
            "Epoch: 970 | Test: 0.004964242689311504 | Test loss 0.010411137714982033\n",
            "OrderedDict([('weights', tensor([0.6923])), ('bias', tensor([0.2964]))])\n",
            "Epoch: 980 | Test: 0.004964242689311504 | Test loss 0.010411137714982033\n",
            "OrderedDict([('weights', tensor([0.6923])), ('bias', tensor([0.2964]))])\n",
            "Epoch: 990 | Test: 0.004964242689311504 | Test loss 0.010411137714982033\n",
            "OrderedDict([('weights', tensor([0.6923])), ('bias', tensor([0.2964]))])\n",
            "Epoch: 1000 | Test: 0.004964242689311504 | Test loss 0.010411137714982033\n",
            "OrderedDict([('weights', tensor([0.6923])), ('bias', tensor([0.2964]))])\n",
            "Epoch: 1010 | Test: 0.004964242689311504 | Test loss 0.010411137714982033\n",
            "OrderedDict([('weights', tensor([0.6923])), ('bias', tensor([0.2964]))])\n",
            "Epoch: 1020 | Test: 0.004964242689311504 | Test loss 0.010411137714982033\n",
            "OrderedDict([('weights', tensor([0.6923])), ('bias', tensor([0.2964]))])\n",
            "Epoch: 1030 | Test: 0.004964242689311504 | Test loss 0.010411137714982033\n",
            "OrderedDict([('weights', tensor([0.6923])), ('bias', tensor([0.2964]))])\n",
            "Epoch: 1040 | Test: 0.004964242689311504 | Test loss 0.010411137714982033\n",
            "OrderedDict([('weights', tensor([0.6923])), ('bias', tensor([0.2964]))])\n",
            "Epoch: 1050 | Test: 0.004964242689311504 | Test loss 0.010411137714982033\n",
            "OrderedDict([('weights', tensor([0.6923])), ('bias', tensor([0.2964]))])\n",
            "Epoch: 1060 | Test: 0.004964242689311504 | Test loss 0.010411137714982033\n",
            "OrderedDict([('weights', tensor([0.6923])), ('bias', tensor([0.2964]))])\n",
            "Epoch: 1070 | Test: 0.004964242689311504 | Test loss 0.010411137714982033\n",
            "OrderedDict([('weights', tensor([0.6923])), ('bias', tensor([0.2964]))])\n",
            "Epoch: 1080 | Test: 0.004964242689311504 | Test loss 0.010411137714982033\n",
            "OrderedDict([('weights', tensor([0.6923])), ('bias', tensor([0.2964]))])\n",
            "Epoch: 1090 | Test: 0.004964242689311504 | Test loss 0.010411137714982033\n",
            "OrderedDict([('weights', tensor([0.6923])), ('bias', tensor([0.2964]))])\n",
            "Epoch: 1100 | Test: 0.004964242689311504 | Test loss 0.010411137714982033\n",
            "OrderedDict([('weights', tensor([0.6923])), ('bias', tensor([0.2964]))])\n",
            "Epoch: 1110 | Test: 0.004964242689311504 | Test loss 0.010411137714982033\n",
            "OrderedDict([('weights', tensor([0.6923])), ('bias', tensor([0.2964]))])\n",
            "Epoch: 1120 | Test: 0.004964242689311504 | Test loss 0.010411137714982033\n",
            "OrderedDict([('weights', tensor([0.6923])), ('bias', tensor([0.2964]))])\n",
            "Epoch: 1130 | Test: 0.004964242689311504 | Test loss 0.010411137714982033\n",
            "OrderedDict([('weights', tensor([0.6923])), ('bias', tensor([0.2964]))])\n",
            "Epoch: 1140 | Test: 0.004964242689311504 | Test loss 0.010411137714982033\n",
            "OrderedDict([('weights', tensor([0.6923])), ('bias', tensor([0.2964]))])\n",
            "Epoch: 1150 | Test: 0.004964242689311504 | Test loss 0.010411137714982033\n",
            "OrderedDict([('weights', tensor([0.6923])), ('bias', tensor([0.2964]))])\n",
            "Epoch: 1160 | Test: 0.004964242689311504 | Test loss 0.010411137714982033\n",
            "OrderedDict([('weights', tensor([0.6923])), ('bias', tensor([0.2964]))])\n",
            "Epoch: 1170 | Test: 0.004964242689311504 | Test loss 0.010411137714982033\n",
            "OrderedDict([('weights', tensor([0.6923])), ('bias', tensor([0.2964]))])\n",
            "Epoch: 1180 | Test: 0.004964242689311504 | Test loss 0.010411137714982033\n",
            "OrderedDict([('weights', tensor([0.6923])), ('bias', tensor([0.2964]))])\n",
            "Epoch: 1190 | Test: 0.004964242689311504 | Test loss 0.010411137714982033\n",
            "OrderedDict([('weights', tensor([0.6923])), ('bias', tensor([0.2964]))])\n",
            "Epoch: 1200 | Test: 0.004964242689311504 | Test loss 0.010411137714982033\n",
            "OrderedDict([('weights', tensor([0.6923])), ('bias', tensor([0.2964]))])\n",
            "Epoch: 1210 | Test: 0.004964242689311504 | Test loss 0.010411137714982033\n",
            "OrderedDict([('weights', tensor([0.6923])), ('bias', tensor([0.2964]))])\n",
            "Epoch: 1220 | Test: 0.004964242689311504 | Test loss 0.010411137714982033\n",
            "OrderedDict([('weights', tensor([0.6923])), ('bias', tensor([0.2964]))])\n",
            "Epoch: 1230 | Test: 0.004964242689311504 | Test loss 0.010411137714982033\n",
            "OrderedDict([('weights', tensor([0.6923])), ('bias', tensor([0.2964]))])\n",
            "Epoch: 1240 | Test: 0.004964242689311504 | Test loss 0.010411137714982033\n",
            "OrderedDict([('weights', tensor([0.6923])), ('bias', tensor([0.2964]))])\n",
            "Epoch: 1250 | Test: 0.004964242689311504 | Test loss 0.010411137714982033\n",
            "OrderedDict([('weights', tensor([0.6923])), ('bias', tensor([0.2964]))])\n",
            "Epoch: 1260 | Test: 0.004964242689311504 | Test loss 0.010411137714982033\n",
            "OrderedDict([('weights', tensor([0.6923])), ('bias', tensor([0.2964]))])\n",
            "Epoch: 1270 | Test: 0.004964242689311504 | Test loss 0.010411137714982033\n",
            "OrderedDict([('weights', tensor([0.6923])), ('bias', tensor([0.2964]))])\n",
            "Epoch: 1280 | Test: 0.004964242689311504 | Test loss 0.010411137714982033\n",
            "OrderedDict([('weights', tensor([0.6923])), ('bias', tensor([0.2964]))])\n",
            "Epoch: 1290 | Test: 0.004964242689311504 | Test loss 0.010411137714982033\n",
            "OrderedDict([('weights', tensor([0.6923])), ('bias', tensor([0.2964]))])\n",
            "Epoch: 1300 | Test: 0.004964242689311504 | Test loss 0.010411137714982033\n",
            "OrderedDict([('weights', tensor([0.6923])), ('bias', tensor([0.2964]))])\n",
            "Epoch: 1310 | Test: 0.004964242689311504 | Test loss 0.010411137714982033\n",
            "OrderedDict([('weights', tensor([0.6923])), ('bias', tensor([0.2964]))])\n",
            "Epoch: 1320 | Test: 0.004964242689311504 | Test loss 0.010411137714982033\n",
            "OrderedDict([('weights', tensor([0.6923])), ('bias', tensor([0.2964]))])\n",
            "Epoch: 1330 | Test: 0.004964242689311504 | Test loss 0.010411137714982033\n",
            "OrderedDict([('weights', tensor([0.6923])), ('bias', tensor([0.2964]))])\n",
            "Epoch: 1340 | Test: 0.004964242689311504 | Test loss 0.010411137714982033\n",
            "OrderedDict([('weights', tensor([0.6923])), ('bias', tensor([0.2964]))])\n",
            "Epoch: 1350 | Test: 0.004964242689311504 | Test loss 0.010411137714982033\n",
            "OrderedDict([('weights', tensor([0.6923])), ('bias', tensor([0.2964]))])\n",
            "Epoch: 1360 | Test: 0.004964242689311504 | Test loss 0.010411137714982033\n",
            "OrderedDict([('weights', tensor([0.6923])), ('bias', tensor([0.2964]))])\n",
            "Epoch: 1370 | Test: 0.004964242689311504 | Test loss 0.010411137714982033\n",
            "OrderedDict([('weights', tensor([0.6923])), ('bias', tensor([0.2964]))])\n",
            "Epoch: 1380 | Test: 0.004964242689311504 | Test loss 0.010411137714982033\n",
            "OrderedDict([('weights', tensor([0.6923])), ('bias', tensor([0.2964]))])\n",
            "Epoch: 1390 | Test: 0.004964242689311504 | Test loss 0.010411137714982033\n",
            "OrderedDict([('weights', tensor([0.6923])), ('bias', tensor([0.2964]))])\n",
            "Epoch: 1400 | Test: 0.004964242689311504 | Test loss 0.010411137714982033\n",
            "OrderedDict([('weights', tensor([0.6923])), ('bias', tensor([0.2964]))])\n",
            "Epoch: 1410 | Test: 0.004964242689311504 | Test loss 0.010411137714982033\n",
            "OrderedDict([('weights', tensor([0.6923])), ('bias', tensor([0.2964]))])\n",
            "Epoch: 1420 | Test: 0.004964242689311504 | Test loss 0.010411137714982033\n",
            "OrderedDict([('weights', tensor([0.6923])), ('bias', tensor([0.2964]))])\n",
            "Epoch: 1430 | Test: 0.004964242689311504 | Test loss 0.010411137714982033\n",
            "OrderedDict([('weights', tensor([0.6923])), ('bias', tensor([0.2964]))])\n",
            "Epoch: 1440 | Test: 0.004964242689311504 | Test loss 0.010411137714982033\n",
            "OrderedDict([('weights', tensor([0.6923])), ('bias', tensor([0.2964]))])\n",
            "Epoch: 1450 | Test: 0.004964242689311504 | Test loss 0.010411137714982033\n",
            "OrderedDict([('weights', tensor([0.6923])), ('bias', tensor([0.2964]))])\n",
            "Epoch: 1460 | Test: 0.004964242689311504 | Test loss 0.010411137714982033\n",
            "OrderedDict([('weights', tensor([0.6923])), ('bias', tensor([0.2964]))])\n",
            "Epoch: 1470 | Test: 0.004964242689311504 | Test loss 0.010411137714982033\n",
            "OrderedDict([('weights', tensor([0.6923])), ('bias', tensor([0.2964]))])\n",
            "Epoch: 1480 | Test: 0.004964242689311504 | Test loss 0.010411137714982033\n",
            "OrderedDict([('weights', tensor([0.6923])), ('bias', tensor([0.2964]))])\n",
            "Epoch: 1490 | Test: 0.004964242689311504 | Test loss 0.010411137714982033\n",
            "OrderedDict([('weights', tensor([0.6923])), ('bias', tensor([0.2964]))])\n",
            "Epoch: 1500 | Test: 0.004964242689311504 | Test loss 0.010411137714982033\n",
            "OrderedDict([('weights', tensor([0.6923])), ('bias', tensor([0.2964]))])\n",
            "Epoch: 1510 | Test: 0.004964242689311504 | Test loss 0.010411137714982033\n",
            "OrderedDict([('weights', tensor([0.6923])), ('bias', tensor([0.2964]))])\n",
            "Epoch: 1520 | Test: 0.004964242689311504 | Test loss 0.010411137714982033\n",
            "OrderedDict([('weights', tensor([0.6923])), ('bias', tensor([0.2964]))])\n",
            "Epoch: 1530 | Test: 0.004964242689311504 | Test loss 0.010411137714982033\n",
            "OrderedDict([('weights', tensor([0.6923])), ('bias', tensor([0.2964]))])\n",
            "Epoch: 1540 | Test: 0.004964242689311504 | Test loss 0.010411137714982033\n",
            "OrderedDict([('weights', tensor([0.6923])), ('bias', tensor([0.2964]))])\n",
            "Epoch: 1550 | Test: 0.004964242689311504 | Test loss 0.010411137714982033\n",
            "OrderedDict([('weights', tensor([0.6923])), ('bias', tensor([0.2964]))])\n",
            "Epoch: 1560 | Test: 0.004964242689311504 | Test loss 0.010411137714982033\n",
            "OrderedDict([('weights', tensor([0.6923])), ('bias', tensor([0.2964]))])\n",
            "Epoch: 1570 | Test: 0.004964242689311504 | Test loss 0.010411137714982033\n",
            "OrderedDict([('weights', tensor([0.6923])), ('bias', tensor([0.2964]))])\n",
            "Epoch: 1580 | Test: 0.004964242689311504 | Test loss 0.010411137714982033\n",
            "OrderedDict([('weights', tensor([0.6923])), ('bias', tensor([0.2964]))])\n",
            "Epoch: 1590 | Test: 0.004964242689311504 | Test loss 0.010411137714982033\n",
            "OrderedDict([('weights', tensor([0.6923])), ('bias', tensor([0.2964]))])\n",
            "Epoch: 1600 | Test: 0.004964242689311504 | Test loss 0.010411137714982033\n",
            "OrderedDict([('weights', tensor([0.6923])), ('bias', tensor([0.2964]))])\n",
            "Epoch: 1610 | Test: 0.004964242689311504 | Test loss 0.010411137714982033\n",
            "OrderedDict([('weights', tensor([0.6923])), ('bias', tensor([0.2964]))])\n",
            "Epoch: 1620 | Test: 0.004964242689311504 | Test loss 0.010411137714982033\n",
            "OrderedDict([('weights', tensor([0.6923])), ('bias', tensor([0.2964]))])\n",
            "Epoch: 1630 | Test: 0.004964242689311504 | Test loss 0.010411137714982033\n",
            "OrderedDict([('weights', tensor([0.6923])), ('bias', tensor([0.2964]))])\n",
            "Epoch: 1640 | Test: 0.004964242689311504 | Test loss 0.010411137714982033\n",
            "OrderedDict([('weights', tensor([0.6923])), ('bias', tensor([0.2964]))])\n",
            "Epoch: 1650 | Test: 0.004964242689311504 | Test loss 0.010411137714982033\n",
            "OrderedDict([('weights', tensor([0.6923])), ('bias', tensor([0.2964]))])\n",
            "Epoch: 1660 | Test: 0.004964242689311504 | Test loss 0.010411137714982033\n",
            "OrderedDict([('weights', tensor([0.6923])), ('bias', tensor([0.2964]))])\n",
            "Epoch: 1670 | Test: 0.004964242689311504 | Test loss 0.010411137714982033\n",
            "OrderedDict([('weights', tensor([0.6923])), ('bias', tensor([0.2964]))])\n",
            "Epoch: 1680 | Test: 0.004964242689311504 | Test loss 0.010411137714982033\n",
            "OrderedDict([('weights', tensor([0.6923])), ('bias', tensor([0.2964]))])\n",
            "Epoch: 1690 | Test: 0.004964242689311504 | Test loss 0.010411137714982033\n",
            "OrderedDict([('weights', tensor([0.6923])), ('bias', tensor([0.2964]))])\n",
            "Epoch: 1700 | Test: 0.004964242689311504 | Test loss 0.010411137714982033\n",
            "OrderedDict([('weights', tensor([0.6923])), ('bias', tensor([0.2964]))])\n",
            "Epoch: 1710 | Test: 0.004964242689311504 | Test loss 0.010411137714982033\n",
            "OrderedDict([('weights', tensor([0.6923])), ('bias', tensor([0.2964]))])\n",
            "Epoch: 1720 | Test: 0.004964242689311504 | Test loss 0.010411137714982033\n",
            "OrderedDict([('weights', tensor([0.6923])), ('bias', tensor([0.2964]))])\n",
            "Epoch: 1730 | Test: 0.004964242689311504 | Test loss 0.010411137714982033\n",
            "OrderedDict([('weights', tensor([0.6923])), ('bias', tensor([0.2964]))])\n",
            "Epoch: 1740 | Test: 0.004964242689311504 | Test loss 0.010411137714982033\n",
            "OrderedDict([('weights', tensor([0.6923])), ('bias', tensor([0.2964]))])\n",
            "Epoch: 1750 | Test: 0.004964242689311504 | Test loss 0.010411137714982033\n",
            "OrderedDict([('weights', tensor([0.6923])), ('bias', tensor([0.2964]))])\n",
            "Epoch: 1760 | Test: 0.004964242689311504 | Test loss 0.010411137714982033\n",
            "OrderedDict([('weights', tensor([0.6923])), ('bias', tensor([0.2964]))])\n",
            "Epoch: 1770 | Test: 0.004964242689311504 | Test loss 0.010411137714982033\n",
            "OrderedDict([('weights', tensor([0.6923])), ('bias', tensor([0.2964]))])\n",
            "Epoch: 1780 | Test: 0.004964242689311504 | Test loss 0.010411137714982033\n",
            "OrderedDict([('weights', tensor([0.6923])), ('bias', tensor([0.2964]))])\n",
            "Epoch: 1790 | Test: 0.004964242689311504 | Test loss 0.010411137714982033\n",
            "OrderedDict([('weights', tensor([0.6923])), ('bias', tensor([0.2964]))])\n",
            "Epoch: 1800 | Test: 0.004964242689311504 | Test loss 0.010411137714982033\n",
            "OrderedDict([('weights', tensor([0.6923])), ('bias', tensor([0.2964]))])\n",
            "Epoch: 1810 | Test: 0.004964242689311504 | Test loss 0.010411137714982033\n",
            "OrderedDict([('weights', tensor([0.6923])), ('bias', tensor([0.2964]))])\n",
            "Epoch: 1820 | Test: 0.004964242689311504 | Test loss 0.010411137714982033\n",
            "OrderedDict([('weights', tensor([0.6923])), ('bias', tensor([0.2964]))])\n",
            "Epoch: 1830 | Test: 0.004964242689311504 | Test loss 0.010411137714982033\n",
            "OrderedDict([('weights', tensor([0.6923])), ('bias', tensor([0.2964]))])\n",
            "Epoch: 1840 | Test: 0.004964242689311504 | Test loss 0.010411137714982033\n",
            "OrderedDict([('weights', tensor([0.6923])), ('bias', tensor([0.2964]))])\n",
            "Epoch: 1850 | Test: 0.004964242689311504 | Test loss 0.010411137714982033\n",
            "OrderedDict([('weights', tensor([0.6923])), ('bias', tensor([0.2964]))])\n",
            "Epoch: 1860 | Test: 0.004964242689311504 | Test loss 0.010411137714982033\n",
            "OrderedDict([('weights', tensor([0.6923])), ('bias', tensor([0.2964]))])\n",
            "Epoch: 1870 | Test: 0.004964242689311504 | Test loss 0.010411137714982033\n",
            "OrderedDict([('weights', tensor([0.6923])), ('bias', tensor([0.2964]))])\n",
            "Epoch: 1880 | Test: 0.004964242689311504 | Test loss 0.010411137714982033\n",
            "OrderedDict([('weights', tensor([0.6923])), ('bias', tensor([0.2964]))])\n",
            "Epoch: 1890 | Test: 0.004964242689311504 | Test loss 0.010411137714982033\n",
            "OrderedDict([('weights', tensor([0.6923])), ('bias', tensor([0.2964]))])\n",
            "Epoch: 1900 | Test: 0.004964242689311504 | Test loss 0.010411137714982033\n",
            "OrderedDict([('weights', tensor([0.6923])), ('bias', tensor([0.2964]))])\n",
            "Epoch: 1910 | Test: 0.004964242689311504 | Test loss 0.010411137714982033\n",
            "OrderedDict([('weights', tensor([0.6923])), ('bias', tensor([0.2964]))])\n",
            "Epoch: 1920 | Test: 0.004964242689311504 | Test loss 0.010411137714982033\n",
            "OrderedDict([('weights', tensor([0.6923])), ('bias', tensor([0.2964]))])\n",
            "Epoch: 1930 | Test: 0.004964242689311504 | Test loss 0.010411137714982033\n",
            "OrderedDict([('weights', tensor([0.6923])), ('bias', tensor([0.2964]))])\n",
            "Epoch: 1940 | Test: 0.004964242689311504 | Test loss 0.010411137714982033\n",
            "OrderedDict([('weights', tensor([0.6923])), ('bias', tensor([0.2964]))])\n",
            "Epoch: 1950 | Test: 0.004964242689311504 | Test loss 0.010411137714982033\n",
            "OrderedDict([('weights', tensor([0.6923])), ('bias', tensor([0.2964]))])\n",
            "Epoch: 1960 | Test: 0.004964242689311504 | Test loss 0.010411137714982033\n",
            "OrderedDict([('weights', tensor([0.6923])), ('bias', tensor([0.2964]))])\n",
            "Epoch: 1970 | Test: 0.004964242689311504 | Test loss 0.010411137714982033\n",
            "OrderedDict([('weights', tensor([0.6923])), ('bias', tensor([0.2964]))])\n",
            "Epoch: 1980 | Test: 0.004964242689311504 | Test loss 0.010411137714982033\n",
            "OrderedDict([('weights', tensor([0.6923])), ('bias', tensor([0.2964]))])\n",
            "Epoch: 1990 | Test: 0.004964242689311504 | Test loss 0.010411137714982033\n",
            "OrderedDict([('weights', tensor([0.6923])), ('bias', tensor([0.2964]))])\n"
          ]
        }
      ]
    },
    {
      "cell_type": "code",
      "source": [
        "with torch.inference_mode():\n",
        "  y_preds_new = model_0(X_test)\n",
        "  \n",
        "\n",
        "plot_predictions(predictions=y_preds_new)"
      ],
      "metadata": {
        "colab": {
          "base_uri": "https://localhost:8080/",
          "height": 428
        },
        "id": "8Mtj-Wkj07B6",
        "outputId": "33fb6300-304f-4253-f8d6-53e63c146606"
      },
      "execution_count": null,
      "outputs": [
        {
          "output_type": "display_data",
          "data": {
            "text/plain": [
              "<Figure size 720x504 with 1 Axes>"
            ],
            "image/png": "[encoded data removed]"
          },
          "metadata": {
            "needs_background": "light"
          }
        }
      ]
    },
    {
      "cell_type": "code",
      "source": [
        "import numpy as np\n",
        "plt.plot(epoch_count, np.array(torch.tensor(loss_values).numpy()), label=\"Train loss\")\n",
        "plt.plot(epoch_count, test_loss_values, label = \"Test loss\")\n",
        "plt.title(\"Training and test loss curves\")\n",
        "plt.ylabel(\"Loss\")\n",
        "plt.xlabel(\"Epochs\")\n",
        "plt.legend()"
      ],
      "metadata": {
        "colab": {
          "base_uri": "https://localhost:8080/",
          "height": 312
        },
        "id": "uxA5V2fQBwni",
        "outputId": "cb949710-c88b-49ff-e737-9052ef84be99"
      },
      "execution_count": null,
      "outputs": [
        {
          "output_type": "execute_result",
          "data": {
            "text/plain": [
              "<matplotlib.legend.Legend at 0x7ff789d8d880>"
            ]
          },
          "metadata": {},
          "execution_count": 15
        },
        {
          "output_type": "display_data",
          "data": {
            "text/plain": [
              "<Figure size 432x288 with 1 Axes>"
            ],
            "image/png": "[encoded data removed]"
          },
          "metadata": {
            "needs_background": "light"
          }
        }
      ]
    },
    {
      "cell_type": "markdown",
      "source": [
        "### Saving a model in PyTorch\n"
      ],
      "metadata": {
        "id": "spCCV1QADuBC"
      }
    },
    {
      "cell_type": "code",
      "source": [
        "from pathlib import Path\n",
        "\n",
        "# 1. create model directory\n",
        "MODEL_PATH = Path(\"models\")\n",
        "MODEL_PATH.mkdir(parents = True, exist_ok=True)\n",
        "\n",
        "# 2. create model save path\n",
        "MODEL_NAME= \"01_pytorch_workflow_model_0.pth\"\n",
        "MODEL_SAVE_PATH = MODEL_PATH / MODEL_NAME\n",
        "\n",
        "# 3. Save model state_dict\n",
        "print(f\"Saving model to {MODEL_SAVE_PATH}\")\n",
        "torch.save(model_0.state_dict(), MODEL_SAVE_PATH)"
      ],
      "metadata": {
        "colab": {
          "base_uri": "https://localhost:8080/"
        },
        "id": "FgIp48rmE9ny",
        "outputId": "d938d7f1-97fa-4519-f0fd-bd019ea62a25"
      },
      "execution_count": null,
      "outputs": [
        {
          "output_type": "stream",
          "name": "stdout",
          "text": [
            "Saving model to models/01_pytorch_workflow_model_0.pth\n"
          ]
        }
      ]
    },
    {
      "cell_type": "markdown",
      "source": [
        "### Loading a Pytorch model"
      ],
      "metadata": {
        "id": "MmF7qaizGlJm"
      }
    },
    {
      "cell_type": "code",
      "source": [
        "loaded_model_0 = LinearRegressionModel()\n",
        "\n",
        "loaded_model_0.load_state_dict(torch.load(f=MODEL_SAVE_PATH))\n",
        "loaded_model_0.state_dict()"
      ],
      "metadata": {
        "colab": {
          "base_uri": "https://localhost:8080/"
        },
        "id": "3T6FATxXG_uh",
        "outputId": "80f7004c-ab56-4d21-b4c7-813dfa0fec59"
      },
      "execution_count": null,
      "outputs": [
        {
          "output_type": "execute_result",
          "data": {
            "text/plain": [
              "OrderedDict([('weights', tensor([0.6962])), ('bias', tensor([0.3064]))])"
            ]
          },
          "metadata": {},
          "execution_count": 21
        }
      ]
    },
    {
      "cell_type": "code",
      "source": [
        "loaded_model_0.eval()\n",
        "with torch.inference_mode():\n",
        "  loaded_model_preds = loaded_model_0(X_test)\n",
        "\n",
        "  y_preds == loaded_model_preds"
      ],
      "metadata": {
        "id": "YKtfQHo4IBRK"
      },
      "execution_count": null,
      "outputs": []
    },
    {
      "cell_type": "code",
      "source": [],
      "metadata": {
        "id": "dwYjT_lWIFKO"
      },
      "execution_count": null,
      "outputs": []
    }
  ]
}