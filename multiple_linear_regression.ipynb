{
  "nbformat": 4,
  "nbformat_minor": 0,
  "metadata": {
    "colab": {
      "provenance": [],
      "authorship_tag": "ABX9TyOksAmvRciR5WVXdWU88Esb",
      "include_colab_link": true
    },
    "kernelspec": {
      "name": "python3",
      "display_name": "Python 3"
    },
    "language_info": {
      "name": "python"
    },
    "accelerator": "GPU",
    "gpuClass": "standard",
    "widgets": {
      "application/vnd.jupyter.widget-state+json": {
        "f64e6d9c9eb64204b0658ae7ffd239b5": {
          "model_module": "@jupyter-widgets/controls",
          "model_name": "HBoxModel",
          "model_module_version": "1.5.0",
          "state": {
            "_dom_classes": [],
            "_model_module": "@jupyter-widgets/controls",
            "_model_module_version": "1.5.0",
            "_model_name": "HBoxModel",
            "_view_count": null,
            "_view_module": "@jupyter-widgets/controls",
            "_view_module_version": "1.5.0",
            "_view_name": "HBoxView",
            "box_style": "",
            "children": [
              "IPY_MODEL_44263c4d943b4461b956565b1127ba72",
              "IPY_MODEL_9a72c89998f24be587f1a4b6c5ee0e98",
              "IPY_MODEL_5ef0b05a3fbd458ea752954fedbd5e2f"
            ],
            "layout": "IPY_MODEL_fc13fc374670407db8479fee100f212c"
          }
        },
        "44263c4d943b4461b956565b1127ba72": {
          "model_module": "@jupyter-widgets/controls",
          "model_name": "HTMLModel",
          "model_module_version": "1.5.0",
          "state": {
            "_dom_classes": [],
            "_model_module": "@jupyter-widgets/controls",
            "_model_module_version": "1.5.0",
            "_model_name": "HTMLModel",
            "_view_count": null,
            "_view_module": "@jupyter-widgets/controls",
            "_view_module_version": "1.5.0",
            "_view_name": "HTMLView",
            "description": "",
            "description_tooltip": null,
            "layout": "IPY_MODEL_3a80e35f4dcf442ea389a6e73fdc5754",
            "placeholder": "​",
            "style": "IPY_MODEL_6c4e409cb70043489e8fd0017fd8830d",
            "value": "100%"
          }
        },
        "9a72c89998f24be587f1a4b6c5ee0e98": {
          "model_module": "@jupyter-widgets/controls",
          "model_name": "FloatProgressModel",
          "model_module_version": "1.5.0",
          "state": {
            "_dom_classes": [],
            "_model_module": "@jupyter-widgets/controls",
            "_model_module_version": "1.5.0",
            "_model_name": "FloatProgressModel",
            "_view_count": null,
            "_view_module": "@jupyter-widgets/controls",
            "_view_module_version": "1.5.0",
            "_view_name": "ProgressView",
            "bar_style": "success",
            "description": "",
            "description_tooltip": null,
            "layout": "IPY_MODEL_70579a81446c4ae19ba69d80f50da526",
            "max": 10000,
            "min": 0,
            "orientation": "horizontal",
            "style": "IPY_MODEL_9e09980beb0749bf9d90eb5db8be4c11",
            "value": 10000
          }
        },
        "5ef0b05a3fbd458ea752954fedbd5e2f": {
          "model_module": "@jupyter-widgets/controls",
          "model_name": "HTMLModel",
          "model_module_version": "1.5.0",
          "state": {
            "_dom_classes": [],
            "_model_module": "@jupyter-widgets/controls",
            "_model_module_version": "1.5.0",
            "_model_name": "HTMLModel",
            "_view_count": null,
            "_view_module": "@jupyter-widgets/controls",
            "_view_module_version": "1.5.0",
            "_view_name": "HTMLView",
            "description": "",
            "description_tooltip": null,
            "layout": "IPY_MODEL_af4461c86b4f4f29ba6e49a4a6973745",
            "placeholder": "​",
            "style": "IPY_MODEL_ce4fc249218a4f1ba03bf082c60d3202",
            "value": " 10000/10000 [00:06&lt;00:00, 1717.18it/s]"
          }
        },
        "fc13fc374670407db8479fee100f212c": {
          "model_module": "@jupyter-widgets/base",
          "model_name": "LayoutModel",
          "model_module_version": "1.2.0",
          "state": {
            "_model_module": "@jupyter-widgets/base",
            "_model_module_version": "1.2.0",
            "_model_name": "LayoutModel",
            "_view_count": null,
            "_view_module": "@jupyter-widgets/base",
            "_view_module_version": "1.2.0",
            "_view_name": "LayoutView",
            "align_content": null,
            "align_items": null,
            "align_self": null,
            "border": null,
            "bottom": null,
            "display": null,
            "flex": null,
            "flex_flow": null,
            "grid_area": null,
            "grid_auto_columns": null,
            "grid_auto_flow": null,
            "grid_auto_rows": null,
            "grid_column": null,
            "grid_gap": null,
            "grid_row": null,
            "grid_template_areas": null,
            "grid_template_columns": null,
            "grid_template_rows": null,
            "height": null,
            "justify_content": null,
            "justify_items": null,
            "left": null,
            "margin": null,
            "max_height": null,
            "max_width": null,
            "min_height": null,
            "min_width": null,
            "object_fit": null,
            "object_position": null,
            "order": null,
            "overflow": null,
            "overflow_x": null,
            "overflow_y": null,
            "padding": null,
            "right": null,
            "top": null,
            "visibility": null,
            "width": null
          }
        },
        "3a80e35f4dcf442ea389a6e73fdc5754": {
          "model_module": "@jupyter-widgets/base",
          "model_name": "LayoutModel",
          "model_module_version": "1.2.0",
          "state": {
            "_model_module": "@jupyter-widgets/base",
            "_model_module_version": "1.2.0",
            "_model_name": "LayoutModel",
            "_view_count": null,
            "_view_module": "@jupyter-widgets/base",
            "_view_module_version": "1.2.0",
            "_view_name": "LayoutView",
            "align_content": null,
            "align_items": null,
            "align_self": null,
            "border": null,
            "bottom": null,
            "display": null,
            "flex": null,
            "flex_flow": null,
            "grid_area": null,
            "grid_auto_columns": null,
            "grid_auto_flow": null,
            "grid_auto_rows": null,
            "grid_column": null,
            "grid_gap": null,
            "grid_row": null,
            "grid_template_areas": null,
            "grid_template_columns": null,
            "grid_template_rows": null,
            "height": null,
            "justify_content": null,
            "justify_items": null,
            "left": null,
            "margin": null,
            "max_height": null,
            "max_width": null,
            "min_height": null,
            "min_width": null,
            "object_fit": null,
            "object_position": null,
            "order": null,
            "overflow": null,
            "overflow_x": null,
            "overflow_y": null,
            "padding": null,
            "right": null,
            "top": null,
            "visibility": null,
            "width": null
          }
        },
        "6c4e409cb70043489e8fd0017fd8830d": {
          "model_module": "@jupyter-widgets/controls",
          "model_name": "DescriptionStyleModel",
          "model_module_version": "1.5.0",
          "state": {
            "_model_module": "@jupyter-widgets/controls",
            "_model_module_version": "1.5.0",
            "_model_name": "DescriptionStyleModel",
            "_view_count": null,
            "_view_module": "@jupyter-widgets/base",
            "_view_module_version": "1.2.0",
            "_view_name": "StyleView",
            "description_width": ""
          }
        },
        "70579a81446c4ae19ba69d80f50da526": {
          "model_module": "@jupyter-widgets/base",
          "model_name": "LayoutModel",
          "model_module_version": "1.2.0",
          "state": {
            "_model_module": "@jupyter-widgets/base",
            "_model_module_version": "1.2.0",
            "_model_name": "LayoutModel",
            "_view_count": null,
            "_view_module": "@jupyter-widgets/base",
            "_view_module_version": "1.2.0",
            "_view_name": "LayoutView",
            "align_content": null,
            "align_items": null,
            "align_self": null,
            "border": null,
            "bottom": null,
            "display": null,
            "flex": null,
            "flex_flow": null,
            "grid_area": null,
            "grid_auto_columns": null,
            "grid_auto_flow": null,
            "grid_auto_rows": null,
            "grid_column": null,
            "grid_gap": null,
            "grid_row": null,
            "grid_template_areas": null,
            "grid_template_columns": null,
            "grid_template_rows": null,
            "height": null,
            "justify_content": null,
            "justify_items": null,
            "left": null,
            "margin": null,
            "max_height": null,
            "max_width": null,
            "min_height": null,
            "min_width": null,
            "object_fit": null,
            "object_position": null,
            "order": null,
            "overflow": null,
            "overflow_x": null,
            "overflow_y": null,
            "padding": null,
            "right": null,
            "top": null,
            "visibility": null,
            "width": null
          }
        },
        "9e09980beb0749bf9d90eb5db8be4c11": {
          "model_module": "@jupyter-widgets/controls",
          "model_name": "ProgressStyleModel",
          "model_module_version": "1.5.0",
          "state": {
            "_model_module": "@jupyter-widgets/controls",
            "_model_module_version": "1.5.0",
            "_model_name": "ProgressStyleModel",
            "_view_count": null,
            "_view_module": "@jupyter-widgets/base",
            "_view_module_version": "1.2.0",
            "_view_name": "StyleView",
            "bar_color": null,
            "description_width": ""
          }
        },
        "af4461c86b4f4f29ba6e49a4a6973745": {
          "model_module": "@jupyter-widgets/base",
          "model_name": "LayoutModel",
          "model_module_version": "1.2.0",
          "state": {
            "_model_module": "@jupyter-widgets/base",
            "_model_module_version": "1.2.0",
            "_model_name": "LayoutModel",
            "_view_count": null,
            "_view_module": "@jupyter-widgets/base",
            "_view_module_version": "1.2.0",
            "_view_name": "LayoutView",
            "align_content": null,
            "align_items": null,
            "align_self": null,
            "border": null,
            "bottom": null,
            "display": null,
            "flex": null,
            "flex_flow": null,
            "grid_area": null,
            "grid_auto_columns": null,
            "grid_auto_flow": null,
            "grid_auto_rows": null,
            "grid_column": null,
            "grid_gap": null,
            "grid_row": null,
            "grid_template_areas": null,
            "grid_template_columns": null,
            "grid_template_rows": null,
            "height": null,
            "justify_content": null,
            "justify_items": null,
            "left": null,
            "margin": null,
            "max_height": null,
            "max_width": null,
            "min_height": null,
            "min_width": null,
            "object_fit": null,
            "object_position": null,
            "order": null,
            "overflow": null,
            "overflow_x": null,
            "overflow_y": null,
            "padding": null,
            "right": null,
            "top": null,
            "visibility": null,
            "width": null
          }
        },
        "ce4fc249218a4f1ba03bf082c60d3202": {
          "model_module": "@jupyter-widgets/controls",
          "model_name": "DescriptionStyleModel",
          "model_module_version": "1.5.0",
          "state": {
            "_model_module": "@jupyter-widgets/controls",
            "_model_module_version": "1.5.0",
            "_model_name": "DescriptionStyleModel",
            "_view_count": null,
            "_view_module": "@jupyter-widgets/base",
            "_view_module_version": "1.2.0",
            "_view_name": "StyleView",
            "description_width": ""
          }
        }
      }
    }
  },
  "cells": [
    {
      "cell_type": "markdown",
      "metadata": {
        "id": "view-in-github",
        "colab_type": "text"
      },
      "source": [
        "<a href=\"https://colab.research.google.com/github/patrickabadi/python-pytorch-notebooks/blob/main/multiple_linear_regression.ipynb\" target=\"_parent\"><img src=\"https://colab.research.google.com/assets/colab-badge.svg\" alt=\"Open In Colab\"/></a>"
      ]
    },
    {
      "cell_type": "markdown",
      "source": [
        "# Using Linear Regression on a multi-variate dataset\n",
        "\n",
        "- Numpy\n",
        "- Sci-kit Learn\n",
        "- Pytorch"
      ],
      "metadata": {
        "id": "vqz0brS3tpvD"
      }
    },
    {
      "cell_type": "code",
      "source": [
        "import pandas as pd\n",
        "import numpy as np\n",
        "from sklearn.linear_model import LinearRegression\n",
        "from sklearn.datasets import load_diabetes\n",
        "\n",
        "dataset = load_diabetes()\n",
        "print(dataset.DESCR)"
      ],
      "metadata": {
        "colab": {
          "base_uri": "https://localhost:8080/"
        },
        "id": "gIQFfG45vuUf",
        "outputId": "f2b5d984-0668-4a1e-d4c6-9042a48d5488"
      },
      "execution_count": 1,
      "outputs": [
        {
          "output_type": "stream",
          "name": "stdout",
          "text": [
            ".. _diabetes_dataset:\n",
            "\n",
            "Diabetes dataset\n",
            "----------------\n",
            "\n",
            "Ten baseline variables, age, sex, body mass index, average blood\n",
            "pressure, and six blood serum measurements were obtained for each of n =\n",
            "442 diabetes patients, as well as the response of interest, a\n",
            "quantitative measure of disease progression one year after baseline.\n",
            "\n",
            "**Data Set Characteristics:**\n",
            "\n",
            "  :Number of Instances: 442\n",
            "\n",
            "  :Number of Attributes: First 10 columns are numeric predictive values\n",
            "\n",
            "  :Target: Column 11 is a quantitative measure of disease progression one year after baseline\n",
            "\n",
            "  :Attribute Information:\n",
            "      - age     age in years\n",
            "      - sex\n",
            "      - bmi     body mass index\n",
            "      - bp      average blood pressure\n",
            "      - s1      tc, total serum cholesterol\n",
            "      - s2      ldl, low-density lipoproteins\n",
            "      - s3      hdl, high-density lipoproteins\n",
            "      - s4      tch, total cholesterol / HDL\n",
            "      - s5      ltg, possibly log of serum triglycerides level\n",
            "      - s6      glu, blood sugar level\n",
            "\n",
            "Note: Each of these 10 feature variables have been mean centered and scaled by the standard deviation times the square root of `n_samples` (i.e. the sum of squares of each column totals 1).\n",
            "\n",
            "Source URL:\n",
            "https://www4.stat.ncsu.edu/~boos/var.select/diabetes.html\n",
            "\n",
            "For more information see:\n",
            "Bradley Efron, Trevor Hastie, Iain Johnstone and Robert Tibshirani (2004) \"Least Angle Regression,\" Annals of Statistics (with discussion), 407-499.\n",
            "(https://web.stanford.edu/~hastie/Papers/LARS/LeastAngle_2002.pdf)\n",
            "\n"
          ]
        }
      ]
    },
    {
      "cell_type": "code",
      "source": [
        "# split the data\n",
        "X = dataset['data']\n",
        "y = dataset['target']\n",
        "\n",
        "X.shape, X.dtype, y.shape, y.dtype"
      ],
      "metadata": {
        "colab": {
          "base_uri": "https://localhost:8080/"
        },
        "id": "Fyi5p9yFxp8r",
        "outputId": "fc0b8944-ff4f-4828-99e8-f4db0556bd5b"
      },
      "execution_count": 2,
      "outputs": [
        {
          "output_type": "execute_result",
          "data": {
            "text/plain": [
              "((442, 10), dtype('float64'), (442,), dtype('float64'))"
            ]
          },
          "metadata": {},
          "execution_count": 2
        }
      ]
    },
    {
      "cell_type": "code",
      "source": [
        "from sklearn.model_selection import train_test_split\n",
        "# split into training and testing\n",
        "X_train, X_test, y_train, y_test = train_test_split(X,y,test_size=0.2)\n",
        "\n",
        "X_train.shape, y_train.shape, X_test.shape, y_test.shape"
      ],
      "metadata": {
        "colab": {
          "base_uri": "https://localhost:8080/"
        },
        "id": "3F0SwqbhzXoI",
        "outputId": "ab372a09-67ec-4f51-e4da-fb3809f4ddfc"
      },
      "execution_count": 3,
      "outputs": [
        {
          "output_type": "execute_result",
          "data": {
            "text/plain": [
              "((353, 10), (353,), (89, 10), (89,))"
            ]
          },
          "metadata": {},
          "execution_count": 3
        }
      ]
    },
    {
      "cell_type": "code",
      "source": [
        "X_train_dt = pd.DataFrame(X_train, columns=dataset['feature_names'] )\n",
        "X_train_dt.head()"
      ],
      "metadata": {
        "colab": {
          "base_uri": "https://localhost:8080/",
          "height": 206
        },
        "id": "Qc-Ovq3Gkyga",
        "outputId": "83fd669f-1657-4c39-d8ae-22ab0423304c"
      },
      "execution_count": 4,
      "outputs": [
        {
          "output_type": "execute_result",
          "data": {
            "text/plain": [
              "        age       sex       bmi        bp        s1        s2        s3  \\\n",
              "0 -0.041840 -0.044642  0.041218 -0.026328 -0.031840 -0.030437 -0.036038   \n",
              "1  0.009016 -0.044642  0.045529  0.028758  0.012191 -0.013840  0.026550   \n",
              "2  0.045341  0.050680 -0.008362 -0.033213 -0.007073  0.001191 -0.039719   \n",
              "3  0.012648 -0.044642  0.015350 -0.033213  0.041086  0.032193 -0.002903   \n",
              "4 -0.099961 -0.044642 -0.023451 -0.064199 -0.057983 -0.060186  0.011824   \n",
              "\n",
              "         s4        s5        s6  \n",
              "0  0.002943  0.033654 -0.017646  \n",
              "1 -0.039493  0.046133  0.036201  \n",
              "2  0.034309  0.029935  0.027917  \n",
              "3 -0.002592  0.045067 -0.067351  \n",
              "4 -0.039493 -0.018114 -0.050783  "
            ],
            "text/html": [
              "\n",
              "  <div id=\"df-edc1b154-5f4d-4845-8982-dddab8610326\">\n",
              "    <div class=\"colab-df-container\">\n",
              "      <div>\n",
              "<style scoped>\n",
              "    .dataframe tbody tr th:only-of-type {\n",
              "        vertical-align: middle;\n",
              "    }\n",
              "\n",
              "    .dataframe tbody tr th {\n",
              "        vertical-align: top;\n",
              "    }\n",
              "\n",
              "    .dataframe thead th {\n",
              "        text-align: right;\n",
              "    }\n",
              "</style>\n",
              "<table border=\"1\" class=\"dataframe\">\n",
              "  <thead>\n",
              "    <tr style=\"text-align: right;\">\n",
              "      <th></th>\n",
              "      <th>age</th>\n",
              "      <th>sex</th>\n",
              "      <th>bmi</th>\n",
              "      <th>bp</th>\n",
              "      <th>s1</th>\n",
              "      <th>s2</th>\n",
              "      <th>s3</th>\n",
              "      <th>s4</th>\n",
              "      <th>s5</th>\n",
              "      <th>s6</th>\n",
              "    </tr>\n",
              "  </thead>\n",
              "  <tbody>\n",
              "    <tr>\n",
              "      <th>0</th>\n",
              "      <td>-0.041840</td>\n",
              "      <td>-0.044642</td>\n",
              "      <td>0.041218</td>\n",
              "      <td>-0.026328</td>\n",
              "      <td>-0.031840</td>\n",
              "      <td>-0.030437</td>\n",
              "      <td>-0.036038</td>\n",
              "      <td>0.002943</td>\n",
              "      <td>0.033654</td>\n",
              "      <td>-0.017646</td>\n",
              "    </tr>\n",
              "    <tr>\n",
              "      <th>1</th>\n",
              "      <td>0.009016</td>\n",
              "      <td>-0.044642</td>\n",
              "      <td>0.045529</td>\n",
              "      <td>0.028758</td>\n",
              "      <td>0.012191</td>\n",
              "      <td>-0.013840</td>\n",
              "      <td>0.026550</td>\n",
              "      <td>-0.039493</td>\n",
              "      <td>0.046133</td>\n",
              "      <td>0.036201</td>\n",
              "    </tr>\n",
              "    <tr>\n",
              "      <th>2</th>\n",
              "      <td>0.045341</td>\n",
              "      <td>0.050680</td>\n",
              "      <td>-0.008362</td>\n",
              "      <td>-0.033213</td>\n",
              "      <td>-0.007073</td>\n",
              "      <td>0.001191</td>\n",
              "      <td>-0.039719</td>\n",
              "      <td>0.034309</td>\n",
              "      <td>0.029935</td>\n",
              "      <td>0.027917</td>\n",
              "    </tr>\n",
              "    <tr>\n",
              "      <th>3</th>\n",
              "      <td>0.012648</td>\n",
              "      <td>-0.044642</td>\n",
              "      <td>0.015350</td>\n",
              "      <td>-0.033213</td>\n",
              "      <td>0.041086</td>\n",
              "      <td>0.032193</td>\n",
              "      <td>-0.002903</td>\n",
              "      <td>-0.002592</td>\n",
              "      <td>0.045067</td>\n",
              "      <td>-0.067351</td>\n",
              "    </tr>\n",
              "    <tr>\n",
              "      <th>4</th>\n",
              "      <td>-0.099961</td>\n",
              "      <td>-0.044642</td>\n",
              "      <td>-0.023451</td>\n",
              "      <td>-0.064199</td>\n",
              "      <td>-0.057983</td>\n",
              "      <td>-0.060186</td>\n",
              "      <td>0.011824</td>\n",
              "      <td>-0.039493</td>\n",
              "      <td>-0.018114</td>\n",
              "      <td>-0.050783</td>\n",
              "    </tr>\n",
              "  </tbody>\n",
              "</table>\n",
              "</div>\n",
              "      <button class=\"colab-df-convert\" onclick=\"convertToInteractive('df-edc1b154-5f4d-4845-8982-dddab8610326')\"\n",
              "              title=\"Convert this dataframe to an interactive table.\"\n",
              "              style=\"display:none;\">\n",
              "        \n",
              "  <svg xmlns=\"http://www.w3.org/2000/svg\" height=\"24px\"viewBox=\"0 0 24 24\"\n",
              "       width=\"24px\">\n",
              "    <path d=\"M0 0h24v24H0V0z\" fill=\"none\"/>\n",
              "    <path d=\"M18.56 5.44l.94 2.06.94-2.06 2.06-.94-2.06-.94-.94-2.06-.94 2.06-2.06.94zm-11 1L8.5 8.5l.94-2.06 2.06-.94-2.06-.94L8.5 2.5l-.94 2.06-2.06.94zm10 10l.94 2.06.94-2.06 2.06-.94-2.06-.94-.94-2.06-.94 2.06-2.06.94z\"/><path d=\"M17.41 7.96l-1.37-1.37c-.4-.4-.92-.59-1.43-.59-.52 0-1.04.2-1.43.59L10.3 9.45l-7.72 7.72c-.78.78-.78 2.05 0 2.83L4 21.41c.39.39.9.59 1.41.59.51 0 1.02-.2 1.41-.59l7.78-7.78 2.81-2.81c.8-.78.8-2.07 0-2.86zM5.41 20L4 18.59l7.72-7.72 1.47 1.35L5.41 20z\"/>\n",
              "  </svg>\n",
              "      </button>\n",
              "      \n",
              "  <style>\n",
              "    .colab-df-container {\n",
              "      display:flex;\n",
              "      flex-wrap:wrap;\n",
              "      gap: 12px;\n",
              "    }\n",
              "\n",
              "    .colab-df-convert {\n",
              "      background-color: #E8F0FE;\n",
              "      border: none;\n",
              "      border-radius: 50%;\n",
              "      cursor: pointer;\n",
              "      display: none;\n",
              "      fill: #1967D2;\n",
              "      height: 32px;\n",
              "      padding: 0 0 0 0;\n",
              "      width: 32px;\n",
              "    }\n",
              "\n",
              "    .colab-df-convert:hover {\n",
              "      background-color: #E2EBFA;\n",
              "      box-shadow: 0px 1px 2px rgba(60, 64, 67, 0.3), 0px 1px 3px 1px rgba(60, 64, 67, 0.15);\n",
              "      fill: #174EA6;\n",
              "    }\n",
              "\n",
              "    [theme=dark] .colab-df-convert {\n",
              "      background-color: #3B4455;\n",
              "      fill: #D2E3FC;\n",
              "    }\n",
              "\n",
              "    [theme=dark] .colab-df-convert:hover {\n",
              "      background-color: #434B5C;\n",
              "      box-shadow: 0px 1px 3px 1px rgba(0, 0, 0, 0.15);\n",
              "      filter: drop-shadow(0px 1px 2px rgba(0, 0, 0, 0.3));\n",
              "      fill: #FFFFFF;\n",
              "    }\n",
              "  </style>\n",
              "\n",
              "      <script>\n",
              "        const buttonEl =\n",
              "          document.querySelector('#df-edc1b154-5f4d-4845-8982-dddab8610326 button.colab-df-convert');\n",
              "        buttonEl.style.display =\n",
              "          google.colab.kernel.accessAllowed ? 'block' : 'none';\n",
              "\n",
              "        async function convertToInteractive(key) {\n",
              "          const element = document.querySelector('#df-edc1b154-5f4d-4845-8982-dddab8610326');\n",
              "          const dataTable =\n",
              "            await google.colab.kernel.invokeFunction('convertToInteractive',\n",
              "                                                     [key], {});\n",
              "          if (!dataTable) return;\n",
              "\n",
              "          const docLinkHtml = 'Like what you see? Visit the ' +\n",
              "            '<a target=\"_blank\" href=https://colab.research.google.com/notebooks/data_table.ipynb>data table notebook</a>'\n",
              "            + ' to learn more about interactive tables.';\n",
              "          element.innerHTML = '';\n",
              "          dataTable['output_type'] = 'display_data';\n",
              "          await google.colab.output.renderOutput(dataTable, element);\n",
              "          const docLink = document.createElement('div');\n",
              "          docLink.innerHTML = docLinkHtml;\n",
              "          element.appendChild(docLink);\n",
              "        }\n",
              "      </script>\n",
              "    </div>\n",
              "  </div>\n",
              "  "
            ]
          },
          "metadata": {},
          "execution_count": 4
        }
      ]
    },
    {
      "cell_type": "markdown",
      "source": [
        "## Linear Regression using Numpy\n"
      ],
      "metadata": {
        "id": "4kHqhUeM0HVg"
      }
    },
    {
      "cell_type": "code",
      "source": [
        "X_train_numpy = X_train.copy()\n",
        "X_train_numpy = np.c_[X_train_numpy, np.ones(X_train_numpy.shape[0])] # add bias term\n",
        "\n",
        "beta = np.linalg.lstsq(X_train_numpy, y_train, rcond=None)[0]\n",
        "print(beta, beta.shape)\n"
      ],
      "metadata": {
        "colab": {
          "base_uri": "https://localhost:8080/"
        },
        "id": "4_tVbAva1HZ_",
        "outputId": "52856357-f3b9-4376-ba08-b22deb90829a"
      },
      "execution_count": 12,
      "outputs": [
        {
          "output_type": "stream",
          "name": "stdout",
          "text": [
            "[   4.54589658 -241.12294879  500.54279571  324.68862363 -751.68694211\n",
            "  460.57066754   83.26892134  171.72286386  703.22844594   51.69857629\n",
            "  150.5877848 ] (11,)\n"
          ]
        }
      ]
    },
    {
      "cell_type": "markdown",
      "source": [
        "## Linear Regression using SciKit Learn"
      ],
      "metadata": {
        "id": "Yhc3cDl9pgjg"
      }
    },
    {
      "cell_type": "code",
      "source": [
        "from sklearn.linear_model import LinearRegression\n",
        "from sklearn.metrics import mean_squared_error\n",
        "\n",
        "model = LinearRegression()\n",
        "model.fit(X_train, y_train)\n",
        "\n",
        "y_pred = model.predict(X_test)\n",
        "\n",
        "print(\"MSE on test {:.3f}\".format(mean_squared_error(y_pred, y_test)))\n",
        "print(f\"Intercept: {model.intercept_}, Coefficients: {model.coef_}\")"
      ],
      "metadata": {
        "colab": {
          "base_uri": "https://localhost:8080/"
        },
        "id": "joHrHDfppmiT",
        "outputId": "54d4f57e-d019-406a-9bbe-38d05887973d"
      },
      "execution_count": 6,
      "outputs": [
        {
          "output_type": "stream",
          "name": "stdout",
          "text": [
            "MSE on test 2572.322\n",
            "Intercept: 150.58778479536784, Coefficients: [   4.54589658 -241.12294879  500.54279571  324.68862363 -751.68694211\n",
            "  460.57066754   83.26892134  171.72286386  703.22844594   51.69857629]\n"
          ]
        }
      ]
    },
    {
      "cell_type": "code",
      "source": [
        "# plot the regression line\n",
        "import matplotlib.pyplot as plt\n",
        "\n",
        "plt.scatter(y_test, y_pred)\n",
        "plt.plot([0,350], [0,350], 'r')\n",
        "plt.xlabel('Actual')\n",
        "plt.ylabel('Predicted')\n",
        "plt.grid()"
      ],
      "metadata": {
        "colab": {
          "base_uri": "https://localhost:8080/",
          "height": 279
        },
        "id": "QVYp_8fzskIF",
        "outputId": "02a108c3-683d-4379-bc2a-69950ded2079"
      },
      "execution_count": 11,
      "outputs": [
        {
          "output_type": "display_data",
          "data": {
            "text/plain": [
              "<Figure size 432x288 with 1 Axes>"
            ],
            "image/png": "[encoded data removed]"
          },
          "metadata": {
            "needs_background": "light"
          }
        }
      ]
    },
    {
      "cell_type": "markdown",
      "source": [
        "##Linear Regression with Pytorch"
      ],
      "metadata": {
        "id": "yseOOZ8Du6Fn"
      }
    },
    {
      "cell_type": "code",
      "source": [
        "import torch\n",
        "import torch.nn as nn\n",
        "import torch.optim as optim\n",
        "from tqdm.auto import tqdm\n",
        "\n",
        "device = \"cuda\" if torch.cuda.is_available() else \"cpu\"\n",
        "\n",
        "class LinearRegressionNN(nn.Module):\n",
        "  def __init__(self, in_columns: int):\n",
        "    super().__init__()\n",
        "    self.linear = nn.Linear(in_features=in_columns, out_features=1, dtype = torch.float64)\n",
        "\n",
        "  def forward(self, x):\n",
        "    out = self.linear(x)\n",
        "    return out;\n",
        "\n",
        "columns = X_train.shape[1]\n",
        "\n",
        "# create model, loss function, and optimizer\n",
        "model = LinearRegressionNN(in_columns=columns).to(device)\n",
        "loss_fn = nn.MSELoss()\n",
        "optimizer = optim.SGD(model.parameters(), lr=0.001)\n",
        "\n",
        "NUM_EPOCHS = 10000\n",
        "\n",
        "model.train()\n",
        "\n",
        "inputs = torch.from_numpy(X_train).to(device)\n",
        "targets = torch.from_numpy(y_train).unsqueeze(1).to(device)\n",
        "\n",
        "print(f\"inputs shape: {inputs.shape}, dtype: {inputs.dtype}\")\n",
        "\n",
        "for epoch in tqdm(range(NUM_EPOCHS)):\n",
        "  y_pred = model(inputs)\n",
        "\n",
        "  loss = loss_fn(y_pred, targets)\n",
        "\n",
        "  optimizer.zero_grad()\n",
        "\n",
        "  loss.backward()\n",
        "\n",
        "  optimizer.step()\n",
        "\n",
        "  if epoch % 1000 == 0:\n",
        "    print(f\"Epoch {epoch+1}/{NUM_EPOCHS}, Loss: {loss.item():.4f}\")\n",
        "\n",
        "# final params\n",
        "with torch.inference_mode():\n",
        "  W_val = model.cpu().linear.weight.numpy()\n",
        "  b_val = model.cpu().linear.bias.numpy()\n",
        "\n",
        "print(f\"Weight: {W_val}, Bias: {b_val}\")\n"
      ],
      "metadata": {
        "colab": {
          "base_uri": "https://localhost:8080/",
          "height": 275,
          "referenced_widgets": [
            "f64e6d9c9eb64204b0658ae7ffd239b5",
            "44263c4d943b4461b956565b1127ba72",
            "9a72c89998f24be587f1a4b6c5ee0e98",
            "5ef0b05a3fbd458ea752954fedbd5e2f",
            "fc13fc374670407db8479fee100f212c",
            "3a80e35f4dcf442ea389a6e73fdc5754",
            "6c4e409cb70043489e8fd0017fd8830d",
            "70579a81446c4ae19ba69d80f50da526",
            "9e09980beb0749bf9d90eb5db8be4c11",
            "af4461c86b4f4f29ba6e49a4a6973745",
            "ce4fc249218a4f1ba03bf082c60d3202"
          ]
        },
        "id": "htYvuZo2u-NU",
        "outputId": "e866a67e-e875-41e7-a7f1-d1303aae696a"
      },
      "execution_count": 30,
      "outputs": [
        {
          "output_type": "stream",
          "name": "stdout",
          "text": [
            "inputs shape: torch.Size([353, 10]), dtype: torch.float64\n"
          ]
        },
        {
          "output_type": "display_data",
          "data": {
            "text/plain": [
              "  0%|          | 0/10000 [00:00<?, ?it/s]"
            ],
            "application/vnd.jupyter.widget-view+json": {
              "version_major": 2,
              "version_minor": 0,
              "model_id": "f64e6d9c9eb64204b0658ae7ffd239b5"
            }
          },
          "metadata": {}
        },
        {
          "output_type": "stream",
          "name": "stdout",
          "text": [
            "Epoch 1/10000, Loss: 28821.1069\n",
            "Epoch 1001/10000, Loss: 6163.7187\n",
            "Epoch 2001/10000, Loss: 5681.7346\n",
            "Epoch 3001/10000, Loss: 5606.4228\n",
            "Epoch 4001/10000, Loss: 5540.6334\n",
            "Epoch 5001/10000, Loss: 5477.0499\n",
            "Epoch 6001/10000, Loss: 5415.4689\n",
            "Epoch 7001/10000, Loss: 5355.8192\n",
            "Epoch 8001/10000, Loss: 5298.0347\n",
            "Epoch 9001/10000, Loss: 5242.0513\n",
            "Weight: [[ 11.72253217   1.52185882  39.02922181  29.41400078  13.26968651\n",
            "   10.86116109 -26.96337088  28.25791473  37.74763879  24.82978314]], Bias: [151.51845774]\n"
          ]
        }
      ]
    },
    {
      "cell_type": "code",
      "source": [
        "# now predict with our test values\n",
        "model.eval()\n",
        "\n",
        "input_tests = torch.from_numpy(X_test).to(device)\n",
        "\n",
        "with torch.inference_mode():\n",
        "  y_test_pred = model(input_tests).flatten()\n",
        "\n",
        "print(y_test_pred, y_test)"
      ],
      "metadata": {
        "colab": {
          "base_uri": "https://localhost:8080/"
        },
        "id": "WeGIXP-S2c6p",
        "outputId": "dda8f162-2da4-410b-99c5-dce515e8d309"
      },
      "execution_count": 28,
      "outputs": [
        {
          "output_type": "stream",
          "name": "stdout",
          "text": [
            "tensor([153.1086, 151.3819, 146.5644, 153.4969, 160.8767, 154.1083, 155.3482,\n",
            "        155.1883, 153.7982, 143.3188, 148.7251, 166.6496, 145.1506, 144.5060,\n",
            "        154.8580, 147.0319, 147.2711, 156.6626, 150.7707, 147.2000, 152.9734,\n",
            "        163.2771, 154.4320, 157.7972, 158.4486, 153.2301, 163.3044, 140.9756,\n",
            "        149.0433, 147.0086, 153.3020, 144.4843, 146.6629, 150.3570, 147.6016,\n",
            "        165.6948, 156.7817, 158.5404, 141.5429, 141.4444, 146.4657, 145.2770,\n",
            "        139.2620, 153.7316, 141.4649, 164.8985, 153.4288, 142.4208, 154.8022,\n",
            "        156.2976, 161.3687, 154.3831, 147.1872, 141.5821, 142.2335, 148.6789,\n",
            "        149.0330, 152.1209, 143.8153, 140.3821, 145.8818, 139.2574, 146.9731,\n",
            "        156.6710, 158.9841, 158.4768, 160.1259, 158.4889, 150.9174, 139.2920,\n",
            "        147.3945, 147.0839, 139.0674, 143.1761, 147.4757, 146.5893, 141.2019,\n",
            "        150.5863, 157.7470, 157.5040, 141.1866, 152.6818, 147.8258, 164.0686,\n",
            "        146.0690, 153.3796, 149.3824, 137.5127, 149.6190], device='cuda:0',\n",
            "       dtype=torch.float64) [146. 198.  59. 265. 297. 170. 178.  63.  90.  69. 129. 310.  68. 190.\n",
            " 202.  64.  71. 217.  42.  47. 225. 258. 288. 277. 279. 200. 341.  65.\n",
            " 121.  53. 110. 118. 178.  85.  55. 268. 198. 144.  71.  77. 103. 168.\n",
            "  97. 259.  83. 248. 310.  77. 209. 142. 272. 140.  90. 200.  72. 214.\n",
            " 258. 293.  92.  75. 128. 152. 214. 172. 236. 232. 222. 137. 170.  70.\n",
            " 135.  79.  55. 104.  95.  54.  59.  74. 181. 163.  43. 104. 200. 277.\n",
            " 142. 167. 151.  85.  83.]\n"
          ]
        }
      ]
    }
  ]
}