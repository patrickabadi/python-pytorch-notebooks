{
  "nbformat": 4,
  "nbformat_minor": 0,
  "metadata": {
    "colab": {
      "provenance": [],
      "gpuType": "T4",
      "include_colab_link": true
    },
    "language_info": {
      "codemirror_mode": {
        "name": "ipython",
        "version": 3
      },
      "file_extension": ".py",
      "mimetype": "text/x-python",
      "name": "python",
      "nbconvert_exporter": "python",
      "pygments_lexer": "ipython3",
      "version": "3.7.0"
    },
    "kernelspec": {
      "display_name": "Python 3",
      "language": "python",
      "name": "python3"
    },
    "accelerator": "GPU",
    "gpuClass": "standard"
  },
  "cells": [
    {
      "cell_type": "markdown",
      "metadata": {
        "id": "view-in-github",
        "colab_type": "text"
      },
      "source": [
        "<a href=\"https://colab.research.google.com/github/patrickabadi/python-pytorch-notebooks/blob/main/Module2_mlp__to_complete.ipynb\" target=\"_parent\"><img src=\"https://colab.research.google.com/assets/colab-badge.svg\" alt=\"Open In Colab\"/></a>"
      ]
    },
    {
      "cell_type": "markdown",
      "metadata": {
        "id": "mipSoOVlavkb"
      },
      "source": [
        "# IVADO/MILA DEEP LEARNING SCHOOL\n",
        "# Spring 2021\n",
        "# Tutorial : Categorical data with multilayer perceptron (MLP)\n",
        "\n",
        "## Authors: \n",
        "\n",
        "Arsène Fansi Tchango \n",
        "\n",
        "Gaétan Marceau Caron "
      ]
    },
    {
      "cell_type": "markdown",
      "metadata": {
        "id": "sLHwvggEZERd"
      },
      "source": [
        "# Preface"
      ]
    },
    {
      "cell_type": "markdown",
      "metadata": {
        "id": "JKNGtQkkohiM"
      },
      "source": [
        "This tutorial introduces the practical aspects of Deep Learning through the realization of a simple end-to-end project. We will use the deep learning library <a href=\"https://pytorch.org/\"> `PyTorch`</a>, which is well-known for its ease of use."
      ]
    },
    {
      "cell_type": "markdown",
      "metadata": {
        "id": "Tu9DZNmYpePz"
      },
      "source": [
        "# Initialization"
      ]
    },
    {
      "cell_type": "markdown",
      "metadata": {
        "id": "iWCNdeTIpkCa"
      },
      "source": [
        "Before we begin, we must install all the required libraries for this part of the tutorial. To do so, we will use the `pip` utility. Execute the cell below by selecting it and pressing `shift`+`Enter`. (This operation may take a few minutes.)\n",
        "\n",
        "We need to be using the latest version of `pillow` for this tutorial. If you are prompted with:\n",
        "\n",
        "> WARNING: The following packages were previously imported in this runtime:\n",
        "  [PIL]\n",
        "You must restart the runtime in order to use newly installed versions.\n",
        "\n",
        "Then click on restart runtime and rerun the cells afterwards."
      ]
    },
    {
      "cell_type": "code",
      "metadata": {
        "id": "9g_0k-_Eppi-",
        "outputId": "50c124a9-cac7-41e4-d87f-e58375851a27",
        "colab": {
          "base_uri": "https://localhost:8080/",
          "height": 919
        }
      },
      "source": [
        "!pip3 install torch torchvision matplotlib\n",
        "!pip3 install --upgrade pillow==8.1.0"
      ],
      "execution_count": 1,
      "outputs": [
        {
          "output_type": "stream",
          "name": "stdout",
          "text": [
            "Looking in indexes: https://pypi.org/simple, https://us-python.pkg.dev/colab-wheels/public/simple/\n",
            "Requirement already satisfied: torch in /usr/local/lib/python3.10/dist-packages (2.0.0+cu118)\n",
            "Requirement already satisfied: torchvision in /usr/local/lib/python3.10/dist-packages (0.15.1+cu118)\n",
            "Requirement already satisfied: matplotlib in /usr/local/lib/python3.10/dist-packages (3.7.1)\n",
            "Requirement already satisfied: filelock in /usr/local/lib/python3.10/dist-packages (from torch) (3.12.0)\n",
            "Requirement already satisfied: typing-extensions in /usr/local/lib/python3.10/dist-packages (from torch) (4.5.0)\n",
            "Requirement already satisfied: sympy in /usr/local/lib/python3.10/dist-packages (from torch) (1.11.1)\n",
            "Requirement already satisfied: networkx in /usr/local/lib/python3.10/dist-packages (from torch) (3.1)\n",
            "Requirement already satisfied: jinja2 in /usr/local/lib/python3.10/dist-packages (from torch) (3.1.2)\n",
            "Requirement already satisfied: triton==2.0.0 in /usr/local/lib/python3.10/dist-packages (from torch) (2.0.0)\n",
            "Requirement already satisfied: cmake in /usr/local/lib/python3.10/dist-packages (from triton==2.0.0->torch) (3.25.2)\n",
            "Requirement already satisfied: lit in /usr/local/lib/python3.10/dist-packages (from triton==2.0.0->torch) (16.0.3)\n",
            "Requirement already satisfied: numpy in /usr/local/lib/python3.10/dist-packages (from torchvision) (1.22.4)\n",
            "Requirement already satisfied: requests in /usr/local/lib/python3.10/dist-packages (from torchvision) (2.27.1)\n",
            "Requirement already satisfied: pillow!=8.3.*,>=5.3.0 in /usr/local/lib/python3.10/dist-packages (from torchvision) (8.4.0)\n",
            "Requirement already satisfied: contourpy>=1.0.1 in /usr/local/lib/python3.10/dist-packages (from matplotlib) (1.0.7)\n",
            "Requirement already satisfied: cycler>=0.10 in /usr/local/lib/python3.10/dist-packages (from matplotlib) (0.11.0)\n",
            "Requirement already satisfied: fonttools>=4.22.0 in /usr/local/lib/python3.10/dist-packages (from matplotlib) (4.39.3)\n",
            "Requirement already satisfied: kiwisolver>=1.0.1 in /usr/local/lib/python3.10/dist-packages (from matplotlib) (1.4.4)\n",
            "Requirement already satisfied: packaging>=20.0 in /usr/local/lib/python3.10/dist-packages (from matplotlib) (23.1)\n",
            "Requirement already satisfied: pyparsing>=2.3.1 in /usr/local/lib/python3.10/dist-packages (from matplotlib) (3.0.9)\n",
            "Requirement already satisfied: python-dateutil>=2.7 in /usr/local/lib/python3.10/dist-packages (from matplotlib) (2.8.2)\n",
            "Requirement already satisfied: six>=1.5 in /usr/local/lib/python3.10/dist-packages (from python-dateutil>=2.7->matplotlib) (1.16.0)\n",
            "Requirement already satisfied: MarkupSafe>=2.0 in /usr/local/lib/python3.10/dist-packages (from jinja2->torch) (2.1.2)\n",
            "Requirement already satisfied: urllib3<1.27,>=1.21.1 in /usr/local/lib/python3.10/dist-packages (from requests->torchvision) (1.26.15)\n",
            "Requirement already satisfied: certifi>=2017.4.17 in /usr/local/lib/python3.10/dist-packages (from requests->torchvision) (2022.12.7)\n",
            "Requirement already satisfied: charset-normalizer~=2.0.0 in /usr/local/lib/python3.10/dist-packages (from requests->torchvision) (2.0.12)\n",
            "Requirement already satisfied: idna<4,>=2.5 in /usr/local/lib/python3.10/dist-packages (from requests->torchvision) (3.4)\n",
            "Requirement already satisfied: mpmath>=0.19 in /usr/local/lib/python3.10/dist-packages (from sympy->torch) (1.3.0)\n",
            "Looking in indexes: https://pypi.org/simple, https://us-python.pkg.dev/colab-wheels/public/simple/\n",
            "Collecting pillow==8.1.0\n",
            "  Downloading Pillow-8.1.0.tar.gz (44.9 MB)\n",
            "\u001b[2K     \u001b[90m━━━━━━━━━━━━━━━━━━━━━━━━━━━━━━━━━━━━━━━━\u001b[0m \u001b[32m44.9/44.9 MB\u001b[0m \u001b[31m11.3 MB/s\u001b[0m eta \u001b[36m0:00:00\u001b[0m\n",
            "\u001b[?25h  Preparing metadata (setup.py) ... \u001b[?25l\u001b[?25hdone\n",
            "Building wheels for collected packages: pillow\n",
            "  Building wheel for pillow (setup.py) ... \u001b[?25l\u001b[?25hdone\n",
            "  Created wheel for pillow: filename=Pillow-8.1.0-cp310-cp310-linux_x86_64.whl size=1330242 sha256=5013acbd09e6698334b5190689583743125c08527e0a707d6b20fae8ef8cc460\n",
            "  Stored in directory: /root/.cache/pip/wheels/69/ff/e2/ff104a7329d86003512672dcce62234921a9bfb347340fd52c\n",
            "Successfully built pillow\n",
            "Installing collected packages: pillow\n",
            "  Attempting uninstall: pillow\n",
            "    Found existing installation: Pillow 8.4.0\n",
            "    Uninstalling Pillow-8.4.0:\n",
            "      Successfully uninstalled Pillow-8.4.0\n",
            "\u001b[31mERROR: pip's dependency resolver does not currently take into account all the packages that are installed. This behaviour is the source of the following dependency conflicts.\n",
            "imageio 2.25.1 requires pillow>=8.3.2, but you have pillow 8.1.0 which is incompatible.\u001b[0m\u001b[31m\n",
            "\u001b[0mSuccessfully installed pillow-8.1.0\n"
          ]
        },
        {
          "output_type": "display_data",
          "data": {
            "application/vnd.colab-display-data+json": {
              "pip_warning": {
                "packages": [
                  "PIL"
                ]
              }
            }
          },
          "metadata": {}
        }
      ]
    },
    {
      "cell_type": "markdown",
      "metadata": {
        "id": "VKufekB4FnqN"
      },
      "source": [
        "To ensure that all required libraries are available, let's try to load all libraries and modules we will need during this tutorial by executing this cell: "
      ]
    },
    {
      "cell_type": "code",
      "metadata": {
        "id": "loLQlRg3sV-r"
      },
      "source": [
        "import importlib\n",
        "required_libraries = ['torch', 'torchvision', 'PIL', 'matplotlib', \n",
        "                      'numpy', 'pandas']\n",
        "for lib in required_libraries:\n",
        "    if importlib.util.find_spec(lib) is None:\n",
        "        print(\"%s unavailable\" % lib)\n",
        "\n",
        "import matplotlib.pyplot as plt\n",
        "%matplotlib inline"
      ],
      "execution_count": 1,
      "outputs": []
    },
    {
      "cell_type": "code",
      "metadata": {
        "id": "FeLUcnk5scNx",
        "outputId": "499b4de6-6b1f-4638-ffc3-1f36d2155c02",
        "colab": {
          "base_uri": "https://localhost:8080/"
        }
      },
      "source": [
        "import torch\n",
        "import numpy as np\n",
        "import pandas as pd\n",
        "import torch.nn as nn\n",
        "import torch.nn.functional as F\n",
        "import torch.optim as optim\n",
        "import torchvision\n",
        "\n",
        "from torch.utils.data import TensorDataset\n",
        "\n",
        "use_gpu = torch.cuda.is_available()\n",
        "device = torch.device(\"cuda:0\" if use_gpu else \"cpu\")\n",
        "\n",
        "print(\"Torch version: \", torch.__version__)\n",
        "print(\"GPU Available: {}\".format(use_gpu))"
      ],
      "execution_count": 2,
      "outputs": [
        {
          "output_type": "stream",
          "name": "stdout",
          "text": [
            "Torch version:  2.0.0+cu118\n",
            "GPU Available: True\n"
          ]
        }
      ]
    },
    {
      "cell_type": "markdown",
      "metadata": {
        "id": "xc9wc4qq7qob"
      },
      "source": [
        "Fix the seed for the different libraries"
      ]
    },
    {
      "cell_type": "code",
      "metadata": {
        "id": "05jTJ12r7msf"
      },
      "source": [
        "seed = 4321\n",
        "np.random.seed(seed) # Set the random seed of numpy for the data split.\n",
        "torch.manual_seed(seed)\n",
        "torch.cuda.manual_seed(seed)"
      ],
      "execution_count": 3,
      "outputs": []
    },
    {
      "cell_type": "markdown",
      "metadata": {
        "id": "ZKzgFV9Favkt"
      },
      "source": [
        "# PyTorch in a nutshell"
      ]
    },
    {
      "cell_type": "markdown",
      "metadata": {
        "id": "Vrus_-F0avkt"
      },
      "source": [
        "*PyTorch* is a Python library that supports a vibrant ecosystem of tools and libraries for machine learning (ML) in vision, NLP, and more. It provides two high-level features:\n",
        "<ul>\n",
        "<li> operations on <a href=\"https://pytorch.org/tutorials/beginner/blitz/tensor_tutorial.html#sphx-glr-beginner-blitz-tensor-tutorial-py\">tensors</a> (such as NumPy) with GPU support,</li>\n",
        "<li> operations for creating and optimizing computational graphs with an automatic differentiation system called <a href=\"https://pytorch.org/tutorials/beginner/blitz/autograd_tutorial.html#sphx-glr-beginner-blitz-autograd-tutorial-py\">Autograd</a>.</li>\n",
        "</ul>\n",
        "\n",
        "<a href=\"https://pytorch.org/docs/stable/torch.html\">PyTorch docs</a> contain the API documentation and <a href=\"https://pytorch.org/tutorials/\">many tutorials</a>.\n",
        "Also, PyTorch offers several data processing utilities. One of these utilities is the class <a href=\"http://pytorch.org/docs/master/data.html#\"> `torch.utils.data.Dataset`</a> which offers an easy to use interface to handle a data set. For more information, please refer to the following urls: \n",
        "<ul>\n",
        "<li>PyTorch data sets: <a href=\"http://pytorch.org/docs/master/data.html\"> PyTorch - datasets</a>.</li>\n",
        "<li>A tutorial for loading data: <a href=\"http://pytorch.org/tutorials/beginner/data_loading_tutorial.html\"> PyTorch - data loading tutorial</a>.</li>\n",
        "</ul>\n",
        "\n",
        "<a href=\"http://pytorch.org/docs/master/cuda.html#module-torch.cuda\">`torch.cuda`</a> is a package that provides the same functions as CPU tensors but for  CUDA tensors, which are used for GPU computing. <a href=\"http://pytorch.org/docs/master/cuda.html#torch.cuda.is_available\">`torch.cuda.is_available()`</a> returns a boolean indicating if CUDA is currently available. Finally, we recommend using a `device` variable that identifies the device that will perform computations. We can assign a tensor to a device with the method `.to(device)`. By default, the tensors are CPU tensors."
      ]
    },
    {
      "cell_type": "markdown",
      "metadata": {
        "id": "Qm122vNmq92L"
      },
      "source": [
        "# Ingredients for a proof of concept (POC)"
      ]
    },
    {
      "cell_type": "markdown",
      "metadata": {
        "id": "nqvhR0ebavmE"
      },
      "source": [
        "To realize a ML POC, you need:\n",
        "<ul>\n",
        "<li>a task description as well as data to support it,</li>\n",
        "<li>evaluation metrics to assess the performance of models,</li>\n",
        "<li>a model description,</li>\n",
        "<li>a loss function to minimize,</li>\n",
        "<li>an optimizer that adjusts the parameters of the model.</li>\n",
        "</ul>"
      ]
    },
    {
      "cell_type": "markdown",
      "metadata": {
        "id": "Y8_pfpu2f6AO"
      },
      "source": [
        "# How to prepare the dataset?"
      ]
    },
    {
      "cell_type": "markdown",
      "metadata": {
        "id": "B5piZxYUhSzq"
      },
      "source": [
        "In this tutorial, we study the tragedy of the Titanic through a data-driven approach. Our task is to determine whether or not a passenger survived the Titanic sinking based on passenger data only. The results will show how the passengers' fate was pre-determined by the features selected in this study, without considering other factors."
      ]
    },
    {
      "cell_type": "markdown",
      "metadata": {
        "id": "y4GuYNDFavlU"
      },
      "source": [
        "## Titanic dataset"
      ]
    },
    {
      "cell_type": "markdown",
      "metadata": {
        "id": "NiOJx2ytavlU"
      },
      "source": [
        "First, we download the Titanic dataset from the following address:\n",
        "<br/>\n",
        "https://github.com/afansi/winterschool18/blob/master/titanic3.csv?raw=true.<br/>\n",
        "This dataset provides information on the fate of 1309 passengers of the first and only journey of the liner RMS Titanic, summarized by economic status (class), gender, age, family information, and survival. We use this dataset because we can train models very quickly for the purpose of this tutorial. The Kaggle platform also uses this dataset as an introduction to classical machine learning. <br/>\n",
        "\n",
        "Let's take a look at the features and some examples from this dataset. To do so, we use the library <a href=\"https://pandas.pydata.org/\">Pandas</a> to load the dataset into memory."
      ]
    },
    {
      "cell_type": "code",
      "metadata": {
        "id": "bX_RSiffavlW",
        "outputId": "939b7b35-f0ac-4100-bb21-11bd33bdda73",
        "colab": {
          "base_uri": "https://localhost:8080/",
          "height": 206
        }
      },
      "source": [
        "titanic_df = pd.read_csv(\n",
        "    'https://github.com/afansi/winterschool18/blob/master/titanic3.csv?raw=true', \n",
        "    sep='\\t', \n",
        "    index_col=None, \n",
        "    na_values=['NA']\n",
        ")\n",
        "\n",
        "# a snapshot of the first 5 data points\n",
        "titanic_df.head()\n",
        "\n"
      ],
      "execution_count": 4,
      "outputs": [
        {
          "output_type": "execute_result",
          "data": {
            "text/plain": [
              "   pclass  survived                                             name     sex  \\\n",
              "0       1         1                    Allen, Miss. Elisabeth Walton  female   \n",
              "1       1         1                   Allison, Master. Hudson Trevor    male   \n",
              "2       1         0                     Allison, Miss. Helen Loraine  female   \n",
              "3       1         0             Allison, Mr. Hudson Joshua Creighton    male   \n",
              "4       1         0  Allison, Mrs. Hudson J C (Bessie Waldo Daniels)  female   \n",
              "\n",
              "       age  sibsp  parch  ticket      fare    cabin embarked boat   body  \\\n",
              "0  29.0000      0      0   24160  211.3375       B5        S    2    NaN   \n",
              "1   0.9167      1      2  113781  151.5500  C22 C26        S   11    NaN   \n",
              "2   2.0000      1      2  113781  151.5500  C22 C26        S  NaN    NaN   \n",
              "3  30.0000      1      2  113781  151.5500  C22 C26        S  NaN  135.0   \n",
              "4  25.0000      1      2  113781  151.5500  C22 C26        S  NaN    NaN   \n",
              "\n",
              "                         home.dest  \n",
              "0                     St Louis, MO  \n",
              "1  Montreal, PQ / Chesterville, ON  \n",
              "2  Montreal, PQ / Chesterville, ON  \n",
              "3  Montreal, PQ / Chesterville, ON  \n",
              "4  Montreal, PQ / Chesterville, ON  "
            ],
            "text/html": [
              "\n",
              "  <div id=\"df-2ecc5b82-9edc-436d-9520-083fc52c2496\">\n",
              "    <div class=\"colab-df-container\">\n",
              "      <div>\n",
              "<style scoped>\n",
              "    .dataframe tbody tr th:only-of-type {\n",
              "        vertical-align: middle;\n",
              "    }\n",
              "\n",
              "    .dataframe tbody tr th {\n",
              "        vertical-align: top;\n",
              "    }\n",
              "\n",
              "    .dataframe thead th {\n",
              "        text-align: right;\n",
              "    }\n",
              "</style>\n",
              "<table border=\"1\" class=\"dataframe\">\n",
              "  <thead>\n",
              "    <tr style=\"text-align: right;\">\n",
              "      <th></th>\n",
              "      <th>pclass</th>\n",
              "      <th>survived</th>\n",
              "      <th>name</th>\n",
              "      <th>sex</th>\n",
              "      <th>age</th>\n",
              "      <th>sibsp</th>\n",
              "      <th>parch</th>\n",
              "      <th>ticket</th>\n",
              "      <th>fare</th>\n",
              "      <th>cabin</th>\n",
              "      <th>embarked</th>\n",
              "      <th>boat</th>\n",
              "      <th>body</th>\n",
              "      <th>home.dest</th>\n",
              "    </tr>\n",
              "  </thead>\n",
              "  <tbody>\n",
              "    <tr>\n",
              "      <th>0</th>\n",
              "      <td>1</td>\n",
              "      <td>1</td>\n",
              "      <td>Allen, Miss. Elisabeth Walton</td>\n",
              "      <td>female</td>\n",
              "      <td>29.0000</td>\n",
              "      <td>0</td>\n",
              "      <td>0</td>\n",
              "      <td>24160</td>\n",
              "      <td>211.3375</td>\n",
              "      <td>B5</td>\n",
              "      <td>S</td>\n",
              "      <td>2</td>\n",
              "      <td>NaN</td>\n",
              "      <td>St Louis, MO</td>\n",
              "    </tr>\n",
              "    <tr>\n",
              "      <th>1</th>\n",
              "      <td>1</td>\n",
              "      <td>1</td>\n",
              "      <td>Allison, Master. Hudson Trevor</td>\n",
              "      <td>male</td>\n",
              "      <td>0.9167</td>\n",
              "      <td>1</td>\n",
              "      <td>2</td>\n",
              "      <td>113781</td>\n",
              "      <td>151.5500</td>\n",
              "      <td>C22 C26</td>\n",
              "      <td>S</td>\n",
              "      <td>11</td>\n",
              "      <td>NaN</td>\n",
              "      <td>Montreal, PQ / Chesterville, ON</td>\n",
              "    </tr>\n",
              "    <tr>\n",
              "      <th>2</th>\n",
              "      <td>1</td>\n",
              "      <td>0</td>\n",
              "      <td>Allison, Miss. Helen Loraine</td>\n",
              "      <td>female</td>\n",
              "      <td>2.0000</td>\n",
              "      <td>1</td>\n",
              "      <td>2</td>\n",
              "      <td>113781</td>\n",
              "      <td>151.5500</td>\n",
              "      <td>C22 C26</td>\n",
              "      <td>S</td>\n",
              "      <td>NaN</td>\n",
              "      <td>NaN</td>\n",
              "      <td>Montreal, PQ / Chesterville, ON</td>\n",
              "    </tr>\n",
              "    <tr>\n",
              "      <th>3</th>\n",
              "      <td>1</td>\n",
              "      <td>0</td>\n",
              "      <td>Allison, Mr. Hudson Joshua Creighton</td>\n",
              "      <td>male</td>\n",
              "      <td>30.0000</td>\n",
              "      <td>1</td>\n",
              "      <td>2</td>\n",
              "      <td>113781</td>\n",
              "      <td>151.5500</td>\n",
              "      <td>C22 C26</td>\n",
              "      <td>S</td>\n",
              "      <td>NaN</td>\n",
              "      <td>135.0</td>\n",
              "      <td>Montreal, PQ / Chesterville, ON</td>\n",
              "    </tr>\n",
              "    <tr>\n",
              "      <th>4</th>\n",
              "      <td>1</td>\n",
              "      <td>0</td>\n",
              "      <td>Allison, Mrs. Hudson J C (Bessie Waldo Daniels)</td>\n",
              "      <td>female</td>\n",
              "      <td>25.0000</td>\n",
              "      <td>1</td>\n",
              "      <td>2</td>\n",
              "      <td>113781</td>\n",
              "      <td>151.5500</td>\n",
              "      <td>C22 C26</td>\n",
              "      <td>S</td>\n",
              "      <td>NaN</td>\n",
              "      <td>NaN</td>\n",
              "      <td>Montreal, PQ / Chesterville, ON</td>\n",
              "    </tr>\n",
              "  </tbody>\n",
              "</table>\n",
              "</div>\n",
              "      <button class=\"colab-df-convert\" onclick=\"convertToInteractive('df-2ecc5b82-9edc-436d-9520-083fc52c2496')\"\n",
              "              title=\"Convert this dataframe to an interactive table.\"\n",
              "              style=\"display:none;\">\n",
              "        \n",
              "  <svg xmlns=\"http://www.w3.org/2000/svg\" height=\"24px\"viewBox=\"0 0 24 24\"\n",
              "       width=\"24px\">\n",
              "    <path d=\"M0 0h24v24H0V0z\" fill=\"none\"/>\n",
              "    <path d=\"M18.56 5.44l.94 2.06.94-2.06 2.06-.94-2.06-.94-.94-2.06-.94 2.06-2.06.94zm-11 1L8.5 8.5l.94-2.06 2.06-.94-2.06-.94L8.5 2.5l-.94 2.06-2.06.94zm10 10l.94 2.06.94-2.06 2.06-.94-2.06-.94-.94-2.06-.94 2.06-2.06.94z\"/><path d=\"M17.41 7.96l-1.37-1.37c-.4-.4-.92-.59-1.43-.59-.52 0-1.04.2-1.43.59L10.3 9.45l-7.72 7.72c-.78.78-.78 2.05 0 2.83L4 21.41c.39.39.9.59 1.41.59.51 0 1.02-.2 1.41-.59l7.78-7.78 2.81-2.81c.8-.78.8-2.07 0-2.86zM5.41 20L4 18.59l7.72-7.72 1.47 1.35L5.41 20z\"/>\n",
              "  </svg>\n",
              "      </button>\n",
              "      \n",
              "  <style>\n",
              "    .colab-df-container {\n",
              "      display:flex;\n",
              "      flex-wrap:wrap;\n",
              "      gap: 12px;\n",
              "    }\n",
              "\n",
              "    .colab-df-convert {\n",
              "      background-color: #E8F0FE;\n",
              "      border: none;\n",
              "      border-radius: 50%;\n",
              "      cursor: pointer;\n",
              "      display: none;\n",
              "      fill: #1967D2;\n",
              "      height: 32px;\n",
              "      padding: 0 0 0 0;\n",
              "      width: 32px;\n",
              "    }\n",
              "\n",
              "    .colab-df-convert:hover {\n",
              "      background-color: #E2EBFA;\n",
              "      box-shadow: 0px 1px 2px rgba(60, 64, 67, 0.3), 0px 1px 3px 1px rgba(60, 64, 67, 0.15);\n",
              "      fill: #174EA6;\n",
              "    }\n",
              "\n",
              "    [theme=dark] .colab-df-convert {\n",
              "      background-color: #3B4455;\n",
              "      fill: #D2E3FC;\n",
              "    }\n",
              "\n",
              "    [theme=dark] .colab-df-convert:hover {\n",
              "      background-color: #434B5C;\n",
              "      box-shadow: 0px 1px 3px 1px rgba(0, 0, 0, 0.15);\n",
              "      filter: drop-shadow(0px 1px 2px rgba(0, 0, 0, 0.3));\n",
              "      fill: #FFFFFF;\n",
              "    }\n",
              "  </style>\n",
              "\n",
              "      <script>\n",
              "        const buttonEl =\n",
              "          document.querySelector('#df-2ecc5b82-9edc-436d-9520-083fc52c2496 button.colab-df-convert');\n",
              "        buttonEl.style.display =\n",
              "          google.colab.kernel.accessAllowed ? 'block' : 'none';\n",
              "\n",
              "        async function convertToInteractive(key) {\n",
              "          const element = document.querySelector('#df-2ecc5b82-9edc-436d-9520-083fc52c2496');\n",
              "          const dataTable =\n",
              "            await google.colab.kernel.invokeFunction('convertToInteractive',\n",
              "                                                     [key], {});\n",
              "          if (!dataTable) return;\n",
              "\n",
              "          const docLinkHtml = 'Like what you see? Visit the ' +\n",
              "            '<a target=\"_blank\" href=https://colab.research.google.com/notebooks/data_table.ipynb>data table notebook</a>'\n",
              "            + ' to learn more about interactive tables.';\n",
              "          element.innerHTML = '';\n",
              "          dataTable['output_type'] = 'display_data';\n",
              "          await google.colab.output.renderOutput(dataTable, element);\n",
              "          const docLink = document.createElement('div');\n",
              "          docLink.innerHTML = docLinkHtml;\n",
              "          element.appendChild(docLink);\n",
              "        }\n",
              "      </script>\n",
              "    </div>\n",
              "  </div>\n",
              "  "
            ]
          },
          "metadata": {},
          "execution_count": 4
        }
      ]
    },
    {
      "cell_type": "markdown",
      "metadata": {
        "id": "yj88WmCmavlf"
      },
      "source": [
        "Here's the list of the features with their description:\n",
        "\n",
        "<ol>\n",
        "\n",
        "  <li> <b>pclass</b>: Passenger class (1 = first; 2 = second; 3 = third) </li>\n",
        "  <li> <b>survived</b>: Survived? (0 = no; 1 = yes) </li>\n",
        "  <li> <b>name</b>: Name </li>\n",
        "  <li> <b>sex</b>: Sex </li>\n",
        "  <li> <b>age</b>: Age </li>\n",
        "  <li> <b>sibsp</b>: Number of brothers, sisters, or spouses onboard </li>\n",
        "  <li> <b>parch</b>: Number of parents or children onboard </li>\n",
        "  <li> <b>ticket</b>: Ticket number </li>\n",
        "  <li> <b>fare</b>: Passenger fare </li>\n",
        "  <li> <b>cabin</b>: Cabin number </li>\n",
        "  <li> <b>embarked</b>: Port of embarkation (C = Cherbourg; Q = Queenstown; S = Southampton) </li>\n",
        "  <li> <b>boat</b>: Lifeboat (if the passenger survived, otherwise the value is Not a Number (NaN) </li>\n",
        "  <li> <b>body</b>: Body number (if the passenger did not survive and his body was found, otherwise the value is NaN) </li>\n",
        "  <li> <b>home.dest</b>: the passenger's destination </li>\n",
        " </ol>\n"
      ]
    },
    {
      "cell_type": "markdown",
      "metadata": {
        "id": "u2ed5fozqjce"
      },
      "source": [
        "## Data pre-processing"
      ]
    },
    {
      "cell_type": "markdown",
      "metadata": {
        "id": "__vcZhPnavlg"
      },
      "source": [
        "### Feature selection\n",
        "Some features are not relevant to the task, for example:\n",
        "<ol>\n",
        "  <li> <b>name</b>: Name </li>\n",
        "  <li> <b>ticket</b>: Ticket number </li>\n",
        "  <li> <b>cabin</b>: Cabin number </li>\n",
        "  <li> <b>home.dest</b>: Passenger's destination </li>\n",
        " </ol>\n",
        " \n",
        "Other features are directly related to the passenger survival and are not interesting for our study because they give away the label to be predicted:\n",
        "<ol>\n",
        "  <li> <b>boat</b>: Lifeboat (if the passenger survived) </li>\n",
        "  <li> <b>body</b>: Body number (if the passenger did not survive and his body was found) </li>\n",
        " </ol>"
      ]
    },
    {
      "cell_type": "code",
      "metadata": {
        "id": "uoD8x0dXofmj"
      },
      "source": [
        "titanic_df.drop(['name', 'ticket', 'cabin', 'home.dest', 'boat', 'body'], axis=1, inplace=True)"
      ],
      "execution_count": 5,
      "outputs": []
    },
    {
      "cell_type": "markdown",
      "metadata": {
        "id": "4PW_IWwqwdHq"
      },
      "source": [
        "### Handling missing values\n",
        "\n",
        "Handling missing values in datasets is difficult since examples with missing values can be informative for subgroups. Suppose that features associated with third-class tickets have many missing values compared to first-class tickets. Removing all examples with missing values will introduce a bias in the dataset and could completely change the correlations between features and the probability of survival. Another approach is to impute missing values by replacing them with simples statistics such as the mean or the median of the feature. Other imputing techniques use the other features to predict the missing values, which is very close to a ML task. See Scikit-learn reference for more details ([Imputation of missing values](https://www.google.com/url?q=https://scikit-learn.org/stable/modules/impute.html&sa=D&source=editors&ust=1617044175668000&usg=AFQjCNHxRm4BcLBrZEPzW7i3C_PJ7oAuPQ)). Thus, handling missing values should be done carefully and often depend on the dataset and domain knowledge. In the following, we discard all examples with missing values, but since it is a substantial number of examples, we are probably introducing a bias in the dataset. To avoid such bias, one can re-annotate the data manually."
      ]
    },
    {
      "cell_type": "code",
      "metadata": {
        "id": "X8YKDg69wjb_",
        "outputId": "d379fccf-2163-42b9-8b11-acddbe4f280e",
        "colab": {
          "base_uri": "https://localhost:8080/"
        }
      },
      "source": [
        "n_examples = len(titanic_df)\n",
        "titanic_df = titanic_df.dropna(axis=0, how='any').reset_index(drop=True)\n",
        "print(f'We removed {n_examples-len(titanic_df)} examples over {n_examples} containing missing values.')"
      ],
      "execution_count": 6,
      "outputs": [
        {
          "output_type": "stream",
          "name": "stdout",
          "text": [
            "We removed 266 examples over 1309 containing missing values.\n"
          ]
        }
      ]
    },
    {
      "cell_type": "markdown",
      "metadata": {
        "id": "4MckYm0M_xhR"
      },
      "source": [
        "### Feature encoding\n",
        " \n",
        "Some features are **categorical variables**, which means that they can take a finite number of values.\n",
        " <ol>\n",
        "  <li> <b>pclass</b>: Passenger Class </li>\n",
        "  <li> <b>sex</b>: Sex </li>\n",
        "  <li> <b>embarked</b>: Port of embarkation </li>\n",
        " </ol>\n",
        "\n",
        "To process categorical variables, we need to encode them in a way that does not imply an arbitrary order such as using natural numbers (e.g., 1, 2, 3). <a href=\"https://en.wikipedia.org/wiki/One-hot#Machine_learning_and_statistics\">One-hot encoding</a> is a way to achieve it. To use this encoding, we can simply call the function `get_dummies` in Pandas. The meaning of the encoded variables is as follows:\n",
        "\n",
        "<ol>\n",
        "  <li> <b>survived</b>: Survived? (0 = no; 1 = yes) </li>\n",
        "  <li> <b>pclass_1</b>: (1 if passenger in first class; 0 if not) </li>\n",
        "  <li> <b>pclass_2</b>: (1 if passenger in second class; 0 if not) </li>\n",
        "  <li> <b>pclass_3</b>: (1 if passenger in third class; 0 if not) </li>\n",
        "  <li> <b>sex_female</b>: (1 if passenger is female; 0 if not) </li>\n",
        "  <li> <b>sex_male</b>: (1 if passenger is male; 0 if not) </li>\n",
        "  <li> <b>age</b>: Age </li>\n",
        "  <li> <b>sibsp</b>: Number of brothers, sisters, or spouses onboard </li>\n",
        "  <li> <b>parch</b>: Number of parents or children onboard </li>\n",
        "  <li> <b>fare</b>: Passenger fare </li>\n",
        "  <li> <b>embarked_C</b>: (1 if Port of embarkation = Cherbourg (C); 0 otherwise) </li> \n",
        "  <li> <b>embarked_Q</b>: (1 if Port of embarkation = Queenstown (Q); 0 otherwise) </li> \n",
        "  <li> <b>embarked_S</b>: (1 if Port of embarkation = Southampton (S); 0 otherwise)</li> \n",
        " </ol>"
      ]
    },
    {
      "cell_type": "code",
      "metadata": {
        "id": "G7bFJc5X_qjx",
        "outputId": "5de0f74b-9625-45b0-d2f3-dfbebb28c74b",
        "colab": {
          "base_uri": "https://localhost:8080/",
          "height": 206
        }
      },
      "source": [
        "titanic_preprocess_df = pd.get_dummies(data=titanic_df, columns=['pclass', 'sex', 'embarked'])\n",
        "titanic_preprocess_df.head()"
      ],
      "execution_count": 7,
      "outputs": [
        {
          "output_type": "execute_result",
          "data": {
            "text/plain": [
              "   survived      age  sibsp  parch      fare  pclass_1  pclass_2  pclass_3  \\\n",
              "0         1  29.0000      0      0  211.3375         1         0         0   \n",
              "1         1   0.9167      1      2  151.5500         1         0         0   \n",
              "2         0   2.0000      1      2  151.5500         1         0         0   \n",
              "3         0  30.0000      1      2  151.5500         1         0         0   \n",
              "4         0  25.0000      1      2  151.5500         1         0         0   \n",
              "\n",
              "   sex_female  sex_male  embarked_C  embarked_Q  embarked_S  \n",
              "0           1         0           0           0           1  \n",
              "1           0         1           0           0           1  \n",
              "2           1         0           0           0           1  \n",
              "3           0         1           0           0           1  \n",
              "4           1         0           0           0           1  "
            ],
            "text/html": [
              "\n",
              "  <div id=\"df-798f4c0e-76fc-45c7-89f1-c1fb98e033de\">\n",
              "    <div class=\"colab-df-container\">\n",
              "      <div>\n",
              "<style scoped>\n",
              "    .dataframe tbody tr th:only-of-type {\n",
              "        vertical-align: middle;\n",
              "    }\n",
              "\n",
              "    .dataframe tbody tr th {\n",
              "        vertical-align: top;\n",
              "    }\n",
              "\n",
              "    .dataframe thead th {\n",
              "        text-align: right;\n",
              "    }\n",
              "</style>\n",
              "<table border=\"1\" class=\"dataframe\">\n",
              "  <thead>\n",
              "    <tr style=\"text-align: right;\">\n",
              "      <th></th>\n",
              "      <th>survived</th>\n",
              "      <th>age</th>\n",
              "      <th>sibsp</th>\n",
              "      <th>parch</th>\n",
              "      <th>fare</th>\n",
              "      <th>pclass_1</th>\n",
              "      <th>pclass_2</th>\n",
              "      <th>pclass_3</th>\n",
              "      <th>sex_female</th>\n",
              "      <th>sex_male</th>\n",
              "      <th>embarked_C</th>\n",
              "      <th>embarked_Q</th>\n",
              "      <th>embarked_S</th>\n",
              "    </tr>\n",
              "  </thead>\n",
              "  <tbody>\n",
              "    <tr>\n",
              "      <th>0</th>\n",
              "      <td>1</td>\n",
              "      <td>29.0000</td>\n",
              "      <td>0</td>\n",
              "      <td>0</td>\n",
              "      <td>211.3375</td>\n",
              "      <td>1</td>\n",
              "      <td>0</td>\n",
              "      <td>0</td>\n",
              "      <td>1</td>\n",
              "      <td>0</td>\n",
              "      <td>0</td>\n",
              "      <td>0</td>\n",
              "      <td>1</td>\n",
              "    </tr>\n",
              "    <tr>\n",
              "      <th>1</th>\n",
              "      <td>1</td>\n",
              "      <td>0.9167</td>\n",
              "      <td>1</td>\n",
              "      <td>2</td>\n",
              "      <td>151.5500</td>\n",
              "      <td>1</td>\n",
              "      <td>0</td>\n",
              "      <td>0</td>\n",
              "      <td>0</td>\n",
              "      <td>1</td>\n",
              "      <td>0</td>\n",
              "      <td>0</td>\n",
              "      <td>1</td>\n",
              "    </tr>\n",
              "    <tr>\n",
              "      <th>2</th>\n",
              "      <td>0</td>\n",
              "      <td>2.0000</td>\n",
              "      <td>1</td>\n",
              "      <td>2</td>\n",
              "      <td>151.5500</td>\n",
              "      <td>1</td>\n",
              "      <td>0</td>\n",
              "      <td>0</td>\n",
              "      <td>1</td>\n",
              "      <td>0</td>\n",
              "      <td>0</td>\n",
              "      <td>0</td>\n",
              "      <td>1</td>\n",
              "    </tr>\n",
              "    <tr>\n",
              "      <th>3</th>\n",
              "      <td>0</td>\n",
              "      <td>30.0000</td>\n",
              "      <td>1</td>\n",
              "      <td>2</td>\n",
              "      <td>151.5500</td>\n",
              "      <td>1</td>\n",
              "      <td>0</td>\n",
              "      <td>0</td>\n",
              "      <td>0</td>\n",
              "      <td>1</td>\n",
              "      <td>0</td>\n",
              "      <td>0</td>\n",
              "      <td>1</td>\n",
              "    </tr>\n",
              "    <tr>\n",
              "      <th>4</th>\n",
              "      <td>0</td>\n",
              "      <td>25.0000</td>\n",
              "      <td>1</td>\n",
              "      <td>2</td>\n",
              "      <td>151.5500</td>\n",
              "      <td>1</td>\n",
              "      <td>0</td>\n",
              "      <td>0</td>\n",
              "      <td>1</td>\n",
              "      <td>0</td>\n",
              "      <td>0</td>\n",
              "      <td>0</td>\n",
              "      <td>1</td>\n",
              "    </tr>\n",
              "  </tbody>\n",
              "</table>\n",
              "</div>\n",
              "      <button class=\"colab-df-convert\" onclick=\"convertToInteractive('df-798f4c0e-76fc-45c7-89f1-c1fb98e033de')\"\n",
              "              title=\"Convert this dataframe to an interactive table.\"\n",
              "              style=\"display:none;\">\n",
              "        \n",
              "  <svg xmlns=\"http://www.w3.org/2000/svg\" height=\"24px\"viewBox=\"0 0 24 24\"\n",
              "       width=\"24px\">\n",
              "    <path d=\"M0 0h24v24H0V0z\" fill=\"none\"/>\n",
              "    <path d=\"M18.56 5.44l.94 2.06.94-2.06 2.06-.94-2.06-.94-.94-2.06-.94 2.06-2.06.94zm-11 1L8.5 8.5l.94-2.06 2.06-.94-2.06-.94L8.5 2.5l-.94 2.06-2.06.94zm10 10l.94 2.06.94-2.06 2.06-.94-2.06-.94-.94-2.06-.94 2.06-2.06.94z\"/><path d=\"M17.41 7.96l-1.37-1.37c-.4-.4-.92-.59-1.43-.59-.52 0-1.04.2-1.43.59L10.3 9.45l-7.72 7.72c-.78.78-.78 2.05 0 2.83L4 21.41c.39.39.9.59 1.41.59.51 0 1.02-.2 1.41-.59l7.78-7.78 2.81-2.81c.8-.78.8-2.07 0-2.86zM5.41 20L4 18.59l7.72-7.72 1.47 1.35L5.41 20z\"/>\n",
              "  </svg>\n",
              "      </button>\n",
              "      \n",
              "  <style>\n",
              "    .colab-df-container {\n",
              "      display:flex;\n",
              "      flex-wrap:wrap;\n",
              "      gap: 12px;\n",
              "    }\n",
              "\n",
              "    .colab-df-convert {\n",
              "      background-color: #E8F0FE;\n",
              "      border: none;\n",
              "      border-radius: 50%;\n",
              "      cursor: pointer;\n",
              "      display: none;\n",
              "      fill: #1967D2;\n",
              "      height: 32px;\n",
              "      padding: 0 0 0 0;\n",
              "      width: 32px;\n",
              "    }\n",
              "\n",
              "    .colab-df-convert:hover {\n",
              "      background-color: #E2EBFA;\n",
              "      box-shadow: 0px 1px 2px rgba(60, 64, 67, 0.3), 0px 1px 3px 1px rgba(60, 64, 67, 0.15);\n",
              "      fill: #174EA6;\n",
              "    }\n",
              "\n",
              "    [theme=dark] .colab-df-convert {\n",
              "      background-color: #3B4455;\n",
              "      fill: #D2E3FC;\n",
              "    }\n",
              "\n",
              "    [theme=dark] .colab-df-convert:hover {\n",
              "      background-color: #434B5C;\n",
              "      box-shadow: 0px 1px 3px 1px rgba(0, 0, 0, 0.15);\n",
              "      filter: drop-shadow(0px 1px 2px rgba(0, 0, 0, 0.3));\n",
              "      fill: #FFFFFF;\n",
              "    }\n",
              "  </style>\n",
              "\n",
              "      <script>\n",
              "        const buttonEl =\n",
              "          document.querySelector('#df-798f4c0e-76fc-45c7-89f1-c1fb98e033de button.colab-df-convert');\n",
              "        buttonEl.style.display =\n",
              "          google.colab.kernel.accessAllowed ? 'block' : 'none';\n",
              "\n",
              "        async function convertToInteractive(key) {\n",
              "          const element = document.querySelector('#df-798f4c0e-76fc-45c7-89f1-c1fb98e033de');\n",
              "          const dataTable =\n",
              "            await google.colab.kernel.invokeFunction('convertToInteractive',\n",
              "                                                     [key], {});\n",
              "          if (!dataTable) return;\n",
              "\n",
              "          const docLinkHtml = 'Like what you see? Visit the ' +\n",
              "            '<a target=\"_blank\" href=https://colab.research.google.com/notebooks/data_table.ipynb>data table notebook</a>'\n",
              "            + ' to learn more about interactive tables.';\n",
              "          element.innerHTML = '';\n",
              "          dataTable['output_type'] = 'display_data';\n",
              "          await google.colab.output.renderOutput(dataTable, element);\n",
              "          const docLink = document.createElement('div');\n",
              "          docLink.innerHTML = docLinkHtml;\n",
              "          element.appendChild(docLink);\n",
              "        }\n",
              "      </script>\n",
              "    </div>\n",
              "  </div>\n",
              "  "
            ]
          },
          "metadata": {},
          "execution_count": 7
        }
      ]
    },
    {
      "cell_type": "markdown",
      "metadata": {
        "id": "zeBNt5EW6tm9"
      },
      "source": [
        "Now, we can check if all examples have a one-hot encoding for their categorical variables."
      ]
    },
    {
      "cell_type": "code",
      "metadata": {
        "id": "4RjZZEokvJ3e",
        "outputId": "f4f80f99-c2a6-4179-cb47-98f9b836c569",
        "colab": {
          "base_uri": "https://localhost:8080/",
          "height": 49
        }
      },
      "source": [
        "titanic_preprocess_df.loc[titanic_preprocess_df[['sex_male','sex_female']].sum(axis=1) != 1]"
      ],
      "execution_count": 8,
      "outputs": [
        {
          "output_type": "execute_result",
          "data": {
            "text/plain": [
              "Empty DataFrame\n",
              "Columns: [survived, age, sibsp, parch, fare, pclass_1, pclass_2, pclass_3, sex_female, sex_male, embarked_C, embarked_Q, embarked_S]\n",
              "Index: []"
            ],
            "text/html": [
              "\n",
              "  <div id=\"df-e7750d53-f336-4246-a708-5064fe60f8e8\">\n",
              "    <div class=\"colab-df-container\">\n",
              "      <div>\n",
              "<style scoped>\n",
              "    .dataframe tbody tr th:only-of-type {\n",
              "        vertical-align: middle;\n",
              "    }\n",
              "\n",
              "    .dataframe tbody tr th {\n",
              "        vertical-align: top;\n",
              "    }\n",
              "\n",
              "    .dataframe thead th {\n",
              "        text-align: right;\n",
              "    }\n",
              "</style>\n",
              "<table border=\"1\" class=\"dataframe\">\n",
              "  <thead>\n",
              "    <tr style=\"text-align: right;\">\n",
              "      <th></th>\n",
              "      <th>survived</th>\n",
              "      <th>age</th>\n",
              "      <th>sibsp</th>\n",
              "      <th>parch</th>\n",
              "      <th>fare</th>\n",
              "      <th>pclass_1</th>\n",
              "      <th>pclass_2</th>\n",
              "      <th>pclass_3</th>\n",
              "      <th>sex_female</th>\n",
              "      <th>sex_male</th>\n",
              "      <th>embarked_C</th>\n",
              "      <th>embarked_Q</th>\n",
              "      <th>embarked_S</th>\n",
              "    </tr>\n",
              "  </thead>\n",
              "  <tbody>\n",
              "  </tbody>\n",
              "</table>\n",
              "</div>\n",
              "      <button class=\"colab-df-convert\" onclick=\"convertToInteractive('df-e7750d53-f336-4246-a708-5064fe60f8e8')\"\n",
              "              title=\"Convert this dataframe to an interactive table.\"\n",
              "              style=\"display:none;\">\n",
              "        \n",
              "  <svg xmlns=\"http://www.w3.org/2000/svg\" height=\"24px\"viewBox=\"0 0 24 24\"\n",
              "       width=\"24px\">\n",
              "    <path d=\"M0 0h24v24H0V0z\" fill=\"none\"/>\n",
              "    <path d=\"M18.56 5.44l.94 2.06.94-2.06 2.06-.94-2.06-.94-.94-2.06-.94 2.06-2.06.94zm-11 1L8.5 8.5l.94-2.06 2.06-.94-2.06-.94L8.5 2.5l-.94 2.06-2.06.94zm10 10l.94 2.06.94-2.06 2.06-.94-2.06-.94-.94-2.06-.94 2.06-2.06.94z\"/><path d=\"M17.41 7.96l-1.37-1.37c-.4-.4-.92-.59-1.43-.59-.52 0-1.04.2-1.43.59L10.3 9.45l-7.72 7.72c-.78.78-.78 2.05 0 2.83L4 21.41c.39.39.9.59 1.41.59.51 0 1.02-.2 1.41-.59l7.78-7.78 2.81-2.81c.8-.78.8-2.07 0-2.86zM5.41 20L4 18.59l7.72-7.72 1.47 1.35L5.41 20z\"/>\n",
              "  </svg>\n",
              "      </button>\n",
              "      \n",
              "  <style>\n",
              "    .colab-df-container {\n",
              "      display:flex;\n",
              "      flex-wrap:wrap;\n",
              "      gap: 12px;\n",
              "    }\n",
              "\n",
              "    .colab-df-convert {\n",
              "      background-color: #E8F0FE;\n",
              "      border: none;\n",
              "      border-radius: 50%;\n",
              "      cursor: pointer;\n",
              "      display: none;\n",
              "      fill: #1967D2;\n",
              "      height: 32px;\n",
              "      padding: 0 0 0 0;\n",
              "      width: 32px;\n",
              "    }\n",
              "\n",
              "    .colab-df-convert:hover {\n",
              "      background-color: #E2EBFA;\n",
              "      box-shadow: 0px 1px 2px rgba(60, 64, 67, 0.3), 0px 1px 3px 1px rgba(60, 64, 67, 0.15);\n",
              "      fill: #174EA6;\n",
              "    }\n",
              "\n",
              "    [theme=dark] .colab-df-convert {\n",
              "      background-color: #3B4455;\n",
              "      fill: #D2E3FC;\n",
              "    }\n",
              "\n",
              "    [theme=dark] .colab-df-convert:hover {\n",
              "      background-color: #434B5C;\n",
              "      box-shadow: 0px 1px 3px 1px rgba(0, 0, 0, 0.15);\n",
              "      filter: drop-shadow(0px 1px 2px rgba(0, 0, 0, 0.3));\n",
              "      fill: #FFFFFF;\n",
              "    }\n",
              "  </style>\n",
              "\n",
              "      <script>\n",
              "        const buttonEl =\n",
              "          document.querySelector('#df-e7750d53-f336-4246-a708-5064fe60f8e8 button.colab-df-convert');\n",
              "        buttonEl.style.display =\n",
              "          google.colab.kernel.accessAllowed ? 'block' : 'none';\n",
              "\n",
              "        async function convertToInteractive(key) {\n",
              "          const element = document.querySelector('#df-e7750d53-f336-4246-a708-5064fe60f8e8');\n",
              "          const dataTable =\n",
              "            await google.colab.kernel.invokeFunction('convertToInteractive',\n",
              "                                                     [key], {});\n",
              "          if (!dataTable) return;\n",
              "\n",
              "          const docLinkHtml = 'Like what you see? Visit the ' +\n",
              "            '<a target=\"_blank\" href=https://colab.research.google.com/notebooks/data_table.ipynb>data table notebook</a>'\n",
              "            + ' to learn more about interactive tables.';\n",
              "          element.innerHTML = '';\n",
              "          dataTable['output_type'] = 'display_data';\n",
              "          await google.colab.output.renderOutput(dataTable, element);\n",
              "          const docLink = document.createElement('div');\n",
              "          docLink.innerHTML = docLinkHtml;\n",
              "          element.appendChild(docLink);\n",
              "        }\n",
              "      </script>\n",
              "    </div>\n",
              "  </div>\n",
              "  "
            ]
          },
          "metadata": {},
          "execution_count": 8
        }
      ]
    },
    {
      "cell_type": "code",
      "metadata": {
        "id": "Z3yueVPfvEhI",
        "outputId": "9332290a-1da4-41ab-f3f0-85094048c867",
        "colab": {
          "base_uri": "https://localhost:8080/",
          "height": 49
        }
      },
      "source": [
        "titanic_preprocess_df.loc[titanic_preprocess_df[['pclass_1','pclass_2', 'pclass_3']].sum(axis=1) != 1]"
      ],
      "execution_count": 9,
      "outputs": [
        {
          "output_type": "execute_result",
          "data": {
            "text/plain": [
              "Empty DataFrame\n",
              "Columns: [survived, age, sibsp, parch, fare, pclass_1, pclass_2, pclass_3, sex_female, sex_male, embarked_C, embarked_Q, embarked_S]\n",
              "Index: []"
            ],
            "text/html": [
              "\n",
              "  <div id=\"df-8568e9de-4575-4d33-a433-0af96736b973\">\n",
              "    <div class=\"colab-df-container\">\n",
              "      <div>\n",
              "<style scoped>\n",
              "    .dataframe tbody tr th:only-of-type {\n",
              "        vertical-align: middle;\n",
              "    }\n",
              "\n",
              "    .dataframe tbody tr th {\n",
              "        vertical-align: top;\n",
              "    }\n",
              "\n",
              "    .dataframe thead th {\n",
              "        text-align: right;\n",
              "    }\n",
              "</style>\n",
              "<table border=\"1\" class=\"dataframe\">\n",
              "  <thead>\n",
              "    <tr style=\"text-align: right;\">\n",
              "      <th></th>\n",
              "      <th>survived</th>\n",
              "      <th>age</th>\n",
              "      <th>sibsp</th>\n",
              "      <th>parch</th>\n",
              "      <th>fare</th>\n",
              "      <th>pclass_1</th>\n",
              "      <th>pclass_2</th>\n",
              "      <th>pclass_3</th>\n",
              "      <th>sex_female</th>\n",
              "      <th>sex_male</th>\n",
              "      <th>embarked_C</th>\n",
              "      <th>embarked_Q</th>\n",
              "      <th>embarked_S</th>\n",
              "    </tr>\n",
              "  </thead>\n",
              "  <tbody>\n",
              "  </tbody>\n",
              "</table>\n",
              "</div>\n",
              "      <button class=\"colab-df-convert\" onclick=\"convertToInteractive('df-8568e9de-4575-4d33-a433-0af96736b973')\"\n",
              "              title=\"Convert this dataframe to an interactive table.\"\n",
              "              style=\"display:none;\">\n",
              "        \n",
              "  <svg xmlns=\"http://www.w3.org/2000/svg\" height=\"24px\"viewBox=\"0 0 24 24\"\n",
              "       width=\"24px\">\n",
              "    <path d=\"M0 0h24v24H0V0z\" fill=\"none\"/>\n",
              "    <path d=\"M18.56 5.44l.94 2.06.94-2.06 2.06-.94-2.06-.94-.94-2.06-.94 2.06-2.06.94zm-11 1L8.5 8.5l.94-2.06 2.06-.94-2.06-.94L8.5 2.5l-.94 2.06-2.06.94zm10 10l.94 2.06.94-2.06 2.06-.94-2.06-.94-.94-2.06-.94 2.06-2.06.94z\"/><path d=\"M17.41 7.96l-1.37-1.37c-.4-.4-.92-.59-1.43-.59-.52 0-1.04.2-1.43.59L10.3 9.45l-7.72 7.72c-.78.78-.78 2.05 0 2.83L4 21.41c.39.39.9.59 1.41.59.51 0 1.02-.2 1.41-.59l7.78-7.78 2.81-2.81c.8-.78.8-2.07 0-2.86zM5.41 20L4 18.59l7.72-7.72 1.47 1.35L5.41 20z\"/>\n",
              "  </svg>\n",
              "      </button>\n",
              "      \n",
              "  <style>\n",
              "    .colab-df-container {\n",
              "      display:flex;\n",
              "      flex-wrap:wrap;\n",
              "      gap: 12px;\n",
              "    }\n",
              "\n",
              "    .colab-df-convert {\n",
              "      background-color: #E8F0FE;\n",
              "      border: none;\n",
              "      border-radius: 50%;\n",
              "      cursor: pointer;\n",
              "      display: none;\n",
              "      fill: #1967D2;\n",
              "      height: 32px;\n",
              "      padding: 0 0 0 0;\n",
              "      width: 32px;\n",
              "    }\n",
              "\n",
              "    .colab-df-convert:hover {\n",
              "      background-color: #E2EBFA;\n",
              "      box-shadow: 0px 1px 2px rgba(60, 64, 67, 0.3), 0px 1px 3px 1px rgba(60, 64, 67, 0.15);\n",
              "      fill: #174EA6;\n",
              "    }\n",
              "\n",
              "    [theme=dark] .colab-df-convert {\n",
              "      background-color: #3B4455;\n",
              "      fill: #D2E3FC;\n",
              "    }\n",
              "\n",
              "    [theme=dark] .colab-df-convert:hover {\n",
              "      background-color: #434B5C;\n",
              "      box-shadow: 0px 1px 3px 1px rgba(0, 0, 0, 0.15);\n",
              "      filter: drop-shadow(0px 1px 2px rgba(0, 0, 0, 0.3));\n",
              "      fill: #FFFFFF;\n",
              "    }\n",
              "  </style>\n",
              "\n",
              "      <script>\n",
              "        const buttonEl =\n",
              "          document.querySelector('#df-8568e9de-4575-4d33-a433-0af96736b973 button.colab-df-convert');\n",
              "        buttonEl.style.display =\n",
              "          google.colab.kernel.accessAllowed ? 'block' : 'none';\n",
              "\n",
              "        async function convertToInteractive(key) {\n",
              "          const element = document.querySelector('#df-8568e9de-4575-4d33-a433-0af96736b973');\n",
              "          const dataTable =\n",
              "            await google.colab.kernel.invokeFunction('convertToInteractive',\n",
              "                                                     [key], {});\n",
              "          if (!dataTable) return;\n",
              "\n",
              "          const docLinkHtml = 'Like what you see? Visit the ' +\n",
              "            '<a target=\"_blank\" href=https://colab.research.google.com/notebooks/data_table.ipynb>data table notebook</a>'\n",
              "            + ' to learn more about interactive tables.';\n",
              "          element.innerHTML = '';\n",
              "          dataTable['output_type'] = 'display_data';\n",
              "          await google.colab.output.renderOutput(dataTable, element);\n",
              "          const docLink = document.createElement('div');\n",
              "          docLink.innerHTML = docLinkHtml;\n",
              "          element.appendChild(docLink);\n",
              "        }\n",
              "      </script>\n",
              "    </div>\n",
              "  </div>\n",
              "  "
            ]
          },
          "metadata": {},
          "execution_count": 9
        }
      ]
    },
    {
      "cell_type": "code",
      "metadata": {
        "id": "r4No15nhu8Hi",
        "outputId": "577c8254-abab-4169-b198-ef36cf461a87",
        "colab": {
          "base_uri": "https://localhost:8080/",
          "height": 49
        }
      },
      "source": [
        "titanic_preprocess_df.loc[titanic_preprocess_df[['embarked_C','embarked_Q', 'embarked_S']].sum(axis=1) != 1]"
      ],
      "execution_count": 10,
      "outputs": [
        {
          "output_type": "execute_result",
          "data": {
            "text/plain": [
              "Empty DataFrame\n",
              "Columns: [survived, age, sibsp, parch, fare, pclass_1, pclass_2, pclass_3, sex_female, sex_male, embarked_C, embarked_Q, embarked_S]\n",
              "Index: []"
            ],
            "text/html": [
              "\n",
              "  <div id=\"df-2c4a5280-8a82-4f77-9905-deece5fa5126\">\n",
              "    <div class=\"colab-df-container\">\n",
              "      <div>\n",
              "<style scoped>\n",
              "    .dataframe tbody tr th:only-of-type {\n",
              "        vertical-align: middle;\n",
              "    }\n",
              "\n",
              "    .dataframe tbody tr th {\n",
              "        vertical-align: top;\n",
              "    }\n",
              "\n",
              "    .dataframe thead th {\n",
              "        text-align: right;\n",
              "    }\n",
              "</style>\n",
              "<table border=\"1\" class=\"dataframe\">\n",
              "  <thead>\n",
              "    <tr style=\"text-align: right;\">\n",
              "      <th></th>\n",
              "      <th>survived</th>\n",
              "      <th>age</th>\n",
              "      <th>sibsp</th>\n",
              "      <th>parch</th>\n",
              "      <th>fare</th>\n",
              "      <th>pclass_1</th>\n",
              "      <th>pclass_2</th>\n",
              "      <th>pclass_3</th>\n",
              "      <th>sex_female</th>\n",
              "      <th>sex_male</th>\n",
              "      <th>embarked_C</th>\n",
              "      <th>embarked_Q</th>\n",
              "      <th>embarked_S</th>\n",
              "    </tr>\n",
              "  </thead>\n",
              "  <tbody>\n",
              "  </tbody>\n",
              "</table>\n",
              "</div>\n",
              "      <button class=\"colab-df-convert\" onclick=\"convertToInteractive('df-2c4a5280-8a82-4f77-9905-deece5fa5126')\"\n",
              "              title=\"Convert this dataframe to an interactive table.\"\n",
              "              style=\"display:none;\">\n",
              "        \n",
              "  <svg xmlns=\"http://www.w3.org/2000/svg\" height=\"24px\"viewBox=\"0 0 24 24\"\n",
              "       width=\"24px\">\n",
              "    <path d=\"M0 0h24v24H0V0z\" fill=\"none\"/>\n",
              "    <path d=\"M18.56 5.44l.94 2.06.94-2.06 2.06-.94-2.06-.94-.94-2.06-.94 2.06-2.06.94zm-11 1L8.5 8.5l.94-2.06 2.06-.94-2.06-.94L8.5 2.5l-.94 2.06-2.06.94zm10 10l.94 2.06.94-2.06 2.06-.94-2.06-.94-.94-2.06-.94 2.06-2.06.94z\"/><path d=\"M17.41 7.96l-1.37-1.37c-.4-.4-.92-.59-1.43-.59-.52 0-1.04.2-1.43.59L10.3 9.45l-7.72 7.72c-.78.78-.78 2.05 0 2.83L4 21.41c.39.39.9.59 1.41.59.51 0 1.02-.2 1.41-.59l7.78-7.78 2.81-2.81c.8-.78.8-2.07 0-2.86zM5.41 20L4 18.59l7.72-7.72 1.47 1.35L5.41 20z\"/>\n",
              "  </svg>\n",
              "      </button>\n",
              "      \n",
              "  <style>\n",
              "    .colab-df-container {\n",
              "      display:flex;\n",
              "      flex-wrap:wrap;\n",
              "      gap: 12px;\n",
              "    }\n",
              "\n",
              "    .colab-df-convert {\n",
              "      background-color: #E8F0FE;\n",
              "      border: none;\n",
              "      border-radius: 50%;\n",
              "      cursor: pointer;\n",
              "      display: none;\n",
              "      fill: #1967D2;\n",
              "      height: 32px;\n",
              "      padding: 0 0 0 0;\n",
              "      width: 32px;\n",
              "    }\n",
              "\n",
              "    .colab-df-convert:hover {\n",
              "      background-color: #E2EBFA;\n",
              "      box-shadow: 0px 1px 2px rgba(60, 64, 67, 0.3), 0px 1px 3px 1px rgba(60, 64, 67, 0.15);\n",
              "      fill: #174EA6;\n",
              "    }\n",
              "\n",
              "    [theme=dark] .colab-df-convert {\n",
              "      background-color: #3B4455;\n",
              "      fill: #D2E3FC;\n",
              "    }\n",
              "\n",
              "    [theme=dark] .colab-df-convert:hover {\n",
              "      background-color: #434B5C;\n",
              "      box-shadow: 0px 1px 3px 1px rgba(0, 0, 0, 0.15);\n",
              "      filter: drop-shadow(0px 1px 2px rgba(0, 0, 0, 0.3));\n",
              "      fill: #FFFFFF;\n",
              "    }\n",
              "  </style>\n",
              "\n",
              "      <script>\n",
              "        const buttonEl =\n",
              "          document.querySelector('#df-2c4a5280-8a82-4f77-9905-deece5fa5126 button.colab-df-convert');\n",
              "        buttonEl.style.display =\n",
              "          google.colab.kernel.accessAllowed ? 'block' : 'none';\n",
              "\n",
              "        async function convertToInteractive(key) {\n",
              "          const element = document.querySelector('#df-2c4a5280-8a82-4f77-9905-deece5fa5126');\n",
              "          const dataTable =\n",
              "            await google.colab.kernel.invokeFunction('convertToInteractive',\n",
              "                                                     [key], {});\n",
              "          if (!dataTable) return;\n",
              "\n",
              "          const docLinkHtml = 'Like what you see? Visit the ' +\n",
              "            '<a target=\"_blank\" href=https://colab.research.google.com/notebooks/data_table.ipynb>data table notebook</a>'\n",
              "            + ' to learn more about interactive tables.';\n",
              "          element.innerHTML = '';\n",
              "          dataTable['output_type'] = 'display_data';\n",
              "          await google.colab.output.renderOutput(dataTable, element);\n",
              "          const docLink = document.createElement('div');\n",
              "          docLink.innerHTML = docLinkHtml;\n",
              "          element.appendChild(docLink);\n",
              "        }\n",
              "      </script>\n",
              "    </div>\n",
              "  </div>\n",
              "  "
            ]
          },
          "metadata": {},
          "execution_count": 10
        }
      ]
    },
    {
      "cell_type": "markdown",
      "metadata": {
        "id": "n4a-35Xa66Tj"
      },
      "source": [
        "Since there are only two examples with no port of embarkation, we decide to discard them."
      ]
    },
    {
      "cell_type": "code",
      "metadata": {
        "id": "BkBNPNPDk9ZN"
      },
      "source": [
        "# Drop rows where there is no port of embarkation associated\n",
        "titanic_preprocess_df = titanic_preprocess_df.drop(index=148).reset_index(drop=True)\n",
        "titanic_preprocess_df = titanic_preprocess_df.drop(index=248).reset_index(drop=True)"
      ],
      "execution_count": 11,
      "outputs": []
    },
    {
      "cell_type": "code",
      "metadata": {
        "id": "l2p2GAKHm-92",
        "outputId": "c170339b-4bee-4b72-bbd5-8addfb7c86c7",
        "colab": {
          "base_uri": "https://localhost:8080/"
        }
      },
      "source": [
        "print(f'There are {len(titanic_preprocess_df)} remaining examples in the dataset.')"
      ],
      "execution_count": 12,
      "outputs": [
        {
          "output_type": "stream",
          "name": "stdout",
          "text": [
            "There are 1041 remaining examples in the dataset.\n"
          ]
        }
      ]
    },
    {
      "cell_type": "markdown",
      "metadata": {
        "id": "QJcs6PUTavlm"
      },
      "source": [
        "## Train / validation / test split"
      ]
    },
    {
      "cell_type": "markdown",
      "metadata": {
        "id": "Bjbgvffmavlo"
      },
      "source": [
        "At this point, we need to divide the dataset into three subsets:\n",
        "\n",
        "<ol>\n",
        "<li> <b> Train</b> (60% of the dataset): used to train the classification model. </li>   \n",
        "<li> <b> Validation</b> (20% of the dataset): used to evaluate hyper-parameters on held-out data. </li>   \n",
        "<li> <b> Test</b> (20% of the dataset): used to evaluate the generalization performance of the chosen model on held-out data. </li>\n",
        "</ol>\n",
        "\n",
        "We use the <a href=\"https://numpy.org/doc/stable/reference/generated/numpy.split.html\">numpy.split function</a> to separate our dataset into subsets."
      ]
    },
    {
      "cell_type": "markdown",
      "metadata": {
        "id": "cs07L8F5488f"
      },
      "source": [
        "### Exercise 1\n",
        "Complete the missing code to create the validation and the test sets"
      ]
    },
    {
      "cell_type": "code",
      "metadata": {
        "id": "GBmL8VBOavlo"
      },
      "source": [
        "train, validate, test = np.split(\n",
        "    titanic_preprocess_df.sample(frac=1, random_state=seed), \n",
        "    [int(.6*len(titanic_preprocess_df)), int(.8*len(titanic_preprocess_df))])\n",
        "\n",
        "# Remove the label column from X and create a label vectors.\n",
        "X_train = train.drop(['survived'], axis=1).to_numpy()\n",
        "y_train = train['survived'].to_numpy()\n",
        "\n",
        "X_val = validate.drop(['survived'], axis=1).to_numpy()\n",
        "y_val = validate['survived'].to_numpy()\n",
        "\n",
        "X_test = test.drop(['survived'], axis=1).to_numpy()\n",
        "y_test = test['survived'].to_numpy()\n"
      ],
      "execution_count": 13,
      "outputs": []
    },
    {
      "cell_type": "markdown",
      "metadata": {
        "id": "wv74TbIWavlr"
      },
      "source": [
        "## Datasets in PyTorch"
      ]
    },
    {
      "cell_type": "markdown",
      "metadata": {
        "id": "9_LJtG-Xavlt"
      },
      "source": [
        "We will use the subclass <b><a href=\"https://pytorch.org/docs/master/data.html#torch.utils.data.TensorDataset\"> `torch.utils.data.TensorDataset`</a> </b> to manipulate together the features and targets of a dataset."
      ]
    },
    {
      "cell_type": "markdown",
      "metadata": {
        "id": "CZUfbAtG5S92"
      },
      "source": [
        "### Exercise 2\n",
        "\n",
        "Complete the missing code to load the validation and the test sets in TensorDatasets."
      ]
    },
    {
      "cell_type": "code",
      "metadata": {
        "id": "1JtT4tV7avlt"
      },
      "source": [
        "train_dataset = TensorDataset(torch.from_numpy(X_train).float(), torch.from_numpy(y_train).long())\n",
        "val_dataset = TensorDataset(torch.from_numpy(X_val).float(), torch.from_numpy(y_val).long())\n",
        "test_dataset = TensorDataset(torch.from_numpy(X_test).float(), torch.from_numpy(y_test).long())\n"
      ],
      "execution_count": 14,
      "outputs": []
    },
    {
      "cell_type": "markdown",
      "metadata": {
        "id": "obEPHnlTavkc"
      },
      "source": [
        "# How to define the learning algorithm?"
      ]
    },
    {
      "cell_type": "markdown",
      "metadata": {
        "id": "qhN5GL6Gavks"
      },
      "source": [
        "To train a deep learning model, we need to define:\n",
        "* the network architecture by choosing the non-linear function and the number of hidden units per layer, \n",
        "* the loss function and optimizer.\n",
        "\n",
        "In this tutorial, we consider the multilayer perceptron (MLP). A MLP is a simple computational graph composed of \"hidden layers,\" which are defined by two modules: a **linear transformation** followed by a **non-linearity**. The result of a hidden layer is a vector called a **distributed representation** where each component is associated with a hidden unit.\n",
        "\n",
        "To solve our task, we will use a MLP with the following architecture:\n",
        "* the input dimension of the model is 12,\n",
        "* the output dimension of the model is 2,\n",
        "* the first dimension of the output is the probability of death and the second dimension is the probability of survival,\n",
        "* the number of hidden layers is 3, \n",
        "* the dimensions of the hidden layers are 20, 40, 20 respectively, \n",
        "* the activation function is a ReLu for all hidden layers."
      ]
    },
    {
      "cell_type": "markdown",
      "metadata": {
        "id": "701t0e-ravkr"
      },
      "source": [
        "## How to define a model in PyTorch?"
      ]
    },
    {
      "cell_type": "markdown",
      "metadata": {
        "id": "m4F5cyijavkv"
      },
      "source": [
        "The <a href=\"https://pytorch.org/docs/stable/nn.html\">PyTorch NN package</a> contains many useful classes for creating computation graphs.\n",
        "* The class <a href=\"https://pytorch.org/docs/master/generated/torch.nn.Module.html#torch.nn.Module\">torch.nn.Module</a>: \n",
        "any new module must inherit from this class or its descendants (subclasses).\n",
        "* The `forward` method:  any class defining a module must implement the `forward(...)` method, which defines the transformation of inputs to outputs.\n",
        "* The class <a href=\"https://pytorch.org/docs/master/generated/torch.nn.Linear.html#torch.nn.Linear\">`torch.nn.Linear(in_features, out_features)`</a>: this class implements a linear transformation. By default, it takes two parameters: \n",
        "    * `in_features`: the size of the data at the input of the module. \n",
        "    * `out_features`: the size of the data at the output of the module.\n",
        "\n",
        "* The module <a href=\"https://pytorch.org/docs/master/nn.functional.html#torch-nn-functional\">`torch.nn.functional`</a>: \n",
        "it defines a set of functions that can be applied directly to any tensor. As examples, we have:\n",
        "    * non-linear functions: `sigmoid(...)`, `tanh(...)`, `relu(...)`, ...\n",
        "    * loss functions: `mse_loss(...)`, `nll(...)`, `cross_entropy(...)`, ... \n",
        "    * regularization functions: `droupout(...)`, ..."
      ]
    },
    {
      "cell_type": "markdown",
      "metadata": {
        "id": "Tscha6S-KIBB"
      },
      "source": [
        "### Exercise 3\n",
        "\n",
        "Complete the following methods to define a neural network:\n",
        "* The `__init__` method that defines the layers.\n",
        "* The `forward(input)` method that returns the `output`."
      ]
    },
    {
      "cell_type": "code",
      "metadata": {
        "id": "xR5eBfIbavk0"
      },
      "source": [
        "class NeuralNet(nn.Module):\n",
        "    def __init__(self):\n",
        "      super(NeuralNet, self).__init__()\n",
        "      self.layer1 = nn.Linear(in_features=12, out_features=20 )\n",
        "      self.layer2 = nn.Linear(in_features=20, out_features=40 )\n",
        "      self.layer3 = nn.Linear(in_features=40, out_features=20 )\n",
        "      self.layer4 = nn.Linear(in_features=20, out_features=2)\n",
        "\n",
        "    def forward(self, x):      \n",
        "      out = F.relu(self.layer1(x))\n",
        "      out = F.relu(self.layer2(out))\n",
        "      out = F.relu(self.layer3(out))\n",
        "      out = self.layer4(out)\n",
        "      return out"
      ],
      "execution_count": 19,
      "outputs": []
    },
    {
      "cell_type": "markdown",
      "metadata": {
        "id": "OvLnHRZ5avk2"
      },
      "source": [
        "## Making predictions with a neural network"
      ]
    },
    {
      "cell_type": "markdown",
      "metadata": {
        "id": "uEXgJMDDavk3"
      },
      "source": [
        "Now, we are ready to test our neural network on randomly selected data.\n",
        "\n",
        "In PyTorch, a model has two different modes:\n",
        "    <ul>\n",
        "    <li> <b>train</b>: used during training, </li>\n",
        "    <li> <b>eval</b>: used during inference for model evaluation. </li>\n",
        "    </ul>\n",
        "\n",
        "The distinction is important since some modules behave differently according to this mode.\n",
        "We will use the <b>eval</b> mode in this section."
      ]
    },
    {
      "cell_type": "markdown",
      "metadata": {
        "id": "IqtE_hr650pz"
      },
      "source": [
        "### Exercise 4\n",
        "Complete the missing code so that the model outputs a probability vector. "
      ]
    },
    {
      "cell_type": "code",
      "metadata": {
        "id": "gzcABMezavk6",
        "outputId": "7a5eb9cb-a098-4fd0-f458-b456d008ea9a",
        "colab": {
          "base_uri": "https://localhost:8080/"
        }
      },
      "source": [
        "# Model definition\n",
        "neural_net = NeuralNet()\n",
        "neural_net = neural_net.to(device)\n",
        "\n",
        "# Evaluation mode activation\n",
        "neural_net = neural_net.eval()\n",
        "\n",
        "# Select the first 5 data points\n",
        "data, target = val_dataset[0:5]\n",
        "data = data.to(device)\n",
        "target = target.to(device)\n",
        "\n",
        "# Forward propagation of the data through the model\n",
        "output = neural_net(data)   # equivalent to neural_net.forward(data)\n",
        "\n",
        "# Convert the logits into probabilities with softmax function\n",
        "output_proba = F.softmax(output, dim=1)\n",
        "\n",
        "# Printing the probability\n",
        "print(output_proba)"
      ],
      "execution_count": 20,
      "outputs": [
        {
          "output_type": "stream",
          "name": "stdout",
          "text": [
            "tensor([[0.5562, 0.4438],\n",
            "        [0.6735, 0.3265],\n",
            "        [0.5908, 0.4092],\n",
            "        [0.5709, 0.4291],\n",
            "        [0.5843, 0.4157]], device='cuda:0', grad_fn=<SoftmaxBackward0>)\n"
          ]
        }
      ]
    },
    {
      "cell_type": "markdown",
      "metadata": {
        "id": "fVep0BElavlS"
      },
      "source": [
        "The rows define the output of the network, in terms of probabilities over two classes: <b>deceased</b> (first column) or <b>survived</b> (second column), for each of the five input data points. Let us take the label with maximum probability as the predicted label and compare it to the correct label."
      ]
    },
    {
      "cell_type": "code",
      "metadata": {
        "id": "_jV4No36qjdU",
        "outputId": "68db94e8-ff84-4dfa-95f8-1f6342fb58b4",
        "colab": {
          "base_uri": "https://localhost:8080/"
        }
      },
      "source": [
        "# Printing predictions (class with the highest probability)\n",
        "_, prediction = torch.max(output_proba, dim=1)\n",
        "\n",
        "print('Model prediction')\n",
        "print(prediction)\n",
        "\n",
        "# Printing the real labels\n",
        "print(\"Actual data\")\n",
        "print(target)"
      ],
      "execution_count": 21,
      "outputs": [
        {
          "output_type": "stream",
          "name": "stdout",
          "text": [
            "Model prediction\n",
            "tensor([0, 0, 0, 0, 0], device='cuda:0')\n",
            "Actual data\n",
            "tensor([0, 0, 0, 1, 1], device='cuda:0')\n"
          ]
        }
      ]
    },
    {
      "cell_type": "markdown",
      "metadata": {
        "id": "SEIIjqOuqjdc"
      },
      "source": [
        "### Exercise 5\n",
        "\n",
        "1.   What would be a good way to measure the model performances?\n",
        "2.   How does our model perform?\n",
        "3.   Considering that the model is not trained on the dataset, do you see any problem with your selected measure?\n"
      ]
    },
    {
      "cell_type": "markdown",
      "metadata": {
        "id": "0uySA2TCavmD"
      },
      "source": [
        "## Define the loss function and optimizer"
      ]
    },
    {
      "cell_type": "markdown",
      "metadata": {
        "id": "EkoobCLMavmE"
      },
      "source": [
        "### Loss function"
      ]
    },
    {
      "cell_type": "markdown",
      "metadata": {
        "id": "qkX7uSXQavmF"
      },
      "source": [
        "We define the loss function according to the task we want to achieve.\n",
        "\n",
        "PyTorch offers <a href=\"https://pytorch.org/docs/stable/nn.html#loss-functions\">many ready-to-use loss functions</a>.\n",
        "\n",
        "For classification problems, the usual loss function is <b>cross-entropy</b>, and this is the one we will use in this tutorial. In PyTorch, it is defined by the function <a href=\"https://pytorch.org/docs/master/nn.functional.html#cross-entropy\">`torch.nn.functional.cross_entropy`</a>.  Cross entropy allows comparing a $p$ distribution with a reference distribution $t$. It attains its minimum when $t=p$. Its formula for calculating it between the prediction and the target is: $-\\sum_j t_{ij} \\log(p_{ij})$ where $p$ is the prediction, $t$ the target, $i$ the example and $j$ the classe of the target."
      ]
    },
    {
      "cell_type": "code",
      "metadata": {
        "id": "FHnfYeS5avmF"
      },
      "source": [
        "def loss_function(prediction, target):\n",
        "    loss = F.cross_entropy(prediction, target)\n",
        "    return loss"
      ],
      "execution_count": 22,
      "outputs": []
    },
    {
      "cell_type": "markdown",
      "metadata": {
        "id": "Vsx_cv9Wqjdj"
      },
      "source": [
        "### Backpropagation"
      ]
    },
    {
      "cell_type": "markdown",
      "metadata": {
        "id": "0hcZaIKtavmH"
      },
      "source": [
        "In Pytorch, thanks to the automatic differentiation mechanism <a href=\"http://pytorch.org/docs/master/notes/autograd.html\">Autograd</a>, it is possible to automatically calculate the gradient of the loss function and backpropagate it through the computational graph.\n",
        "\n",
        "To do this, we only have to call the method `backward()` on the variable returned by the loss function, e.g., with\n",
        "\n",
        "```python\n",
        "loss = loss_function(....)\n",
        "loss.backward()\n",
        "```"
      ]
    },
    {
      "cell_type": "markdown",
      "metadata": {
        "id": "8YNo_ymYavmH"
      },
      "source": [
        "### Optimization"
      ]
    },
    {
      "cell_type": "markdown",
      "metadata": {
        "id": "Y4AlX9TwavmH"
      },
      "source": [
        "PyTorch provides a <a href=\"http://pytorch.org/docs/master/optim.html#algorithms\">set of optimization methods (`torch.optim`)</a> commonly used by the deep learning community. These methods include the following: \n",
        "* <b>SGD</b> (Stochastic Gradient Descent) <a href=\"http://pytorch.org/docs/master/optim.html#torch.optim.SGD\">`torch.optim.SGD(net.parameters(), lr=learning_rate)`</a>\n",
        "* <b>Adam</b> (Adaptive Moment Estimation): a variant of the gradient descent method in which the learning rate is adjusted for each parameter by estimating the first and second moments of the gradients. This optimizer has demonstrated excellent performance compared to SGD on many benchmarks.\n",
        "\n",
        "To be able to use an optimizer in PyTorch, we must instantiate it by passing the following elements:\n",
        "* <b>The parameters of the model</b>: these are obtained using the method `parameters()` on the instantiated model.\n",
        "* <b>The learning rate (lr)</b>: this is the learning rate to be used to update parameters during the optimization process. \n",
        "* There may be other parameters specific to the chosen optimizer.\n",
        "\n",
        "PyTorch offers a simplified interface to interact with any optimizer:\n",
        "* `zero_grad()`: Allows to reinitialize the gradients to zero at the beginning of an optimization step.\n",
        "* `step()`: Allows to perform an optimization step after a gradient backpropagation step."
      ]
    },
    {
      "cell_type": "markdown",
      "metadata": {
        "id": "fZ-lKExqavmI"
      },
      "source": [
        "We will use Adam with a lr of 0.001."
      ]
    },
    {
      "cell_type": "code",
      "metadata": {
        "id": "WDMOziJTavmI"
      },
      "source": [
        "optimizer = optim.Adam(neural_net.parameters(), lr=0.001) "
      ],
      "execution_count": 23,
      "outputs": []
    },
    {
      "cell_type": "markdown",
      "metadata": {
        "id": "OnFOAfdGqjdr"
      },
      "source": [
        "# How to train and evaluate a model?\n",
        "First, we need some definitions:\n",
        "<ol>\n",
        "<li>\n",
        "<b>Epoch</b>: a complete pass over the entire training dataset.\n",
        "</li>\n",
        "<li>\n",
        "<b>Iteration</b>: an update of the model parameters. Many iterations can occur before the end of an epoch.\n",
        "</li>\n",
        "<li>\n",
        "<b>Mini-batch</b>: A subset of training data used to estimate the average of gradients. In other words, at each iteration, a mini-batch is used. \n",
        "</li>\n",
        "</ol>"
      ]
    },
    {
      "cell_type": "markdown",
      "metadata": {
        "id": "LLXjNiDTavmK"
      },
      "source": [
        "## Creating the mini-batches\n",
        "PyTorch offers a utility called <b><a href=\"http://pytorch.org/docs/master/data.html\"> `torch.utils.data.DataLoader`</a></b> to load any dataset and automatically split it into mini-batches. During training, the data presented to the network should appear in a different order from one epoch to another. We will prepare the `DataLoader` for our three datasets (training, validation, and test)."
      ]
    },
    {
      "cell_type": "code",
      "metadata": {
        "id": "RGoQZSdqavmM"
      },
      "source": [
        "train_batch_size = 32  # number of data in a training batch.\n",
        "eval_batch_size = 32   # number of data in an batch.\n",
        "\n",
        "\n",
        "train_loader = torch.utils.data.DataLoader(train_dataset, batch_size=train_batch_size, shuffle=True)\n",
        "\n",
        "val_loader   = torch.utils.data.DataLoader(val_dataset, batch_size=eval_batch_size, shuffle=False)\n",
        "test_loader  = torch.utils.data.DataLoader(test_dataset, batch_size=eval_batch_size, shuffle=False)"
      ],
      "execution_count": 24,
      "outputs": []
    },
    {
      "cell_type": "markdown",
      "metadata": {
        "id": "Ia3ai-GvavmP"
      },
      "source": [
        "## Simple training loop"
      ]
    },
    {
      "cell_type": "markdown",
      "metadata": {
        "id": "v9wNZrTnavmQ"
      },
      "source": [
        "Here we define our training procedure for an epoch."
      ]
    },
    {
      "cell_type": "code",
      "metadata": {
        "id": "ZyK9xCsZavmR"
      },
      "source": [
        "def train(epoch, model, train_loader, optimizer, device):\n",
        "    \n",
        "    # activate the training mode\n",
        "    model.train()\n",
        "    \n",
        "    torch.set_grad_enabled(True)\n",
        "    \n",
        "    total_loss = 0\n",
        "    correct = 0\n",
        "    \n",
        "    # iteration over the mini-batches\n",
        "    for batch_idx, (data, target) in enumerate(train_loader):\n",
        "        \n",
        "        # transfer the data on the chosen device\n",
        "        data, target = data.to(device), target.to(device)\n",
        "        \n",
        "        # reinitialize the gradients to zero\n",
        "        optimizer.zero_grad()\n",
        "        \n",
        "        # forward propagation on the data\n",
        "        prediction = model(data)\n",
        "        \n",
        "        # compute the loss function w.r.t. the targets\n",
        "        loss = loss_function(prediction, target)\n",
        "        \n",
        "        # execute the backpropagation\n",
        "        loss.backward()\n",
        "        \n",
        "        # execute an optimization step\n",
        "        optimizer.step()\n",
        "        \n",
        "        # accumulate the loss\n",
        "        total_loss += loss.item()*len(data)\n",
        "        \n",
        "        # compute the number of correct predictions\n",
        "        _, pred_classes = torch.max(prediction, dim=1)        \n",
        "        correct += pred_classes.eq(target.view_as(pred_classes)).sum().item()\n",
        "         \n",
        "        \n",
        "    # compute the average loss per epoch\n",
        "    mean_loss = total_loss/len(train_loader.dataset)\n",
        "    \n",
        "    # compute the accuracy\n",
        "    acc = correct / len(train_loader.dataset)\n",
        "        \n",
        "    print('Train Epoch: {}   Avg_Loss: {:.5f}   Acc: {}/{} ({:.3f}%)'.format(\n",
        "        epoch, mean_loss, correct, len(train_loader.dataset),\n",
        "        100. * acc))   \n",
        "    \n",
        "    # return the average loss and the accuracy\n",
        "    return mean_loss, acc"
      ],
      "execution_count": 25,
      "outputs": []
    },
    {
      "cell_type": "markdown",
      "metadata": {
        "id": "vGexbWaHavmU"
      },
      "source": [
        "## Evaluation procedure\n",
        "Here we define our model evaluation procedure.\n",
        "<br/>\n",
        "In addition to switching the model to **eval** mode, it is essential to disable the gradient calculation. \n",
        "<br/>\n",
        "To do this, PyTorch offers a set of context managers to <a href=\"https://pytorch.org/docs/0.4.0/torch.html#locally-disabling-gradient-computation\">locally disable/enable gradient calculation </a>:\n",
        "1. `torch.no_grad()`: disable gradient calculation.\n",
        "2. `torch.enable_grad()`: enable gradient calculation.\n",
        "3. `torch.set_grad_enabled(bool)`: enable/disable gradient calculation.\n",
        "\n"
      ]
    },
    {
      "cell_type": "code",
      "metadata": {
        "id": "8gQj9W5LavmU"
      },
      "source": [
        "def evaluate(model, eval_loader, device):\n",
        "    \n",
        "    # activate the evaluation mode\n",
        "    model.eval()\n",
        "    \n",
        "    total_loss = 0\n",
        "    correct = 0\n",
        "    \n",
        "    with torch.no_grad():\n",
        "    \n",
        "        # iterate over the batches\n",
        "        for batch_idx, (data, target) in enumerate(eval_loader):\n",
        "\n",
        "            # transfer the data on the chosen device\n",
        "            data, target = data.to(device), target.to(device)\n",
        "\n",
        "            # forward propagation on the data\n",
        "            prediction = model(data)\n",
        "\n",
        "            # compute the loss function w.r.t. the targets\n",
        "            loss = loss_function(prediction, target)           \n",
        "\n",
        "\n",
        "            # accumulate the loss\n",
        "            total_loss += loss.item()*len(data)\n",
        "\n",
        "            # compute the number of correct predictions en sortie)\n",
        "            _, pred_classes = torch.max(prediction, dim=1) \n",
        "            correct += pred_classes.eq(target.view_as(pred_classes)).sum().item()         \n",
        "          \n",
        "    \n",
        "    # compute the average loss per epoch\n",
        "    mean_loss = total_loss/len(eval_loader.dataset)\n",
        "    \n",
        "    # compute the accuracy\n",
        "    acc = correct / len(eval_loader.dataset)\n",
        "        \n",
        "    print('Eval:  Avg_Loss: {:.5f}   Acc: {}/{} ({:.3f}%)'.format(\n",
        "        mean_loss, correct, len(eval_loader.dataset),\n",
        "        100. * acc)) \n",
        "    \n",
        "    # return the average loss and the accuracy\n",
        "    return mean_loss, acc"
      ],
      "execution_count": 26,
      "outputs": []
    },
    {
      "cell_type": "markdown",
      "metadata": {
        "id": "lQLklQXAavmW"
      },
      "source": [
        "## Checkpointing\n",
        "\n",
        "During training, we recommend saving the model parameters periodically. By doing so, we avoid having to retrain the model from scratch if the experiment goes wrong such as losing communication with GPU, out-of-memory error, numerical errors, incorrect learning rates making the experiment unstable, etc. This practice is commonly referred to as <b>checkpointing</b>.\n",
        "\n",
        "PyTorch offers <a href=\"http://pytorch.org/docs/master/notes/serialization.html\">a simple mechanism</a> to perform this operation.\n",
        "\n",
        "We implement two methods here:\n",
        "<ul>\n",
        "<li> the first one for <b> saving </b> a model,</li>\n",
        "<li> the second for <b> loading </b> a model checkpoint. </li>\n",
        "</ul>"
      ]
    },
    {
      "cell_type": "code",
      "metadata": {
        "id": "dMmNpma2avmX"
      },
      "source": [
        "def save_model(epoch, model, path='./'):\n",
        "    \n",
        "    # creating the file name indexed by the epoch value\n",
        "    filename = path + 'neural_network_{}.pt'.format(epoch)\n",
        "    \n",
        "    # saving the model parameters\n",
        "    torch.save(model.state_dict(), filename)\n",
        "    \n",
        "    return model\n",
        "    "
      ],
      "execution_count": 27,
      "outputs": []
    },
    {
      "cell_type": "code",
      "metadata": {
        "id": "2ZptgqQRavmZ"
      },
      "source": [
        "def load_model(epoch, model, path='./'):\n",
        "    \n",
        "    # creating the file name indexed by the epoch value\n",
        "    filename = path + 'neural_network_{}.pt'.format(epoch)\n",
        "    \n",
        "    # loading the parameters of the saved model\n",
        "    model.load_state_dict(torch.load(filename))\n",
        "    \n",
        "    return model"
      ],
      "execution_count": 28,
      "outputs": []
    },
    {
      "cell_type": "markdown",
      "metadata": {
        "id": "ve8sOocWavma"
      },
      "source": [
        "It is also possible to save the optimizer's status in PyTorch, which is very important when we want to resume training the model from a given backup. For more information, please consult <a href='https://discuss.pytorch.org/t/saving-and-loading-a-model-in-pytorch/2610/3'>the following URL</a>."
      ]
    },
    {
      "cell_type": "markdown",
      "metadata": {
        "id": "8lcAP8-1avma"
      },
      "source": [
        "## Putting everything together"
      ]
    },
    {
      "cell_type": "code",
      "metadata": {
        "id": "keMpyePsavmb",
        "outputId": "6c368bb2-9810-4bd9-dcaf-792f184e0fd4",
        "colab": {
          "base_uri": "https://localhost:8080/"
        }
      },
      "source": [
        "# maximum number of epoch\n",
        "numEpochs = 200\n",
        "\n",
        "# Saving frequency\n",
        "checkpoint_freq = 10\n",
        "\n",
        "# Directory for data backup\n",
        "path = './'\n",
        "\n",
        "# Accumulators of average losses obtained per epoch\n",
        "train_losses = []\n",
        "val_losses = []\n",
        "\n",
        "# Performance accumulators per epoch\n",
        "train_accuracies = []\n",
        "val_accuracies = []\n",
        "\n",
        "# Model definition\n",
        "neural_net = NeuralNet()\n",
        "\n",
        "# Load the model on the chosen device\n",
        "neural_net = neural_net.to(device)\n",
        "\n",
        "# Optimizer definition\n",
        "optimizer = optim.Adam(neural_net.parameters(), lr=0.001) \n",
        "# optimizer = optim.SGD(neural_net.parameters(), lr=0.001) \n",
        "\n",
        "\n",
        "# Learning loop\n",
        "for epoch in range(1, numEpochs + 1):\n",
        "    \n",
        "    # train the model with the train dataset\n",
        "    train_loss, train_acc = train(epoch, neural_net, train_loader, optimizer, device)   \n",
        "    \n",
        "    # evaluate the model with the validation dataset\n",
        "    val_loss, val_acc = evaluate(neural_net, val_loader, device)       \n",
        "    \n",
        "    # Save the losses obtained\n",
        "    train_losses.append(train_loss)    \n",
        "    val_losses.append(val_loss)\n",
        "    \n",
        "    # Save the performances\n",
        "    train_accuracies.append(train_acc)    \n",
        "    val_accuracies.append(val_acc)\n",
        "    \n",
        "    # Checkpoint\n",
        "    if epoch % checkpoint_freq ==0:\n",
        "        save_model(epoch, neural_net, path)\n",
        "\n",
        "# Save the model at the end of the training\n",
        "save_model(numEpochs, neural_net, path)\n",
        "    \n",
        "print(\"\\n\\n\\nOptimization ended.\\n\")    \n"
      ],
      "execution_count": 29,
      "outputs": [
        {
          "output_type": "stream",
          "name": "stdout",
          "text": [
            "Train Epoch: 1   Avg_Loss: 0.68477   Acc: 395/624 (63.301%)\n",
            "Eval:  Avg_Loss: 0.60693   Acc: 145/208 (69.712%)\n",
            "Train Epoch: 2   Avg_Loss: 0.62109   Acc: 409/624 (65.545%)\n",
            "Eval:  Avg_Loss: 0.59227   Acc: 145/208 (69.712%)\n",
            "Train Epoch: 3   Avg_Loss: 0.61517   Acc: 425/624 (68.109%)\n",
            "Eval:  Avg_Loss: 0.59119   Acc: 146/208 (70.192%)\n",
            "Train Epoch: 4   Avg_Loss: 0.60175   Acc: 426/624 (68.269%)\n",
            "Eval:  Avg_Loss: 0.59419   Acc: 150/208 (72.115%)\n",
            "Train Epoch: 5   Avg_Loss: 0.59388   Acc: 437/624 (70.032%)\n",
            "Eval:  Avg_Loss: 0.58176   Acc: 149/208 (71.635%)\n",
            "Train Epoch: 6   Avg_Loss: 0.58965   Acc: 434/624 (69.551%)\n",
            "Eval:  Avg_Loss: 0.57515   Acc: 156/208 (75.000%)\n",
            "Train Epoch: 7   Avg_Loss: 0.58243   Acc: 440/624 (70.513%)\n",
            "Eval:  Avg_Loss: 0.56098   Acc: 156/208 (75.000%)\n",
            "Train Epoch: 8   Avg_Loss: 0.57309   Acc: 443/624 (70.994%)\n",
            "Eval:  Avg_Loss: 0.54673   Acc: 156/208 (75.000%)\n",
            "Train Epoch: 9   Avg_Loss: 0.55863   Acc: 458/624 (73.397%)\n",
            "Eval:  Avg_Loss: 0.53657   Acc: 159/208 (76.442%)\n",
            "Train Epoch: 10   Avg_Loss: 0.54438   Acc: 459/624 (73.558%)\n",
            "Eval:  Avg_Loss: 0.53804   Acc: 166/208 (79.808%)\n",
            "Train Epoch: 11   Avg_Loss: 0.52827   Acc: 468/624 (75.000%)\n",
            "Eval:  Avg_Loss: 0.49961   Acc: 171/208 (82.212%)\n",
            "Train Epoch: 12   Avg_Loss: 0.51603   Acc: 475/624 (76.122%)\n",
            "Eval:  Avg_Loss: 0.51125   Acc: 166/208 (79.808%)\n",
            "Train Epoch: 13   Avg_Loss: 0.51278   Acc: 484/624 (77.564%)\n",
            "Eval:  Avg_Loss: 0.47390   Acc: 168/208 (80.769%)\n",
            "Train Epoch: 14   Avg_Loss: 0.49121   Acc: 481/624 (77.083%)\n",
            "Eval:  Avg_Loss: 0.46822   Acc: 169/208 (81.250%)\n",
            "Train Epoch: 15   Avg_Loss: 0.48915   Acc: 477/624 (76.442%)\n",
            "Eval:  Avg_Loss: 0.45867   Acc: 171/208 (82.212%)\n",
            "Train Epoch: 16   Avg_Loss: 0.48115   Acc: 487/624 (78.045%)\n",
            "Eval:  Avg_Loss: 0.46370   Acc: 169/208 (81.250%)\n",
            "Train Epoch: 17   Avg_Loss: 0.48850   Acc: 484/624 (77.564%)\n",
            "Eval:  Avg_Loss: 0.46017   Acc: 168/208 (80.769%)\n",
            "Train Epoch: 18   Avg_Loss: 0.47416   Acc: 489/624 (78.365%)\n",
            "Eval:  Avg_Loss: 0.44690   Acc: 170/208 (81.731%)\n",
            "Train Epoch: 19   Avg_Loss: 0.47073   Acc: 488/624 (78.205%)\n",
            "Eval:  Avg_Loss: 0.44764   Acc: 172/208 (82.692%)\n",
            "Train Epoch: 20   Avg_Loss: 0.46593   Acc: 498/624 (79.808%)\n",
            "Eval:  Avg_Loss: 0.44529   Acc: 165/208 (79.327%)\n",
            "Train Epoch: 21   Avg_Loss: 0.46854   Acc: 482/624 (77.244%)\n",
            "Eval:  Avg_Loss: 0.43681   Acc: 168/208 (80.769%)\n",
            "Train Epoch: 22   Avg_Loss: 0.46717   Acc: 485/624 (77.724%)\n",
            "Eval:  Avg_Loss: 0.43268   Acc: 170/208 (81.731%)\n",
            "Train Epoch: 23   Avg_Loss: 0.46259   Acc: 485/624 (77.724%)\n",
            "Eval:  Avg_Loss: 0.42813   Acc: 171/208 (82.212%)\n",
            "Train Epoch: 24   Avg_Loss: 0.46307   Acc: 488/624 (78.205%)\n",
            "Eval:  Avg_Loss: 0.42878   Acc: 175/208 (84.135%)\n",
            "Train Epoch: 25   Avg_Loss: 0.46695   Acc: 489/624 (78.365%)\n",
            "Eval:  Avg_Loss: 0.43231   Acc: 169/208 (81.250%)\n",
            "Train Epoch: 26   Avg_Loss: 0.46872   Acc: 489/624 (78.365%)\n",
            "Eval:  Avg_Loss: 0.42674   Acc: 170/208 (81.731%)\n",
            "Train Epoch: 27   Avg_Loss: 0.45291   Acc: 497/624 (79.647%)\n",
            "Eval:  Avg_Loss: 0.42407   Acc: 171/208 (82.212%)\n",
            "Train Epoch: 28   Avg_Loss: 0.44724   Acc: 493/624 (79.006%)\n",
            "Eval:  Avg_Loss: 0.42193   Acc: 171/208 (82.212%)\n",
            "Train Epoch: 29   Avg_Loss: 0.44205   Acc: 498/624 (79.808%)\n",
            "Eval:  Avg_Loss: 0.42426   Acc: 170/208 (81.731%)\n",
            "Train Epoch: 30   Avg_Loss: 0.45448   Acc: 495/624 (79.327%)\n",
            "Eval:  Avg_Loss: 0.43359   Acc: 171/208 (82.212%)\n",
            "Train Epoch: 31   Avg_Loss: 0.46735   Acc: 494/624 (79.167%)\n",
            "Eval:  Avg_Loss: 0.45067   Acc: 163/208 (78.365%)\n",
            "Train Epoch: 32   Avg_Loss: 0.46618   Acc: 495/624 (79.327%)\n",
            "Eval:  Avg_Loss: 0.41729   Acc: 168/208 (80.769%)\n",
            "Train Epoch: 33   Avg_Loss: 0.48550   Acc: 479/624 (76.763%)\n",
            "Eval:  Avg_Loss: 0.43782   Acc: 167/208 (80.288%)\n",
            "Train Epoch: 34   Avg_Loss: 0.46805   Acc: 494/624 (79.167%)\n",
            "Eval:  Avg_Loss: 0.41797   Acc: 173/208 (83.173%)\n",
            "Train Epoch: 35   Avg_Loss: 0.45303   Acc: 497/624 (79.647%)\n",
            "Eval:  Avg_Loss: 0.42266   Acc: 169/208 (81.250%)\n",
            "Train Epoch: 36   Avg_Loss: 0.43387   Acc: 508/624 (81.410%)\n",
            "Eval:  Avg_Loss: 0.42015   Acc: 171/208 (82.212%)\n",
            "Train Epoch: 37   Avg_Loss: 0.45818   Acc: 487/624 (78.045%)\n",
            "Eval:  Avg_Loss: 0.42329   Acc: 171/208 (82.212%)\n",
            "Train Epoch: 38   Avg_Loss: 0.44175   Acc: 499/624 (79.968%)\n",
            "Eval:  Avg_Loss: 0.41457   Acc: 170/208 (81.731%)\n",
            "Train Epoch: 39   Avg_Loss: 0.43100   Acc: 503/624 (80.609%)\n",
            "Eval:  Avg_Loss: 0.42044   Acc: 172/208 (82.692%)\n",
            "Train Epoch: 40   Avg_Loss: 0.43324   Acc: 497/624 (79.647%)\n",
            "Eval:  Avg_Loss: 0.41986   Acc: 171/208 (82.212%)\n",
            "Train Epoch: 41   Avg_Loss: 0.43100   Acc: 510/624 (81.731%)\n",
            "Eval:  Avg_Loss: 0.41929   Acc: 171/208 (82.212%)\n",
            "Train Epoch: 42   Avg_Loss: 0.43244   Acc: 510/624 (81.731%)\n",
            "Eval:  Avg_Loss: 0.42607   Acc: 169/208 (81.250%)\n",
            "Train Epoch: 43   Avg_Loss: 0.42985   Acc: 508/624 (81.410%)\n",
            "Eval:  Avg_Loss: 0.41533   Acc: 172/208 (82.692%)\n",
            "Train Epoch: 44   Avg_Loss: 0.42497   Acc: 506/624 (81.090%)\n",
            "Eval:  Avg_Loss: 0.41872   Acc: 170/208 (81.731%)\n",
            "Train Epoch: 45   Avg_Loss: 0.42445   Acc: 504/624 (80.769%)\n",
            "Eval:  Avg_Loss: 0.42443   Acc: 170/208 (81.731%)\n",
            "Train Epoch: 46   Avg_Loss: 0.42294   Acc: 508/624 (81.410%)\n",
            "Eval:  Avg_Loss: 0.41658   Acc: 169/208 (81.250%)\n",
            "Train Epoch: 47   Avg_Loss: 0.41825   Acc: 511/624 (81.891%)\n",
            "Eval:  Avg_Loss: 0.41479   Acc: 170/208 (81.731%)\n",
            "Train Epoch: 48   Avg_Loss: 0.42195   Acc: 513/624 (82.212%)\n",
            "Eval:  Avg_Loss: 0.42633   Acc: 168/208 (80.769%)\n",
            "Train Epoch: 49   Avg_Loss: 0.42844   Acc: 512/624 (82.051%)\n",
            "Eval:  Avg_Loss: 0.43924   Acc: 170/208 (81.731%)\n",
            "Train Epoch: 50   Avg_Loss: 0.42453   Acc: 505/624 (80.929%)\n",
            "Eval:  Avg_Loss: 0.41649   Acc: 169/208 (81.250%)\n",
            "Train Epoch: 51   Avg_Loss: 0.42511   Acc: 507/624 (81.250%)\n",
            "Eval:  Avg_Loss: 0.43109   Acc: 170/208 (81.731%)\n",
            "Train Epoch: 52   Avg_Loss: 0.41651   Acc: 511/624 (81.891%)\n",
            "Eval:  Avg_Loss: 0.41778   Acc: 171/208 (82.212%)\n",
            "Train Epoch: 53   Avg_Loss: 0.41443   Acc: 509/624 (81.571%)\n",
            "Eval:  Avg_Loss: 0.42358   Acc: 170/208 (81.731%)\n",
            "Train Epoch: 54   Avg_Loss: 0.41825   Acc: 508/624 (81.410%)\n",
            "Eval:  Avg_Loss: 0.42385   Acc: 168/208 (80.769%)\n",
            "Train Epoch: 55   Avg_Loss: 0.41430   Acc: 514/624 (82.372%)\n",
            "Eval:  Avg_Loss: 0.41809   Acc: 168/208 (80.769%)\n",
            "Train Epoch: 56   Avg_Loss: 0.41336   Acc: 509/624 (81.571%)\n",
            "Eval:  Avg_Loss: 0.44502   Acc: 171/208 (82.212%)\n",
            "Train Epoch: 57   Avg_Loss: 0.43375   Acc: 498/624 (79.808%)\n",
            "Eval:  Avg_Loss: 0.43588   Acc: 171/208 (82.212%)\n",
            "Train Epoch: 58   Avg_Loss: 0.42572   Acc: 510/624 (81.731%)\n",
            "Eval:  Avg_Loss: 0.42887   Acc: 171/208 (82.212%)\n",
            "Train Epoch: 59   Avg_Loss: 0.40822   Acc: 510/624 (81.731%)\n",
            "Eval:  Avg_Loss: 0.42149   Acc: 169/208 (81.250%)\n",
            "Train Epoch: 60   Avg_Loss: 0.40925   Acc: 510/624 (81.731%)\n",
            "Eval:  Avg_Loss: 0.42824   Acc: 172/208 (82.692%)\n",
            "Train Epoch: 61   Avg_Loss: 0.40918   Acc: 509/624 (81.571%)\n",
            "Eval:  Avg_Loss: 0.42642   Acc: 167/208 (80.288%)\n",
            "Train Epoch: 62   Avg_Loss: 0.40648   Acc: 509/624 (81.571%)\n",
            "Eval:  Avg_Loss: 0.42433   Acc: 169/208 (81.250%)\n",
            "Train Epoch: 63   Avg_Loss: 0.40219   Acc: 514/624 (82.372%)\n",
            "Eval:  Avg_Loss: 0.42381   Acc: 171/208 (82.212%)\n",
            "Train Epoch: 64   Avg_Loss: 0.40523   Acc: 520/624 (83.333%)\n",
            "Eval:  Avg_Loss: 0.42318   Acc: 168/208 (80.769%)\n",
            "Train Epoch: 65   Avg_Loss: 0.41755   Acc: 509/624 (81.571%)\n",
            "Eval:  Avg_Loss: 0.43817   Acc: 172/208 (82.692%)\n",
            "Train Epoch: 66   Avg_Loss: 0.41868   Acc: 501/624 (80.288%)\n",
            "Eval:  Avg_Loss: 0.44636   Acc: 170/208 (81.731%)\n",
            "Train Epoch: 67   Avg_Loss: 0.41682   Acc: 507/624 (81.250%)\n",
            "Eval:  Avg_Loss: 0.42888   Acc: 169/208 (81.250%)\n",
            "Train Epoch: 68   Avg_Loss: 0.40640   Acc: 516/624 (82.692%)\n",
            "Eval:  Avg_Loss: 0.43572   Acc: 168/208 (80.769%)\n",
            "Train Epoch: 69   Avg_Loss: 0.41900   Acc: 509/624 (81.571%)\n",
            "Eval:  Avg_Loss: 0.44434   Acc: 169/208 (81.250%)\n",
            "Train Epoch: 70   Avg_Loss: 0.40566   Acc: 518/624 (83.013%)\n",
            "Eval:  Avg_Loss: 0.43535   Acc: 169/208 (81.250%)\n",
            "Train Epoch: 71   Avg_Loss: 0.39829   Acc: 517/624 (82.853%)\n",
            "Eval:  Avg_Loss: 0.42770   Acc: 170/208 (81.731%)\n",
            "Train Epoch: 72   Avg_Loss: 0.39635   Acc: 511/624 (81.891%)\n",
            "Eval:  Avg_Loss: 0.43308   Acc: 170/208 (81.731%)\n",
            "Train Epoch: 73   Avg_Loss: 0.40421   Acc: 517/624 (82.853%)\n",
            "Eval:  Avg_Loss: 0.43000   Acc: 172/208 (82.692%)\n",
            "Train Epoch: 74   Avg_Loss: 0.40638   Acc: 514/624 (82.372%)\n",
            "Eval:  Avg_Loss: 0.43326   Acc: 170/208 (81.731%)\n",
            "Train Epoch: 75   Avg_Loss: 0.40372   Acc: 518/624 (83.013%)\n",
            "Eval:  Avg_Loss: 0.45711   Acc: 170/208 (81.731%)\n",
            "Train Epoch: 76   Avg_Loss: 0.39968   Acc: 517/624 (82.853%)\n",
            "Eval:  Avg_Loss: 0.43540   Acc: 170/208 (81.731%)\n",
            "Train Epoch: 77   Avg_Loss: 0.39650   Acc: 514/624 (82.372%)\n",
            "Eval:  Avg_Loss: 0.43705   Acc: 172/208 (82.692%)\n",
            "Train Epoch: 78   Avg_Loss: 0.39698   Acc: 514/624 (82.372%)\n",
            "Eval:  Avg_Loss: 0.43891   Acc: 172/208 (82.692%)\n",
            "Train Epoch: 79   Avg_Loss: 0.39765   Acc: 511/624 (81.891%)\n",
            "Eval:  Avg_Loss: 0.43956   Acc: 171/208 (82.212%)\n",
            "Train Epoch: 80   Avg_Loss: 0.39385   Acc: 515/624 (82.532%)\n",
            "Eval:  Avg_Loss: 0.45060   Acc: 170/208 (81.731%)\n",
            "Train Epoch: 81   Avg_Loss: 0.39430   Acc: 515/624 (82.532%)\n",
            "Eval:  Avg_Loss: 0.43947   Acc: 169/208 (81.250%)\n",
            "Train Epoch: 82   Avg_Loss: 0.40612   Acc: 513/624 (82.212%)\n",
            "Eval:  Avg_Loss: 0.45823   Acc: 171/208 (82.212%)\n",
            "Train Epoch: 83   Avg_Loss: 0.40722   Acc: 510/624 (81.731%)\n",
            "Eval:  Avg_Loss: 0.43942   Acc: 171/208 (82.212%)\n",
            "Train Epoch: 84   Avg_Loss: 0.40911   Acc: 513/624 (82.212%)\n",
            "Eval:  Avg_Loss: 0.44499   Acc: 171/208 (82.212%)\n",
            "Train Epoch: 85   Avg_Loss: 0.40107   Acc: 515/624 (82.532%)\n",
            "Eval:  Avg_Loss: 0.44484   Acc: 169/208 (81.250%)\n",
            "Train Epoch: 86   Avg_Loss: 0.40594   Acc: 512/624 (82.051%)\n",
            "Eval:  Avg_Loss: 0.44428   Acc: 168/208 (80.769%)\n",
            "Train Epoch: 87   Avg_Loss: 0.39839   Acc: 516/624 (82.692%)\n",
            "Eval:  Avg_Loss: 0.45000   Acc: 167/208 (80.288%)\n",
            "Train Epoch: 88   Avg_Loss: 0.39760   Acc: 515/624 (82.532%)\n",
            "Eval:  Avg_Loss: 0.44433   Acc: 169/208 (81.250%)\n",
            "Train Epoch: 89   Avg_Loss: 0.39210   Acc: 520/624 (83.333%)\n",
            "Eval:  Avg_Loss: 0.45032   Acc: 170/208 (81.731%)\n",
            "Train Epoch: 90   Avg_Loss: 0.39813   Acc: 512/624 (82.051%)\n",
            "Eval:  Avg_Loss: 0.44849   Acc: 169/208 (81.250%)\n",
            "Train Epoch: 91   Avg_Loss: 0.39637   Acc: 515/624 (82.532%)\n",
            "Eval:  Avg_Loss: 0.45596   Acc: 172/208 (82.692%)\n",
            "Train Epoch: 92   Avg_Loss: 0.38893   Acc: 516/624 (82.692%)\n",
            "Eval:  Avg_Loss: 0.45417   Acc: 170/208 (81.731%)\n",
            "Train Epoch: 93   Avg_Loss: 0.38467   Acc: 515/624 (82.532%)\n",
            "Eval:  Avg_Loss: 0.45863   Acc: 168/208 (80.769%)\n",
            "Train Epoch: 94   Avg_Loss: 0.39048   Acc: 513/624 (82.212%)\n",
            "Eval:  Avg_Loss: 0.45114   Acc: 170/208 (81.731%)\n",
            "Train Epoch: 95   Avg_Loss: 0.38813   Acc: 516/624 (82.692%)\n",
            "Eval:  Avg_Loss: 0.45711   Acc: 171/208 (82.212%)\n",
            "Train Epoch: 96   Avg_Loss: 0.38667   Acc: 518/624 (83.013%)\n",
            "Eval:  Avg_Loss: 0.45385   Acc: 170/208 (81.731%)\n",
            "Train Epoch: 97   Avg_Loss: 0.39116   Acc: 511/624 (81.891%)\n",
            "Eval:  Avg_Loss: 0.46407   Acc: 171/208 (82.212%)\n",
            "Train Epoch: 98   Avg_Loss: 0.39785   Acc: 520/624 (83.333%)\n",
            "Eval:  Avg_Loss: 0.46293   Acc: 169/208 (81.250%)\n",
            "Train Epoch: 99   Avg_Loss: 0.39739   Acc: 513/624 (82.212%)\n",
            "Eval:  Avg_Loss: 0.45458   Acc: 170/208 (81.731%)\n",
            "Train Epoch: 100   Avg_Loss: 0.38889   Acc: 513/624 (82.212%)\n",
            "Eval:  Avg_Loss: 0.46075   Acc: 172/208 (82.692%)\n",
            "Train Epoch: 101   Avg_Loss: 0.38857   Acc: 517/624 (82.853%)\n",
            "Eval:  Avg_Loss: 0.45663   Acc: 173/208 (83.173%)\n",
            "Train Epoch: 102   Avg_Loss: 0.38783   Acc: 513/624 (82.212%)\n",
            "Eval:  Avg_Loss: 0.46306   Acc: 170/208 (81.731%)\n",
            "Train Epoch: 103   Avg_Loss: 0.39176   Acc: 512/624 (82.051%)\n",
            "Eval:  Avg_Loss: 0.46411   Acc: 171/208 (82.212%)\n",
            "Train Epoch: 104   Avg_Loss: 0.39346   Acc: 516/624 (82.692%)\n",
            "Eval:  Avg_Loss: 0.46475   Acc: 171/208 (82.212%)\n",
            "Train Epoch: 105   Avg_Loss: 0.38326   Acc: 512/624 (82.051%)\n",
            "Eval:  Avg_Loss: 0.47161   Acc: 169/208 (81.250%)\n",
            "Train Epoch: 106   Avg_Loss: 0.38174   Acc: 516/624 (82.692%)\n",
            "Eval:  Avg_Loss: 0.46469   Acc: 171/208 (82.212%)\n",
            "Train Epoch: 107   Avg_Loss: 0.38394   Acc: 521/624 (83.494%)\n",
            "Eval:  Avg_Loss: 0.47204   Acc: 172/208 (82.692%)\n",
            "Train Epoch: 108   Avg_Loss: 0.38673   Acc: 519/624 (83.173%)\n",
            "Eval:  Avg_Loss: 0.46619   Acc: 171/208 (82.212%)\n",
            "Train Epoch: 109   Avg_Loss: 0.40229   Acc: 517/624 (82.853%)\n",
            "Eval:  Avg_Loss: 0.46980   Acc: 170/208 (81.731%)\n",
            "Train Epoch: 110   Avg_Loss: 0.39683   Acc: 511/624 (81.891%)\n",
            "Eval:  Avg_Loss: 0.47481   Acc: 169/208 (81.250%)\n",
            "Train Epoch: 111   Avg_Loss: 0.39026   Acc: 510/624 (81.731%)\n",
            "Eval:  Avg_Loss: 0.46561   Acc: 171/208 (82.212%)\n",
            "Train Epoch: 112   Avg_Loss: 0.38644   Acc: 521/624 (83.494%)\n",
            "Eval:  Avg_Loss: 0.47036   Acc: 171/208 (82.212%)\n",
            "Train Epoch: 113   Avg_Loss: 0.38886   Acc: 517/624 (82.853%)\n",
            "Eval:  Avg_Loss: 0.47151   Acc: 169/208 (81.250%)\n",
            "Train Epoch: 114   Avg_Loss: 0.38552   Acc: 512/624 (82.051%)\n",
            "Eval:  Avg_Loss: 0.47384   Acc: 169/208 (81.250%)\n",
            "Train Epoch: 115   Avg_Loss: 0.38904   Acc: 514/624 (82.372%)\n",
            "Eval:  Avg_Loss: 0.47300   Acc: 169/208 (81.250%)\n",
            "Train Epoch: 116   Avg_Loss: 0.38195   Acc: 514/624 (82.372%)\n",
            "Eval:  Avg_Loss: 0.47524   Acc: 171/208 (82.212%)\n",
            "Train Epoch: 117   Avg_Loss: 0.38366   Acc: 515/624 (82.532%)\n",
            "Eval:  Avg_Loss: 0.47730   Acc: 171/208 (82.212%)\n",
            "Train Epoch: 118   Avg_Loss: 0.38097   Acc: 516/624 (82.692%)\n",
            "Eval:  Avg_Loss: 0.47502   Acc: 169/208 (81.250%)\n",
            "Train Epoch: 119   Avg_Loss: 0.38685   Acc: 513/624 (82.212%)\n",
            "Eval:  Avg_Loss: 0.46858   Acc: 170/208 (81.731%)\n",
            "Train Epoch: 120   Avg_Loss: 0.39254   Acc: 511/624 (81.891%)\n",
            "Eval:  Avg_Loss: 0.47322   Acc: 172/208 (82.692%)\n",
            "Train Epoch: 121   Avg_Loss: 0.38639   Acc: 517/624 (82.853%)\n",
            "Eval:  Avg_Loss: 0.47981   Acc: 169/208 (81.250%)\n",
            "Train Epoch: 122   Avg_Loss: 0.38181   Acc: 514/624 (82.372%)\n",
            "Eval:  Avg_Loss: 0.47960   Acc: 170/208 (81.731%)\n",
            "Train Epoch: 123   Avg_Loss: 0.37575   Acc: 521/624 (83.494%)\n",
            "Eval:  Avg_Loss: 0.47569   Acc: 168/208 (80.769%)\n",
            "Train Epoch: 124   Avg_Loss: 0.37844   Acc: 519/624 (83.173%)\n",
            "Eval:  Avg_Loss: 0.48359   Acc: 171/208 (82.212%)\n",
            "Train Epoch: 125   Avg_Loss: 0.38245   Acc: 520/624 (83.333%)\n",
            "Eval:  Avg_Loss: 0.48717   Acc: 170/208 (81.731%)\n",
            "Train Epoch: 126   Avg_Loss: 0.38219   Acc: 519/624 (83.173%)\n",
            "Eval:  Avg_Loss: 0.49363   Acc: 171/208 (82.212%)\n",
            "Train Epoch: 127   Avg_Loss: 0.38133   Acc: 518/624 (83.013%)\n",
            "Eval:  Avg_Loss: 0.48894   Acc: 171/208 (82.212%)\n",
            "Train Epoch: 128   Avg_Loss: 0.37846   Acc: 519/624 (83.173%)\n",
            "Eval:  Avg_Loss: 0.47781   Acc: 172/208 (82.692%)\n",
            "Train Epoch: 129   Avg_Loss: 0.38410   Acc: 520/624 (83.333%)\n",
            "Eval:  Avg_Loss: 0.48064   Acc: 169/208 (81.250%)\n",
            "Train Epoch: 130   Avg_Loss: 0.39485   Acc: 515/624 (82.532%)\n",
            "Eval:  Avg_Loss: 0.48419   Acc: 170/208 (81.731%)\n",
            "Train Epoch: 131   Avg_Loss: 0.39391   Acc: 521/624 (83.494%)\n",
            "Eval:  Avg_Loss: 0.48755   Acc: 171/208 (82.212%)\n",
            "Train Epoch: 132   Avg_Loss: 0.38814   Acc: 521/624 (83.494%)\n",
            "Eval:  Avg_Loss: 0.48588   Acc: 171/208 (82.212%)\n",
            "Train Epoch: 133   Avg_Loss: 0.38853   Acc: 515/624 (82.532%)\n",
            "Eval:  Avg_Loss: 0.48816   Acc: 171/208 (82.212%)\n",
            "Train Epoch: 134   Avg_Loss: 0.38070   Acc: 514/624 (82.372%)\n",
            "Eval:  Avg_Loss: 0.49310   Acc: 171/208 (82.212%)\n",
            "Train Epoch: 135   Avg_Loss: 0.37832   Acc: 522/624 (83.654%)\n",
            "Eval:  Avg_Loss: 0.48492   Acc: 169/208 (81.250%)\n",
            "Train Epoch: 136   Avg_Loss: 0.37384   Acc: 526/624 (84.295%)\n",
            "Eval:  Avg_Loss: 0.48653   Acc: 169/208 (81.250%)\n",
            "Train Epoch: 137   Avg_Loss: 0.37664   Acc: 519/624 (83.173%)\n",
            "Eval:  Avg_Loss: 0.48998   Acc: 168/208 (80.769%)\n",
            "Train Epoch: 138   Avg_Loss: 0.38527   Acc: 516/624 (82.692%)\n",
            "Eval:  Avg_Loss: 0.48929   Acc: 170/208 (81.731%)\n",
            "Train Epoch: 139   Avg_Loss: 0.38506   Acc: 518/624 (83.013%)\n",
            "Eval:  Avg_Loss: 0.47239   Acc: 172/208 (82.692%)\n",
            "Train Epoch: 140   Avg_Loss: 0.38131   Acc: 521/624 (83.494%)\n",
            "Eval:  Avg_Loss: 0.48484   Acc: 168/208 (80.769%)\n",
            "Train Epoch: 141   Avg_Loss: 0.38662   Acc: 517/624 (82.853%)\n",
            "Eval:  Avg_Loss: 0.48624   Acc: 169/208 (81.250%)\n",
            "Train Epoch: 142   Avg_Loss: 0.37384   Acc: 522/624 (83.654%)\n",
            "Eval:  Avg_Loss: 0.49836   Acc: 170/208 (81.731%)\n",
            "Train Epoch: 143   Avg_Loss: 0.37637   Acc: 525/624 (84.135%)\n",
            "Eval:  Avg_Loss: 0.50417   Acc: 172/208 (82.692%)\n",
            "Train Epoch: 144   Avg_Loss: 0.37678   Acc: 520/624 (83.333%)\n",
            "Eval:  Avg_Loss: 0.48521   Acc: 171/208 (82.212%)\n",
            "Train Epoch: 145   Avg_Loss: 0.37119   Acc: 522/624 (83.654%)\n",
            "Eval:  Avg_Loss: 0.48616   Acc: 171/208 (82.212%)\n",
            "Train Epoch: 146   Avg_Loss: 0.39708   Acc: 512/624 (82.051%)\n",
            "Eval:  Avg_Loss: 0.49776   Acc: 169/208 (81.250%)\n",
            "Train Epoch: 147   Avg_Loss: 0.39203   Acc: 513/624 (82.212%)\n",
            "Eval:  Avg_Loss: 0.47176   Acc: 171/208 (82.212%)\n",
            "Train Epoch: 148   Avg_Loss: 0.38906   Acc: 515/624 (82.532%)\n",
            "Eval:  Avg_Loss: 0.48023   Acc: 168/208 (80.769%)\n",
            "Train Epoch: 149   Avg_Loss: 0.37759   Acc: 522/624 (83.654%)\n",
            "Eval:  Avg_Loss: 0.48255   Acc: 170/208 (81.731%)\n",
            "Train Epoch: 150   Avg_Loss: 0.38240   Acc: 521/624 (83.494%)\n",
            "Eval:  Avg_Loss: 0.48253   Acc: 169/208 (81.250%)\n",
            "Train Epoch: 151   Avg_Loss: 0.39826   Acc: 505/624 (80.929%)\n",
            "Eval:  Avg_Loss: 0.49161   Acc: 170/208 (81.731%)\n",
            "Train Epoch: 152   Avg_Loss: 0.37877   Acc: 521/624 (83.494%)\n",
            "Eval:  Avg_Loss: 0.50028   Acc: 172/208 (82.692%)\n",
            "Train Epoch: 153   Avg_Loss: 0.37353   Acc: 523/624 (83.814%)\n",
            "Eval:  Avg_Loss: 0.48653   Acc: 169/208 (81.250%)\n",
            "Train Epoch: 154   Avg_Loss: 0.37839   Acc: 523/624 (83.814%)\n",
            "Eval:  Avg_Loss: 0.48913   Acc: 168/208 (80.769%)\n",
            "Train Epoch: 155   Avg_Loss: 0.38338   Acc: 516/624 (82.692%)\n",
            "Eval:  Avg_Loss: 0.48712   Acc: 170/208 (81.731%)\n",
            "Train Epoch: 156   Avg_Loss: 0.38387   Acc: 518/624 (83.013%)\n",
            "Eval:  Avg_Loss: 0.49015   Acc: 172/208 (82.692%)\n",
            "Train Epoch: 157   Avg_Loss: 0.37845   Acc: 523/624 (83.814%)\n",
            "Eval:  Avg_Loss: 0.49846   Acc: 171/208 (82.212%)\n",
            "Train Epoch: 158   Avg_Loss: 0.37164   Acc: 521/624 (83.494%)\n",
            "Eval:  Avg_Loss: 0.50854   Acc: 170/208 (81.731%)\n",
            "Train Epoch: 159   Avg_Loss: 0.37748   Acc: 521/624 (83.494%)\n",
            "Eval:  Avg_Loss: 0.50451   Acc: 168/208 (80.769%)\n",
            "Train Epoch: 160   Avg_Loss: 0.37527   Acc: 523/624 (83.814%)\n",
            "Eval:  Avg_Loss: 0.49816   Acc: 168/208 (80.769%)\n",
            "Train Epoch: 161   Avg_Loss: 0.37377   Acc: 523/624 (83.814%)\n",
            "Eval:  Avg_Loss: 0.49367   Acc: 170/208 (81.731%)\n",
            "Train Epoch: 162   Avg_Loss: 0.36904   Acc: 525/624 (84.135%)\n",
            "Eval:  Avg_Loss: 0.50005   Acc: 169/208 (81.250%)\n",
            "Train Epoch: 163   Avg_Loss: 0.37076   Acc: 523/624 (83.814%)\n",
            "Eval:  Avg_Loss: 0.49820   Acc: 171/208 (82.212%)\n",
            "Train Epoch: 164   Avg_Loss: 0.37008   Acc: 522/624 (83.654%)\n",
            "Eval:  Avg_Loss: 0.50544   Acc: 169/208 (81.250%)\n",
            "Train Epoch: 165   Avg_Loss: 0.37163   Acc: 521/624 (83.494%)\n",
            "Eval:  Avg_Loss: 0.50034   Acc: 170/208 (81.731%)\n",
            "Train Epoch: 166   Avg_Loss: 0.36886   Acc: 522/624 (83.654%)\n",
            "Eval:  Avg_Loss: 0.50970   Acc: 168/208 (80.769%)\n",
            "Train Epoch: 167   Avg_Loss: 0.36718   Acc: 524/624 (83.974%)\n",
            "Eval:  Avg_Loss: 0.50303   Acc: 169/208 (81.250%)\n",
            "Train Epoch: 168   Avg_Loss: 0.36708   Acc: 525/624 (84.135%)\n",
            "Eval:  Avg_Loss: 0.50767   Acc: 171/208 (82.212%)\n",
            "Train Epoch: 169   Avg_Loss: 0.37033   Acc: 520/624 (83.333%)\n",
            "Eval:  Avg_Loss: 0.50631   Acc: 169/208 (81.250%)\n",
            "Train Epoch: 170   Avg_Loss: 0.36698   Acc: 523/624 (83.814%)\n",
            "Eval:  Avg_Loss: 0.50424   Acc: 169/208 (81.250%)\n",
            "Train Epoch: 171   Avg_Loss: 0.36680   Acc: 520/624 (83.333%)\n",
            "Eval:  Avg_Loss: 0.51217   Acc: 171/208 (82.212%)\n",
            "Train Epoch: 172   Avg_Loss: 0.37526   Acc: 516/624 (82.692%)\n",
            "Eval:  Avg_Loss: 0.51014   Acc: 169/208 (81.250%)\n",
            "Train Epoch: 173   Avg_Loss: 0.37635   Acc: 519/624 (83.173%)\n",
            "Eval:  Avg_Loss: 0.50927   Acc: 169/208 (81.250%)\n",
            "Train Epoch: 174   Avg_Loss: 0.37074   Acc: 522/624 (83.654%)\n",
            "Eval:  Avg_Loss: 0.50298   Acc: 171/208 (82.212%)\n",
            "Train Epoch: 175   Avg_Loss: 0.36476   Acc: 525/624 (84.135%)\n",
            "Eval:  Avg_Loss: 0.50790   Acc: 172/208 (82.692%)\n",
            "Train Epoch: 176   Avg_Loss: 0.37111   Acc: 522/624 (83.654%)\n",
            "Eval:  Avg_Loss: 0.51212   Acc: 169/208 (81.250%)\n",
            "Train Epoch: 177   Avg_Loss: 0.36752   Acc: 525/624 (84.135%)\n",
            "Eval:  Avg_Loss: 0.51685   Acc: 168/208 (80.769%)\n",
            "Train Epoch: 178   Avg_Loss: 0.36881   Acc: 523/624 (83.814%)\n",
            "Eval:  Avg_Loss: 0.50662   Acc: 169/208 (81.250%)\n",
            "Train Epoch: 179   Avg_Loss: 0.36421   Acc: 520/624 (83.333%)\n",
            "Eval:  Avg_Loss: 0.51863   Acc: 168/208 (80.769%)\n",
            "Train Epoch: 180   Avg_Loss: 0.36252   Acc: 524/624 (83.974%)\n",
            "Eval:  Avg_Loss: 0.50716   Acc: 169/208 (81.250%)\n",
            "Train Epoch: 181   Avg_Loss: 0.36596   Acc: 524/624 (83.974%)\n",
            "Eval:  Avg_Loss: 0.51442   Acc: 171/208 (82.212%)\n",
            "Train Epoch: 182   Avg_Loss: 0.37902   Acc: 516/624 (82.692%)\n",
            "Eval:  Avg_Loss: 0.51332   Acc: 168/208 (80.769%)\n",
            "Train Epoch: 183   Avg_Loss: 0.40299   Acc: 516/624 (82.692%)\n",
            "Eval:  Avg_Loss: 0.50850   Acc: 168/208 (80.769%)\n",
            "Train Epoch: 184   Avg_Loss: 0.38647   Acc: 512/624 (82.051%)\n",
            "Eval:  Avg_Loss: 0.52350   Acc: 169/208 (81.250%)\n",
            "Train Epoch: 185   Avg_Loss: 0.37944   Acc: 521/624 (83.494%)\n",
            "Eval:  Avg_Loss: 0.50939   Acc: 168/208 (80.769%)\n",
            "Train Epoch: 186   Avg_Loss: 0.37407   Acc: 520/624 (83.333%)\n",
            "Eval:  Avg_Loss: 0.51817   Acc: 169/208 (81.250%)\n",
            "Train Epoch: 187   Avg_Loss: 0.36530   Acc: 522/624 (83.654%)\n",
            "Eval:  Avg_Loss: 0.52084   Acc: 167/208 (80.288%)\n",
            "Train Epoch: 188   Avg_Loss: 0.36405   Acc: 522/624 (83.654%)\n",
            "Eval:  Avg_Loss: 0.51671   Acc: 167/208 (80.288%)\n",
            "Train Epoch: 189   Avg_Loss: 0.36728   Acc: 524/624 (83.974%)\n",
            "Eval:  Avg_Loss: 0.51107   Acc: 169/208 (81.250%)\n",
            "Train Epoch: 190   Avg_Loss: 0.37604   Acc: 516/624 (82.692%)\n",
            "Eval:  Avg_Loss: 0.52035   Acc: 169/208 (81.250%)\n",
            "Train Epoch: 191   Avg_Loss: 0.36126   Acc: 521/624 (83.494%)\n",
            "Eval:  Avg_Loss: 0.52123   Acc: 170/208 (81.731%)\n",
            "Train Epoch: 192   Avg_Loss: 0.36393   Acc: 527/624 (84.455%)\n",
            "Eval:  Avg_Loss: 0.52217   Acc: 168/208 (80.769%)\n",
            "Train Epoch: 193   Avg_Loss: 0.36305   Acc: 524/624 (83.974%)\n",
            "Eval:  Avg_Loss: 0.51992   Acc: 168/208 (80.769%)\n",
            "Train Epoch: 194   Avg_Loss: 0.36684   Acc: 528/624 (84.615%)\n",
            "Eval:  Avg_Loss: 0.52003   Acc: 169/208 (81.250%)\n",
            "Train Epoch: 195   Avg_Loss: 0.37260   Acc: 523/624 (83.814%)\n",
            "Eval:  Avg_Loss: 0.50852   Acc: 170/208 (81.731%)\n",
            "Train Epoch: 196   Avg_Loss: 0.36328   Acc: 520/624 (83.333%)\n",
            "Eval:  Avg_Loss: 0.52284   Acc: 169/208 (81.250%)\n",
            "Train Epoch: 197   Avg_Loss: 0.37474   Acc: 521/624 (83.494%)\n",
            "Eval:  Avg_Loss: 0.52682   Acc: 168/208 (80.769%)\n",
            "Train Epoch: 198   Avg_Loss: 0.39030   Acc: 510/624 (81.731%)\n",
            "Eval:  Avg_Loss: 0.51866   Acc: 171/208 (82.212%)\n",
            "Train Epoch: 199   Avg_Loss: 0.38625   Acc: 513/624 (82.212%)\n",
            "Eval:  Avg_Loss: 0.52349   Acc: 168/208 (80.769%)\n",
            "Train Epoch: 200   Avg_Loss: 0.37261   Acc: 525/624 (84.135%)\n",
            "Eval:  Avg_Loss: 0.51579   Acc: 168/208 (80.769%)\n",
            "\n",
            "\n",
            "\n",
            "Optimization ended.\n",
            "\n"
          ]
        }
      ]
    },
    {
      "cell_type": "markdown",
      "metadata": {
        "id": "86OZRLrjavmd"
      },
      "source": [
        "## Interpreting the output of the neural network"
      ]
    },
    {
      "cell_type": "code",
      "metadata": {
        "id": "mklvQruYavme",
        "outputId": "604a2860-1a2c-4c6e-9521-cf5ff42ad5ac",
        "colab": {
          "base_uri": "https://localhost:8080/"
        }
      },
      "source": [
        "# Activate the evaluation mode\n",
        "neural_net = neural_net.eval()\n",
        "\n",
        "# Select the first 10 data points of the validation set\n",
        "data, target = val_dataset[0:10]\n",
        "data = data.to(device)\n",
        "\n",
        "# Executing the neural network\n",
        "output = neural_net(data)   # equivalent to neural_net.forward(data)\n",
        "\n",
        "# Transform the output into a probability distribution with a softmax function\n",
        "output_proba = F.softmax(output, dim=1)\n",
        "\n",
        "# Print the probability\n",
        "print(output_proba)"
      ],
      "execution_count": 30,
      "outputs": [
        {
          "output_type": "stream",
          "name": "stdout",
          "text": [
            "tensor([[8.5397e-01, 1.4603e-01],\n",
            "        [1.4655e-02, 9.8534e-01],\n",
            "        [8.5195e-01, 1.4805e-01],\n",
            "        [6.4305e-01, 3.5695e-01],\n",
            "        [9.9955e-01, 4.5440e-04],\n",
            "        [8.8740e-01, 1.1260e-01],\n",
            "        [1.9396e-01, 8.0604e-01],\n",
            "        [5.1963e-02, 9.4804e-01],\n",
            "        [8.3235e-01, 1.6765e-01],\n",
            "        [9.9999e-01, 6.1513e-06]], device='cuda:0', grad_fn=<SoftmaxBackward0>)\n"
          ]
        }
      ]
    },
    {
      "cell_type": "code",
      "metadata": {
        "id": "RvIEqKt0qjeT",
        "outputId": "0d6e271c-6de5-47d2-ab18-df76fd959a6b",
        "colab": {
          "base_uri": "https://localhost:8080/"
        }
      },
      "source": [
        "# For each example, retrieve the class with the highest probability.\n",
        "_, prediction = torch.max(output_proba, dim=1)\n",
        "\n",
        "print(\"Model predictions\")\n",
        "print(prediction)\n",
        "\n",
        "print(\"Targets\")\n",
        "print(target)"
      ],
      "execution_count": 31,
      "outputs": [
        {
          "output_type": "stream",
          "name": "stdout",
          "text": [
            "Model predictions\n",
            "tensor([0, 1, 0, 0, 0, 0, 1, 1, 0, 0], device='cuda:0')\n",
            "Targets\n",
            "tensor([0, 0, 0, 1, 1, 0, 1, 1, 0, 0])\n"
          ]
        }
      ]
    },
    {
      "cell_type": "markdown",
      "metadata": {
        "id": "V11J3Jihavmy"
      },
      "source": [
        "## Visualizing of the learning curve"
      ]
    },
    {
      "cell_type": "markdown",
      "metadata": {
        "id": "j9_9C_tXavmz"
      },
      "source": [
        "Learning curves allow detecting problems that may have occurred during learning, for example, unstable learning, underfitting, or overfitting."
      ]
    },
    {
      "cell_type": "code",
      "metadata": {
        "id": "iNcbpl0tavm0",
        "outputId": "6700d05b-4f4a-47ea-997f-c9d944d76743",
        "colab": {
          "base_uri": "https://localhost:8080/",
          "height": 454
        }
      },
      "source": [
        "x = list(range(len(train_losses)))\n",
        "ax = plt.subplot(111)\n",
        "plt.plot(x, train_losses, 'r', label=\"Train\")\n",
        "plt.plot(x, val_losses, 'g', label=\"Validation\")\n",
        "plt.xlabel('epoch')\n",
        "plt.ylabel('Cross-entropy loss')\n",
        "plt.grid()\n",
        "leg = plt.legend(loc='best', ncol=2, mode=\"expand\", shadow=False, fancybox=False)\n",
        "leg.get_frame().set_alpha(0.99)"
      ],
      "execution_count": 32,
      "outputs": [
        {
          "output_type": "display_data",
          "data": {
            "text/plain": [
              "<Figure size 640x480 with 1 Axes>"
            ],
            "image/png": "[encoded data removed]"
          },
          "metadata": {}
        }
      ]
    },
    {
      "cell_type": "code",
      "metadata": {
        "id": "g-VGQ2pMavm4",
        "outputId": "26a0e2f5-075f-4b72-886d-bda6ec06baeb",
        "colab": {
          "base_uri": "https://localhost:8080/",
          "height": 449
        }
      },
      "source": [
        "x = list(range(len(train_accuracies)))\n",
        "ax = plt.subplot(111)\n",
        "plt.plot(x, train_accuracies, 'r', label=\"Train\")\n",
        "plt.plot(x, val_accuracies, 'g', label=\"Validation\")\n",
        "plt.xlabel('epoch')\n",
        "plt.ylabel('Accuracy')\n",
        "plt.grid()\n",
        "leg = plt.legend(loc='best', ncol=2, mode=\"expand\", shadow=False, fancybox=False)\n",
        "leg.get_frame().set_alpha(0.99)"
      ],
      "execution_count": 33,
      "outputs": [
        {
          "output_type": "display_data",
          "data": {
            "text/plain": [
              "<Figure size 640x480 with 1 Axes>"
            ],
            "image/png": "[encoded data removed]"
          },
          "metadata": {}
        }
      ]
    },
    {
      "cell_type": "markdown",
      "metadata": {
        "id": "8oktkpkuqjet"
      },
      "source": [
        "### Exercise 6\n",
        "\n",
        "*   What do you observe in the previous graphs?\n",
        "*   At which epoch is it interesting to retrieve the model parameters for inference?"
      ]
    },
    {
      "cell_type": "markdown",
      "metadata": {
        "id": "qwhRt39yzug-"
      },
      "source": [
        "it's learning but begins to overfit at around 50 epoch\n"
      ]
    },
    {
      "cell_type": "markdown",
      "metadata": {
        "id": "XK_eUsq3avm8"
      },
      "source": [
        "## Evaluating the model"
      ]
    },
    {
      "cell_type": "markdown",
      "metadata": {
        "id": "4UREO5elavm8"
      },
      "source": [
        "We can finally evaluate our model on our test set and compare with the validation set."
      ]
    },
    {
      "cell_type": "code",
      "metadata": {
        "id": "3UZPvzjxlusr",
        "outputId": "961bc525-a865-4c11-ffd4-4a81682f9668",
        "colab": {
          "base_uri": "https://localhost:8080/"
        }
      },
      "source": [
        "valid_loss, valid_acc = evaluate(neural_net, val_loader, device)"
      ],
      "execution_count": 35,
      "outputs": [
        {
          "output_type": "stream",
          "name": "stdout",
          "text": [
            "Eval:  Avg_Loss: 0.51579   Acc: 168/208 (80.769%)\n"
          ]
        }
      ]
    },
    {
      "cell_type": "code",
      "metadata": {
        "id": "pPWvDM-qavm8",
        "outputId": "2be294e2-63cd-4e18-ddcf-33a28dc46e68",
        "colab": {
          "base_uri": "https://localhost:8080/"
        }
      },
      "source": [
        "test_loss, test_acc = evaluate(neural_net, test_loader, device)"
      ],
      "execution_count": 34,
      "outputs": [
        {
          "output_type": "stream",
          "name": "stdout",
          "text": [
            "Eval:  Avg_Loss: 0.53935   Acc: 171/209 (81.818%)\n"
          ]
        }
      ]
    },
    {
      "cell_type": "markdown",
      "metadata": {
        "id": "EvP_-KUwqjez"
      },
      "source": [
        "### Exercise 7\n",
        "\n",
        "* Compare validation and test metrics.\n",
        "* Do you think the chosen features are informative of the fate of the passenger?"
      ]
    },
    {
      "cell_type": "markdown",
      "metadata": {
        "id": "Ov4CKUFh5tun"
      },
      "source": [
        "... # To complete.\n",
        "\n",
        "\n"
      ]
    },
    {
      "cell_type": "code",
      "metadata": {
        "id": "rueFjis6YlLN"
      },
      "source": [],
      "execution_count": null,
      "outputs": []
    }
  ]
}